{
 "cells": [
  {
   "cell_type": "markdown",
   "metadata": {},
   "source": [
    "# Q1 \n",
    "\n",
    "归一化植被指数 NDVI(Normalized difference vegetation index) 是最常用的评价绿色植被生长情况的指标之一，其计算公式如下\n",
    "\n",
    "$$\n",
    "{\\displaystyle NDVI={\\frac {(NIR-RED)}{(NIR+RED)}}}\n",
    "$$\n",
    "\n",
    "其中：\n",
    "\n",
    "- NIR为近红外波段；RED为红光波段\n",
    "- NDVI值介于-1到1之间，当RED=0时，有最大值1；反之，当NIR=0时，有最小值-1\n",
    "\n",
    "参考数据中给出了一幅TM影像的部分，共有七个波段，分别对应TM影像的前7个波段：\n",
    "- TM1: 蓝光\n",
    "- TM2: 绿光\n",
    "- TM3: 红光\n",
    "- TM4: 近红外\n",
    "- TM5: 短红外\n",
    "- TM6: 热红外\n",
    "- TM7: 短波红外\n",
    "\n",
    "请根据参考数据，计算影像范围内的NDVI指数，输出为ndvi.tiff文件"
   ]
  },
  {
   "cell_type": "code",
   "execution_count": null,
   "metadata": {},
   "outputs": [],
   "source": [
    "import matplotlib.pyplot as plt\n",
    "from osgeo import gdal\n",
    "\n",
    "dataset = gdal.Open('data/hangzhouTM_2010_sample.tif',gdal.GA_ReadOnly)\n",
    "TM3 = dataset.GetRasterBand(3)\n",
    "TM4 = dataset.GetRasterBand(4)\n",
    "\n",
    "TM3_data = TM3.ReadAsArray(buf_type='float32')\n",
    "TM4_data = TM4.ReadAsArray(buf_type='float32')\n",
    "\n",
    "ndvi = (TM4_data - TM3_data) / (TM3_data + TM4_data)\n",
    "plt.imshow(ndvi, cmap='Greens')"
   ]
  }
 ],
 "metadata": {
  "interpreter": {
   "hash": "ab098b425d86cf93d9d19d6a85d4597b16239c1e6f1aa5525c545e53afc99424"
  },
  "kernelspec": {
   "display_name": "Python 3.7.13 ('devgis')",
   "language": "python",
   "name": "python3"
  },
  "language_info": {
   "codemirror_mode": {
    "name": "ipython",
    "version": 3
   },
   "file_extension": ".py",
   "mimetype": "text/x-python",
   "name": "python",
   "nbconvert_exporter": "python",
   "pygments_lexer": "ipython3",
   "version": "3.7.13"
  },
  "orig_nbformat": 4
 },
 "nbformat": 4,
 "nbformat_minor": 2
}
