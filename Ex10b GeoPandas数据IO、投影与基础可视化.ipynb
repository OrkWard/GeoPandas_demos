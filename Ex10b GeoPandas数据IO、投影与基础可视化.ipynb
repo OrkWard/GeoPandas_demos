{
 "cells": [
  {
   "cell_type": "markdown",
   "id": "d7a781c6",
   "metadata": {},
   "source": [
    "# Q1\n",
    "\n",
    "参考数据中给出了全国区划.gpkg（包含“市”图层）和zhejiang_pop.csv两个文件,\n",
    "\n",
    "请根据这两个文件，输出一个描述浙江省各市人口数据的geojson矢量文件。\n",
    "\n",
    "> _HINT_ :  GeoPandas继承了Pandas的Contact, Join, Merge等方法"
   ]
  },
  {
   "cell_type": "code",
   "execution_count": null,
   "id": "46807c1c",
   "metadata": {},
   "outputs": [],
   "source": [
    "import geopandas as gpd "
   ]
  },
  {
   "cell_type": "code",
   "execution_count": null,
   "id": "c7165823",
   "metadata": {},
   "outputs": [],
   "source": []
  },
  {
   "cell_type": "markdown",
   "id": "ab1e319b",
   "metadata": {},
   "source": [
    "# Q2\n",
    "\n",
    "基于Q1的结果，选择合适的投影坐标系，制作“浙江省各市人口密度图”，要求包含一定的制图要素"
   ]
  },
  {
   "cell_type": "code",
   "execution_count": null,
   "id": "80b7c035",
   "metadata": {},
   "outputs": [],
   "source": [
    "import pyproj\n",
    "import matplotlib.pyplot as plt"
   ]
  },
  {
   "cell_type": "code",
   "execution_count": null,
   "id": "cf9b9643",
   "metadata": {},
   "outputs": [],
   "source": []
  }
 ],
 "metadata": {
  "kernelspec": {
   "display_name": "Python [conda env:devgis]",
   "language": "python",
   "name": "conda-env-devgis-py"
  },
  "language_info": {
   "codemirror_mode": {
    "name": "ipython",
    "version": 3
   },
   "file_extension": ".py",
   "mimetype": "text/x-python",
   "name": "python",
   "nbconvert_exporter": "python",
   "pygments_lexer": "ipython3",
   "version": "3.7.12"
  }
 },
 "nbformat": 4,
 "nbformat_minor": 5
}
