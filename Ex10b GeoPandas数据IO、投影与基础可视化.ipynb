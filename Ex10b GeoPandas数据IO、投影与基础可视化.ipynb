{
 "cells": [
  {
   "cell_type": "markdown",
   "id": "d7a781c6",
   "metadata": {},
   "source": [
    "# Q1\n",
    "\n",
    "参考数据中给出了全国区划.gpkg（包含“市”图层）和zhejiang_pop.csv两个文件,\n",
    "\n",
    "请根据这两个文件，输出一个描述浙江省各市人口数据的geojson矢量文件。\n",
    "\n",
    "> _HINT_ :  GeoPandas继承了Pandas的Contact, Join, Merge等方法"
   ]
  },
  {
   "cell_type": "code",
   "execution_count": null,
   "id": "46807c1c",
   "metadata": {},
   "outputs": [],
   "source": [
    "import geopandas as gpd \n",
    "import pandas as pd"
   ]
  },
  {
   "cell_type": "code",
   "execution_count": null,
   "id": "c7165823",
   "metadata": {},
   "outputs": [],
   "source": [
    "# 读取全国区划，获取浙江部分\n",
    "data_convince = gpd.read_file('data/全国区划.gpkg', layer='市', encoding=\"utf-8\")\n",
    "data_zhejiang = data_convince.loc[(data_convince['省'] == '浙江省')]\n",
    "\n",
    "# 读取人口，并合并\n",
    "data_population = gpd.read_file('data/zhejiang_pop.csv', encoding=\"gb2312\")\n",
    "data_zhejiang_population = pd.merge(data_zhejiang, data_population, left_on='市', right_on='地级市')\n",
    "data_zhejiang_population.rename(columns={\"geometry_x\": \"geometry\"}, inplace=True)\n",
    "zhejiand_pop = data_zhejiang_population.loc[:, [True, True, True, True, True, True, False, True, False]]"
   ]
  },
  {
   "cell_type": "code",
   "execution_count": null,
   "id": "4b897de0",
   "metadata": {},
   "outputs": [],
   "source": [
    "# 处理结果\n",
    "zhejiand_pop"
   ]
  },
  {
   "cell_type": "code",
   "execution_count": null,
   "id": "8952337f",
   "metadata": {},
   "outputs": [],
   "source": [
    "zhejiand_pop.to_file('data/zhejiang_pop.geojson', driver='GeoJSON', encoding='utf-8')"
   ]
  },
  {
   "cell_type": "markdown",
   "id": "ab1e319b",
   "metadata": {},
   "source": [
    "# Q2\n",
    "\n",
    "基于Q1的结果，选择合适的投影坐标系，制作“浙江省各市人口密度图”，要求包含一定的制图要素"
   ]
  },
  {
   "cell_type": "code",
   "execution_count": null,
   "id": "80b7c035",
   "metadata": {},
   "outputs": [],
   "source": [
    "import pyproj\n",
    "import matplotlib.pyplot as plt"
   ]
  },
  {
   "cell_type": "code",
   "execution_count": null,
   "metadata": {},
   "outputs": [],
   "source": [
    "zhejiand_pop.to_crs(pyproj.CRS.from_user_input('EPSG:4236'))\n",
    "zhejiand_pop['人口数'] = zhejiand_pop['人口数'].map(lambda x: int(x))\n",
    "zhejiand_pop['area'] = zhejiand_pop.to_crs(epsg=4326).area * 10000\n",
    "zhejiand_pop['人口密度'] = zhejiand_pop['人口数'] / zhejiand_pop['area']"
   ]
  },
  {
   "cell_type": "code",
   "execution_count": null,
   "id": "cf9b9643",
   "metadata": {},
   "outputs": [],
   "source": [
    "%matplotlib widget\n",
    "plt.rcParams['font.family'] = 'SimHei'\n",
    "fig = plt.figure(figsize=(7, 8))\n",
    "ax = fig.add_axes((0.1, 0.1, 0.8, 0.8))\n",
    "ax.set_title('浙江省各市人口分布图')\n",
    "zhejiand_pop.plot(ax = ax, edgecolor = 'black',\n",
    "                  linewidth = 0.5,\n",
    "                  column = '人口密度',\n",
    "                  legend = True,\n",
    "                  legend_kwds = {\n",
    "                      'title': '人口密度',\n",
    "                      'loc': 'lower right',\n",
    "                      'ncol': 1,\n",
    "                  },\n",
    "                  cmap = 'GnBu',\n",
    "                  scheme = 'NaturalBreaks',\n",
    "                  k = 5,\n",
    "                 )\n",
    "zhejiand_pop.apply(lambda x: ax.annotate(text=x['市'],\n",
    "                                          xy=x.geometry.centroid.coords[0], \n",
    "                                          ha='center',\n",
    "                                          color = '#ef883b'\n",
    "                                        ), axis=1)"
   ]
  }
 ],
 "metadata": {
  "interpreter": {
   "hash": "101cdaff5bf9416723b06a3b23d60e492c554c4a9c01236fb2d2991459f897c4"
  },
  "kernelspec": {
   "display_name": "Python [conda env:devgis]",
   "language": "python",
   "name": "python3"
  },
  "language_info": {
   "codemirror_mode": {
    "name": "ipython",
    "version": 3
   },
   "file_extension": ".py",
   "mimetype": "text/x-python",
   "name": "python",
   "nbconvert_exporter": "python",
   "pygments_lexer": "ipython3",
   "version": "3.9.12"
  }
 },
 "nbformat": 4,
 "nbformat_minor": 5
}
