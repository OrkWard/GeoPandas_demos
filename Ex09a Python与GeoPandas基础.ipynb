{
 "cells": [
  {
   "cell_type": "markdown",
   "id": "f36489f2",
   "metadata": {},
   "source": [
    "# Python基础\n",
    "\n",
    "Python是一种简单易上手的语言，代码的可读性较好，接下来使用几个例子来展示Python的基础语法"
   ]
  },
  {
   "cell_type": "code",
   "execution_count": null,
   "id": "76ae41d0",
   "metadata": {},
   "outputs": [],
   "source": [
    "# 这是一个单行注释\n",
    "'''\n",
    "这是一个多行注释\n",
    "这是一个多行注释\n",
    "'''"
   ]
  },
  {
   "cell_type": "code",
   "execution_count": null,
   "id": "6407fb95",
   "metadata": {},
   "outputs": [],
   "source": [
    "# 输出函数print和字符串操作\n",
    "str = \"this is a python string!\"\n",
    "print(str)\n",
    "print(str[8:])\n",
    "print(str[10:16])\n",
    "print(str[-7:-1])"
   ]
  },
  {
   "cell_type": "code",
   "execution_count": null,
   "id": "2fe70898",
   "metadata": {},
   "outputs": [],
   "source": [
    "# if-else\n",
    "a = 4\n",
    "if a>0:\n",
    "    print(\"a is positive\")\n",
    "elif a<0:\n",
    "    print(\"a is negative\")\n",
    "else:\n",
    "    print(\"a is zero\")"
   ]
  },
  {
   "cell_type": "code",
   "execution_count": null,
   "id": "7a1794a2",
   "metadata": {},
   "outputs": [],
   "source": [
    "# for循环-1\n",
    "for i in range(6):\n",
    "    print(i)"
   ]
  },
  {
   "cell_type": "code",
   "execution_count": null,
   "id": "4ce7477e",
   "metadata": {},
   "outputs": [],
   "source": [
    "# for循环-2\n",
    "zju_campus_list = ['zjg','yq','xx','zj','hjc','zs','hn']\n",
    "for campus in zju_campus_list:\n",
    "    print(campus, 'campus, ZJU')"
   ]
  },
  {
   "cell_type": "code",
   "execution_count": null,
   "id": "1b73a841",
   "metadata": {},
   "outputs": [],
   "source": [
    "# while循环-1\n",
    "a = 1\n",
    "while a<3:\n",
    "    print(a)\n",
    "    a = a+1"
   ]
  },
  {
   "cell_type": "code",
   "execution_count": null,
   "id": "bb6fce6a",
   "metadata": {},
   "outputs": [],
   "source": [
    "# while循环-2\n",
    "a = 1\n",
    "while a<3:\n",
    "    print(a)\n",
    "    a = a+1\n",
    "else:\n",
    "    print(a)"
   ]
  },
  {
   "cell_type": "code",
   "execution_count": null,
   "id": "f93dfde7",
   "metadata": {},
   "outputs": [],
   "source": [
    "# try-catch,（实际上在python里是try-except）\n",
    "a = 5\n",
    "b = 1\n",
    "try:\n",
    "    print(a/b)\n",
    "except ZeroDivisionError:\n",
    "    print('denominator cannot be zero')\n",
    "else:\n",
    "    print('没有异常时会执行这部分代码')\n",
    "finally:\n",
    "    print('无论有无异常，最终都会执行这部分代码')"
   ]
  },
  {
   "cell_type": "markdown",
   "id": "34704f60",
   "metadata": {},
   "source": [
    "## Python数据结构"
   ]
  },
  {
   "cell_type": "markdown",
   "id": "d0a6b040",
   "metadata": {},
   "source": [
    "### 列表（List）\n",
    "\n",
    "Python的列表类似于C中的数组，只不过列表不需要预先设定大小，可以通过函数进行更新\n",
    "\n",
    "和C数组一样，Python列表的索引自0开始，不过，Python列表的索引值也可以取复数，用于从尾端开始取成员\n",
    "\n",
    "Python中使用方括号`[]`代表列表"
   ]
  },
  {
   "cell_type": "code",
   "execution_count": null,
   "id": "ac31ade8",
   "metadata": {},
   "outputs": [],
   "source": [
    "zju_campus = ['zjg','yq','xx','zj','hjc']\n",
    "print(zju_campus)\n",
    "print(zju_campus[1])\n",
    "print(zju_campus[-1])\n",
    "print(zju_campus[1:3])\n",
    "\n",
    "print('\\n')\n",
    "zju_campus.append('zs')\n",
    "print(zju_campus)\n",
    "print(zju_campus[-1])\n",
    "\n",
    "print('\\n')\n",
    "del zju_campus[-1]\n",
    "print(zju_campus)\n",
    "\n",
    "print('\\n')\n",
    "zju_campus += ['zs','hn']\n",
    "print(zju_campus)"
   ]
  },
  {
   "cell_type": "code",
   "execution_count": null,
   "id": "09a64464",
   "metadata": {},
   "outputs": [],
   "source": [
    "list = [['a', 'b', 'c'], [1, 2, 3]]\n",
    "print(list[0])\n",
    "print(list[1][1])"
   ]
  },
  {
   "cell_type": "markdown",
   "id": "3c5ad6cb",
   "metadata": {},
   "source": [
    "### 元组（Tuple）\n",
    "\n",
    "元组是内部元素不可修改的List（但是仍可以截取、拼接）\n",
    "\n",
    "Python中使用圆括号`()`代表元组"
   ]
  },
  {
   "cell_type": "code",
   "execution_count": null,
   "id": "201e4dd5",
   "metadata": {},
   "outputs": [],
   "source": [
    "tup1 = ('SUCCESS', 'FAIL', 'RUNNING')\n",
    "print(tup1[0])\n",
    "print(tup1[-1])\n",
    "\n",
    "tup2 = ('YES','NO')\n",
    "tup3 = tup1+tup2\n",
    "del tup1, tup2\n",
    "print(tup3)\n",
    "\n",
    "try:\n",
    "    tup3[0]='UNKNOWN'\n",
    "except:\n",
    "    print('cannot change tuple element')\n",
    "else:\n",
    "    print('can change tuple element')"
   ]
  },
  {
   "cell_type": "markdown",
   "id": "c333a96f",
   "metadata": {},
   "source": [
    "### 集合（Set）\n",
    "\n",
    "集合是一个无序不重复的元素序列\n",
    "\n",
    "Python中使用花括号`{}`代表集合"
   ]
  },
  {
   "cell_type": "code",
   "execution_count": null,
   "id": "684bfd00",
   "metadata": {},
   "outputs": [],
   "source": [
    "zju_campus = {'zjg','yq','xx','zj','hjc','zju'}\n",
    "zju_campus_2 = {'zs','hn','zju'}\n",
    "print(zju_campus | zju_campus_2)    #并\n",
    "print(zju_campus - zju_campus_2)    #差\n",
    "print(zju_campus & zju_campus_2)    #交\n",
    "print(zju_campus ^ zju_campus_2)    #异或\n",
    "\n",
    "# 输出是无序的\n",
    "for campus in zju_campus:\n",
    "    print(campus)\n",
    "\n",
    "zju_campus.add('zs')\n",
    "print(zju_campus)\n",
    "zju_campus.remove('zs')\n",
    "print(zju_campus)\n",
    "zju_campus.update({'zs','hn'})\n",
    "print(zju_campus)\n",
    "zju_campus.discard('zs')\n",
    "print(zju_campus)"
   ]
  },
  {
   "cell_type": "code",
   "execution_count": null,
   "id": "b86e8f68",
   "metadata": {},
   "outputs": [],
   "source": [
    "#remove只能用于移除存在的元素\n",
    "zju_campus = {'zjg','yq','xx','zj','hjc'}\n",
    "campus='hn'\n",
    "try:\n",
    "    zju_campus.remove(campus)\n",
    "except:\n",
    "    print(campus, 'is not in the set')\n",
    "else:\n",
    "    print('success')\n",
    "\n",
    "#discard操作不存在的元素时不会报错\n",
    "try:\n",
    "    zju_campus.discard(campus)\n",
    "except:\n",
    "    print(campus, 'is not in the set')\n",
    "else:\n",
    "    print('success')"
   ]
  },
  {
   "cell_type": "markdown",
   "id": "35ae6ee2",
   "metadata": {},
   "source": [
    "### 字典（Dict）\n",
    "\n",
    "字典是一个以“键值对”形式存储的数据结构，其中键是唯一且不可变的（字符串、数字）、值可以是任何数据类型且可变\n",
    "\n",
    "Python中使用花括号`{}`代表字典"
   ]
  },
  {
   "cell_type": "code",
   "execution_count": null,
   "id": "6b515be0",
   "metadata": {},
   "outputs": [],
   "source": [
    "course_info = {'name':'GIS应用开发', 'id':'83120630', 'credit':2.5}\n",
    "print('课程名称:', course_info['name'])\n",
    "\n",
    "# 添加信息\n",
    "course_info['exam']='开卷考'\n",
    "print('课程考核形式1:',course_info['exam'])\n",
    "\n",
    "#修改信息\n",
    "course_info['exam']='小组大程'\n",
    "print('课程考核形式2:',course_info['exam'])"
   ]
  },
  {
   "cell_type": "markdown",
   "id": "8dfcbb34",
   "metadata": {},
   "source": [
    "注意： 字典和集合都用花括号表示，但是Python默认空花括号`{}`的数据类型为空字典"
   ]
  },
  {
   "cell_type": "code",
   "execution_count": null,
   "id": "5b65a4e0",
   "metadata": {},
   "outputs": [],
   "source": [
    "set_or_dic = {}\n",
    "print(type(set_or_dic))\n",
    "\n",
    "#如果需要创建空集合，可以使用set()\n",
    "my_set = set()\n",
    "print(type(my_set))"
   ]
  },
  {
   "cell_type": "markdown",
   "id": "e3845d8b",
   "metadata": {},
   "source": [
    "## Python包和模块\n",
    "\n",
    "Pyhton最大的优势在于其丰富和强大的第三方库（包），只需要在程序里导入所需的包或模块，就可以借助其中的函数来完成自己的程序开发\n",
    "\n",
    "- 模块是一种以.py为后缀的文件，在.py文件中定义了一些常量和函数\n",
    "\n",
    "- 包由模块文件构成，为模块提供了结构化管理\n",
    "\n",
    "让我们从下面一段代码看起："
   ]
  },
  {
   "cell_type": "code",
   "execution_count": null,
   "id": "5f2216b8",
   "metadata": {},
   "outputs": [],
   "source": [
    "import numpy as np\n",
    "x = np.zeros(5) \n",
    "print(x)"
   ]
  },
  {
   "cell_type": "markdown",
   "id": "c23d96c5",
   "metadata": {},
   "source": [
    "NumPy库支持了大规模的的高维数组与矩阵运算（效率比Python原生数组更高），因此是一个常用的包。\n",
    "\n",
    "这段代码开头使用`import`将NumPy包导入到程序中，并使用`as`命名为`np`。\n",
    "\n",
    "因此在后续的程序中，可以直接使用`np`来调用NumPy包中的函数，比如`np.zeros(5)`生成并返回了一个长度为5的全0数组"
   ]
  },
  {
   "cell_type": "code",
   "execution_count": null,
   "id": "4077a54a",
   "metadata": {},
   "outputs": [],
   "source": [
    "from shapely import geometry\n",
    "p=geometry.Point(120.074,30.304)\n",
    "print('p is a %s variable, values %s' %(type(p), p))"
   ]
  },
  {
   "cell_type": "markdown",
   "id": "60288bdf",
   "metadata": {},
   "source": [
    "有的时候我们可能不需要一整个包里的内容，而只需要其中的一个模块，那么可以使用`from ... import ...`来单独导入模块\n",
    "\n",
    "在上面的代码块中，我们使用了shapely包中的geometry模块来生成一个地理点，因此只需要单独导入这个模块即可"
   ]
  },
  {
   "cell_type": "markdown",
   "id": "023dbef1",
   "metadata": {},
   "source": [
    "# GeoPandas\n",
    "\n",
    "GeoPandas，从名字上看是 Geo + Pandas，那么什么是Pandas呢？\n",
    "\n",
    "Pandas是一个强大的分析结构化数据的工具集，可用于数据挖掘和数据分析，也可以用于实现数据清洗\n",
    "\n",
    "GeoPandas在Pandas的基础上增加了地理数据支持，可以对笛卡尔坐标下的几何对象进行分析和处理"
   ]
  },
  {
   "cell_type": "markdown",
   "id": "8fbbeb5f",
   "metadata": {},
   "source": [
    "## GeoPandas数据结构"
   ]
  },
  {
   "cell_type": "markdown",
   "id": "6bf0ac8f",
   "metadata": {},
   "source": [
    "### GeoSeries\n",
    "\n",
    "GeoSeries 延续了Pandas中Series的概念，是一个一维向量，向量的每个元素都表示一个几何对象。同时，每个元素都有一个索引标签index。\n",
    "\n",
    "Pandas中的Series数据结构具体可见：https://www.runoob.com/pandas/pandas-series.html \n",
    "\n",
    "或查询官方文档：https://pandas.pydata.org/docs/reference/series.html"
   ]
  },
  {
   "cell_type": "code",
   "execution_count": null,
   "id": "7d90ab16",
   "metadata": {},
   "outputs": [],
   "source": [
    "from shapely import geometry\n",
    "import geopandas as gpd\n",
    "import pyproj"
   ]
  },
  {
   "cell_type": "markdown",
   "id": "3cbfd071",
   "metadata": {},
   "source": [
    "#### 基础几何对象\n",
    "\n",
    "GeoPandas借助shapely包的geometry模块，实现了几类基础几何对象，具体包括：\n",
    "\n",
    "- 点：Points\n",
    "- 多点：MultiPoint\n",
    "- 线： LineString\n",
    "- 多线：MultiLineString\n",
    "- 多边形：Polygon （有孔/无孔）\n",
    "- 多多边形：MultiPolygon\n",
    "- 线环：LinerRing"
   ]
  },
  {
   "cell_type": "code",
   "execution_count": null,
   "id": "04f980ac",
   "metadata": {},
   "outputs": [],
   "source": [
    "# 建立一个由点数据组成的Series：\n",
    "# shapely.geometry.Point(x, y)\n",
    "gpd.GeoSeries([geometry.Point(120.0847,30.3048),\n",
    "               geometry.Point(120.0849,30.3036),\n",
    "               geometry.Point(120.0852,30.3027),\n",
    "               geometry.Point(120.0852,30.3015)],\n",
    "              index=['E1', 'E2', 'E3', 'E4'])"
   ]
  },
  {
   "cell_type": "code",
   "execution_count": null,
   "id": "f6397a3d",
   "metadata": {},
   "outputs": [],
   "source": [
    "# 建立一个多点数据组成的Series：\n",
    "# shapely.geometry.MultiPoint([(x1, y1), (x2, y2), ...])\n",
    "gpd.GeoSeries([geometry.MultiPoint([(120.0847,30.3048), (120.0849,30.3036), (120.0852,30.3027), (120.0852,30.3015)]),\n",
    "               geometry.MultiPoint([(120.0801,30.3050), (120.0801,30.3036)])],\n",
    "              index=['E', 'W'])"
   ]
  },
  {
   "cell_type": "code",
   "execution_count": null,
   "id": "f5c7673b",
   "metadata": {},
   "outputs": [],
   "source": [
    "# 建立一个线数据组成的Series：\n",
    "# shapely.geometry.LineString([(x1, y1), (x2, y2), ...])\n",
    "gpd.GeoSeries([geometry.LineString([(120.0847,30.3048), (120.0849,30.3036), (120.0852,30.3027), (120.0852,30.3015)]),\n",
    "               geometry.LineString([(120.0801,30.3050), (120.0801,30.3036)])],\n",
    "              index=['E', 'W'])"
   ]
  },
  {
   "cell_type": "code",
   "execution_count": null,
   "id": "8d75b8c3",
   "metadata": {},
   "outputs": [],
   "source": [
    "# 建立一个多线数据组成的Series：\n",
    "# shapely.geometry.MultiLineString([LineString1, LineString2])\n",
    "# 注意方括号的层级\n",
    "gpd.GeoSeries([geometry.MultiLineString([[(120.0847,30.3048), (120.0849,30.3036), (120.0852,30.3027), (120.0852,30.3015)],\n",
    "                                        [(120.0801,30.3050), (120.0801,30.3036)]])],\n",
    "              index=['EW'])"
   ]
  },
  {
   "cell_type": "code",
   "execution_count": null,
   "id": "04397591",
   "metadata": {},
   "outputs": [],
   "source": [
    "# 建立一个多边形数据组成的Series：\n",
    "# shapely.geometry.Polygon([(x1, y1), (x2, y2),...])\n",
    "gpd.GeoSeries([geometry.Polygon([(120.0832,30.3064), (120.0842,30.3064), (120.0842,30.3058), (120.0836,30.30579), (120.0836,30.3060), (120.0832,30.3060)])],\n",
    "              index=['a'])"
   ]
  },
  {
   "cell_type": "code",
   "execution_count": null,
   "id": "cf5fdfad",
   "metadata": {},
   "outputs": [],
   "source": [
    "# 建立一个多边形(有孔)数据组成的Series：\n",
    "# shapely.geometry.Polygon(polygonExteriors, [interiorCoords])\n",
    "gpd.GeoSeries([geometry.Polygon([(120.0832,30.3064), (120.0842,30.3064), (120.0842,30.3058), (120.0836,30.30579), (120.0836,30.3060), (120.0832,30.3060)],\n",
    "                               [((120.0833,30.3063),(120.0836,30.3063),(120.0837,30.3061),(120.0833,30.3061)),\n",
    "                                ((120.0841,30.3060),(120.0841,30.3059),(120.0839,30.3059))])],\n",
    "              index=['a'])"
   ]
  },
  {
   "cell_type": "code",
   "execution_count": null,
   "id": "daf0be16",
   "metadata": {},
   "outputs": [],
   "source": [
    "# jupyter notebook内可以直接用展示GeoSeries中的几何元素（只需要加上索引就行），所以我们可以来看一下有孔多边形和普通多边形的区别\n",
    "polygon1=gpd.GeoSeries([geometry.Polygon([(120.0832,30.3064), (120.0842,30.3064), (120.0842,30.3058), (120.0836,30.30579), (120.0836,30.3060), (120.0832,30.3060)])],\n",
    "              index=['a'])\n",
    "polygon2=gpd.GeoSeries([geometry.Polygon([(120.0832,30.3064), (120.0842,30.3064), (120.0842,30.3058), (120.0836,30.30579), (120.0836,30.3060), (120.0832,30.3060)],\n",
    "                               [((120.0833,30.3063),(120.0836,30.3063),(120.0837,30.3061),(120.0833,30.3061)),\n",
    "                                ((120.0841,30.3060),(120.0841,30.3059),(120.0839,30.3059))])],\n",
    "              index=['a'])"
   ]
  },
  {
   "cell_type": "code",
   "execution_count": null,
   "id": "6e19b173",
   "metadata": {},
   "outputs": [],
   "source": [
    "polygon1['a']"
   ]
  },
  {
   "cell_type": "code",
   "execution_count": null,
   "id": "39decbee",
   "metadata": {},
   "outputs": [],
   "source": [
    "polygon2['a']"
   ]
  },
  {
   "cell_type": "code",
   "execution_count": null,
   "id": "9199272d",
   "metadata": {},
   "outputs": [],
   "source": [
    "# 建立一个多多边形数据组成的Series：\n",
    "# shapely.geometry.MultiPolygon([Polygon1, Polygon2])\n",
    "gpd.GeoSeries([geometry.MultiPolygon([geometry.Polygon([(120.0833,30.3063),(120.0836,30.3063),(120.0837,30.3061),(120.0833,30.3061)]),\n",
    "                                      geometry.Polygon([(120.0841,30.3060),(120.0841,30.3059),(120.0839,30.3059)])])],\n",
    "              index=['a'])"
   ]
  },
  {
   "cell_type": "code",
   "execution_count": null,
   "id": "ea834439",
   "metadata": {},
   "outputs": [],
   "source": [
    "gpd.GeoSeries([geometry.MultiPolygon([geometry.Polygon([(120.0833,30.3063),(120.0836,30.3063),(120.0837,30.3061),(120.0833,30.3061)]),\n",
    "                                      geometry.Polygon([(120.0841,30.3060),(120.0841,30.3059),(120.0839,30.3059)])])],\n",
    "              index=['a'])['a']"
   ]
  },
  {
   "cell_type": "code",
   "execution_count": null,
   "id": "fcb76802",
   "metadata": {},
   "outputs": [],
   "source": [
    "# 建立一个线环数据组成的Series：\n",
    "# shapely.geometry.LinearRing([(x1, y1), (x2, y2),...])\n",
    "gpd.GeoSeries([geometry.LinearRing([(120.0832,30.3064), (120.0842,30.3064), (120.0842,30.3058), (120.0836,30.30579), (120.0836,30.3060), (120.0832,30.3060)])],\n",
    "              index=['a'])"
   ]
  },
  {
   "cell_type": "code",
   "execution_count": null,
   "id": "68f41e45",
   "metadata": {},
   "outputs": [],
   "source": [
    "gpd.GeoSeries([geometry.LinearRing([(120.0832,30.3064), (120.0842,30.3064), (120.0842,30.3058), (120.0836,30.30579), (120.0836,30.3060), (120.0832,30.3060)])],\n",
    "              index=['a'])['a']"
   ]
  },
  {
   "cell_type": "markdown",
   "id": "855f7bc8",
   "metadata": {},
   "source": [
    "#### 地理属性\n",
    "\n",
    "GeoSeries还具有很多地理属性"
   ]
  },
  {
   "cell_type": "code",
   "execution_count": null,
   "id": "9d218d3f",
   "metadata": {},
   "outputs": [],
   "source": [
    "wcb= gpd.GeoSeries([geometry.Polygon([(120.080333663507,30.3045016913564),(120.079924488781,30.3045019419015),(120.079896478723,30.3045019590058),(120.079896466114,30.3044864102435),(120.079814337389,30.3044864603606),(120.079814367212,30.3045232742226),(120.079792596854,30.3045232874988),(120.079792628998,30.3045629780214),(120.079602757634,30.3045630936574),(120.079602844082,30.3046700911871),(120.079792947486,30.3046699754093),(120.079793140675,30.3049085136371),(120.079603036811,30.304908629416),(120.079603128427,30.30502201982),(120.079794272119,30.3050219034067),(120.079794336312,30.3051011626678),(120.079873346717,30.305101114466),(120.079873371175,30.3051312828687),(120.079925614743,30.3051312509703),(120.079925590269,30.3051010825676),(120.079948461702,30.3051010685964),(120.080002917545,30.3051010353156),(120.080166431657,30.3051009352472),(120.08032994473,30.3051008349752),(120.080329968119,30.3051295212975),(120.080383456099,30.3051294884524),(120.080383432694,30.3051008021301),(120.080600636454,30.3051006685282),(120.080600561304,30.3050088084309),(120.080600494705,30.3049274013718),(120.080600484669,30.304915133393),(120.080380416157,30.3049152687538),(120.08038019056,30.304638750309),(120.080600258454,30.3046386149497),(120.080600248418,30.3046263469704),(120.08060016152,30.3045201243098),(120.080380093891,30.3045202596685),(120.080380078719,30.3045016628547),(120.080333663507,30.3045016913564)],\n",
    "                                     [((120.080002766886,30.3049155001777),(120.080002542349,30.3046389817303),(120.08033317855,30.3046387791772),(120.080333404016,30.3049152976223),(120.080002766886,30.3049155001777))]),\n",
    "                    geometry.Polygon([(120.079890461883,30.303570792452),(120.079866767446,30.3035708069149),(120.079866749609,30.303548801223),(120.079825383115,30.3035488264626),(120.079825400943,30.3035708321545),(120.079734833554,30.303570887368),(120.079734901951,30.303655406544),(120.079529305337,30.3036555316517),(120.079529397428,30.3037696220741),(120.079734994281,30.3037694969659),(120.079735188114,30.3040090130571),(120.079529590761,30.3040091381665),(120.079529682773,30.3041231275524),(120.079735280363,30.3041230024424),(120.079735329848,30.3041841493044),(120.079761883335,30.3041841331226),(120.07976208674,30.3044353876707),(120.07996440919,30.3044352641961),(120.079964372053,30.3043895073372),(120.079974242044,30.3043895013057),(120.079974126995,30.3042477637391),(120.079964288205,30.3042477697515),(120.079964218327,30.3041616710812),(120.080017436525,30.3041616385512),(120.080286970675,30.304161473464),(120.080286988878,30.3041838120127),(120.080330024197,30.3041837856026),(120.080330005984,30.3041614470538),(120.080552315231,30.3041613104005),(120.080552217206,30.3040414125423),(120.08032990823,30.3040415491949),(120.080329707899,30.303795837778),(120.08037261206,30.3037958114346),(120.080372565536,30.3037387779517),(120.080551969693,30.3037386676442),(120.080551832115,30.303570387025),(120.080532349076,30.3035703990161),(120.080372428264,30.3035704973318),(120.080329524201,30.303570523675),(120.08032950626,30.3035485179834),(120.080286471218,30.3035485443929),(120.08028648915,30.3035705500846),(120.080099316408,30.303570664783),(120.079890461883,30.303570792452)],\n",
    "                                     [((120.079951300016,30.3037693649924),(120.080017117913,30.3037693247644),(120.080017093282,30.3037389957892),(120.080286626275,30.3037388307048),(120.080286872973,30.304041575605),(120.080017339151,30.3040417406914),(120.079953853934,30.3040417794946),(120.079953801758,30.3039774844512),(120.079972129884,30.3039774732519),(120.079972012331,30.3038326452276),(120.079951351376,30.3038326578521),(120.079951300016,30.3037693649924))]),\n",
    "                    geometry.MultiPolygon([geometry.Polygon([(120.079629405208,30.3022725719918),(120.079629385719,30.3022484563826),(120.079616176809,30.3022484644192),(120.079616169137,30.3022389693603),(120.079592701649,30.3022389836352),(120.079592709319,30.302248478694),(120.079581432989,30.3022484855517),(120.079581461036,30.3022832120651),(120.07955642481,30.3022832272874),(120.079556416242,30.3022726163833),(120.079503749002,30.3022726483899),(120.079503757563,30.3022832592941),(120.079503819052,30.3023594651239),(120.079538853994,30.302359443835),(120.07953888592,30.3023989945521),(120.079520531059,30.3023990057065),(120.079520571541,30.3024491664252),(120.079520662627,30.3025620291683),(120.079520753712,30.3026748910075),(120.079520790772,30.3027208102492),(120.07952082782,30.3027667159598),(120.079520875798,30.3028261633584),(120.079504195631,30.302826173493),(120.079504254927,30.302899660515),(120.079556922503,30.3028996285076),(120.079556912378,30.3028870890054),(120.079581948758,30.3028870737827),(120.079581983818,30.3029304816946),(120.07962993688,30.3029304525247),(120.079629911933,30.302899584115),(120.079725173482,30.3028995261151),(120.079861622444,30.3028994429176),(120.079998070365,30.3028993595783),(120.080033028569,30.3028993382038),(120.080033053643,30.3029302066132),(120.080074742148,30.3029301811113),(120.080074717062,30.3028993127019),(120.080208158496,30.3028992309833),(120.080208098675,30.3028257439625),(120.080208080757,30.3028037328559),(120.080208014796,30.3027227028287),(120.080146854941,30.3027227402993),(120.080074573601,30.3027227845468),(120.079997927041,30.3027228314229),(120.079861479364,30.3027229147615),(120.079725030647,30.3027229979585),(120.079629769268,30.3027230559579),(120.07962973029,30.3026748247427),(120.079724991622,30.3026747667434),(120.07972485113,30.3025011323814),(120.079629589966,30.3025011903804),(120.079629547869,30.302449100161),(120.079677178426,30.3024490711703),(120.079724808983,30.3024490421622),(120.07977243954,30.3024490131368),(120.079967855082,30.3024488938717),(120.080074350965,30.3024488287528),(120.080074278059,30.3023591173183),(120.080074263165,30.3023407893114),(120.080074187909,30.3022481849765),(120.080032499692,30.3022482104777),(120.080032536516,30.3022935478947),(120.079997578527,30.3022935692688),(120.079997561297,30.3022723474608),(120.079861113205,30.3022724307985),(120.079724666151,30.3022725139934),(120.079629405208,30.3022725719918)]),\n",
    "                                           geometry.Polygon([(120.081093585443,30.3022822837954),(120.08109357671,30.3022716728916),(120.081093556863,30.3022475572833),(120.081043791106,30.3022475881117),(120.081043810941,30.3022717037201),(120.081012888613,30.3022717228661),(120.08095110737,30.3022717610969),(120.080751063971,30.3022718846854),(120.080645970676,30.3022719494904),(120.080645950938,30.3022478338818),(120.08060344769,30.3022478600671),(120.080603523443,30.3023404644008),(120.080603538436,30.3023587924075),(120.080603611824,30.3024485038408),(120.080698160821,30.3024484455721),(120.080751208641,30.3024484128498),(120.080951252399,30.3024482892604),(120.081043956136,30.3024482318832),(120.081043998981,30.3025003221008),(120.080951295195,30.3025003794781),(120.080951437848,30.3026740138348),(120.081044141798,30.3026739564571),(120.081044181469,30.3027221876707),(120.080951477474,30.3027222450484),(120.080825514021,30.3027223229065),(120.080603835931,30.3027224596312),(120.08054322186,30.3027224969509),(120.080488859856,30.3027225303973),(120.080488944029,30.3028255715305),(120.080466085599,30.3028255855875),(120.080466145613,30.3028990726078),(120.080603980341,30.3028989877841),(120.080604005593,30.3029298561931),(120.080646509135,30.302929830007),(120.08064648387,30.3028989615981),(120.08069852977,30.3028989295143),(120.080825658827,30.3028988510584),(120.080951622506,30.3028987731998),(120.081044326667,30.3028987158216),(120.081044352057,30.3029295842303),(120.081094118158,30.302929553401),(120.081094092752,30.3028986849924),(120.081175757535,30.3028986343614),(120.081175696992,30.3028251473424),(120.08114884759,30.3028251639942),(120.081148801967,30.3027697686405),(120.081148723005,30.3026738916494),(120.081148691487,30.3026356227593),(120.081148660865,30.3025984408484),(120.081148629348,30.302560171958),(120.081148550387,30.3024642958658),(120.081148495793,30.3023980063594),(120.081093680711,30.3023980403378),(120.081093648161,30.3023584896223),(120.081175312496,30.3023584389924),(120.081175240973,30.302271622262),(120.081117866513,30.3022716578379),(120.081117875249,30.3022822687416),(120.081093585443,30.3022822837954)]),\n",
    "                                           geometry.Polygon([(120.080521094471,30.302100669625),(120.080341878341,30.3021007797712),(120.080146349137,30.3021008996636),(120.080146497147,30.3022828672428),(120.080146632104,30.3024487845058),(120.080207791788,30.3024487470356),(120.080207750956,30.3023985863178),(120.080274936027,30.3023985451232),(120.080342121098,30.3023985038941),(120.080342088849,30.3023589531778),(120.080465704464,30.3023588772293),(120.080465777726,30.302448588663),(120.080542997921,30.3024485411601),(120.080542924589,30.3023588297266),(120.080542909607,30.3023405017199),(120.080521290471,30.3023405150237),(120.080521094471,30.302100669625)])\n",
    "                                          ])\n",
    "                   ],\n",
    "                   crs='EPSG:4326',\n",
    "                   index=['w1','w2','w4'])\n",
    "wcb"
   ]
  },
  {
   "cell_type": "code",
   "execution_count": null,
   "id": "0d042f4c",
   "metadata": {},
   "outputs": [],
   "source": [
    "# 这组数据长这样：\n",
    "\n",
    "%matplotlib widget\n",
    "wcb.plot()"
   ]
  },
  {
   "cell_type": "code",
   "execution_count": null,
   "id": "ba5f4250",
   "metadata": {},
   "outputs": [],
   "source": [
    "# GeoSeries的area属性记录了GeoSeries中每个元素的面积，面积的单位和投影坐标的的设定相关，此处暂不展开\n",
    "wcb.to_crs(crs='EPSG:32651').area"
   ]
  },
  {
   "cell_type": "code",
   "execution_count": null,
   "id": "fda9c5a9",
   "metadata": {},
   "outputs": [],
   "source": [
    "# GeoSeries的length属性记录了GeoSeries中每个元素的边长，边长的单位和投影坐标的的设定相关，此处暂不展开\n",
    "wcb.to_crs(crs='EPSG:32651').length"
   ]
  },
  {
   "cell_type": "code",
   "execution_count": null,
   "id": "280061f6",
   "metadata": {},
   "outputs": [],
   "source": [
    "# GeoSeries的geom_type属性记录了GeoSeries中每个元素的几何类型\n",
    "wcb.geom_type"
   ]
  },
  {
   "cell_type": "code",
   "execution_count": null,
   "id": "d81940c4",
   "metadata": {},
   "outputs": [],
   "source": [
    "# GeoSeries的exterior属性记录了几何元素的外边界（LINERING类型，只有Polygon类型元素有外边界，其他类型的元素为None）\n",
    "ww = gpd.GeoSeries([geometry.MultiPoint([(120.0801,30.3050), (120.0801,30.3036)]),\n",
    "                    geometry.LineString([(120.0801,30.3050), (120.0801,30.3036)])],index=['wp','wl'])\n",
    "wcb.append(ww).exterior\n",
    "\n",
    "# 还有对应的interiors属性，只有有孔多边形有这个属性"
   ]
  },
  {
   "cell_type": "code",
   "execution_count": null,
   "id": "5d7873f4",
   "metadata": {},
   "outputs": [],
   "source": [
    "# GeoSeries的boundary属性记录了几何元素的低维边界（多边形→线环，线→点，点→None）\n",
    "\n",
    "ww = gpd.GeoSeries([geometry.MultiPoint([(120.0801,30.3050), (120.0801,30.3036)]),\n",
    "                    geometry.LineString([(120.0801,30.3050), (120.0801,30.3036)])],index=['wp','wl'])\n",
    "%matplotlib widget\n",
    "wcb.append(ww).exterior.plot()"
   ]
  },
  {
   "cell_type": "code",
   "execution_count": null,
   "id": "802b68b0",
   "metadata": {},
   "outputs": [],
   "source": [
    "# GeoSeries的centroid属性记录了几何元素的几何中心, 使用centroid属性时, 为确保精度建议使用投影坐标系\n",
    "\n",
    "ww = gpd.GeoSeries([geometry.MultiPoint([(120.0801,30.3050), (120.0801,30.3036)]),\n",
    "                    geometry.LineString([(120.0801,30.3050), (120.0801,30.3036)])],crs='EPSG:4326',index=['wp','wl'])\n",
    "%matplotlib widget\n",
    "ax = wcb.append(ww).to_crs(crs='EPSG:32651').plot()\n",
    "wcb.append(ww).to_crs(crs='EPSG:32651').centroid.plot(ax=ax,color='Red')"
   ]
  },
  {
   "cell_type": "code",
   "execution_count": null,
   "id": "1da23e0f",
   "metadata": {},
   "outputs": [],
   "source": [
    "# GeoSeries的convex_hull和envelope属性分别记录了几何元素的凸包和外包矩形\n",
    "\n",
    "w2 = gpd.GeoSeries(geometry.Polygon([(120.079890461883,30.303570792452),(120.079866767446,30.3035708069149),(120.079866749609,30.303548801223),(120.079825383115,30.3035488264626),(120.079825400943,30.3035708321545),(120.079734833554,30.303570887368),(120.079734901951,30.303655406544),(120.079529305337,30.3036555316517),(120.079529397428,30.3037696220741),(120.079734994281,30.3037694969659),(120.079735188114,30.3040090130571),(120.079529590761,30.3040091381665),(120.079529682773,30.3041231275524),(120.079735280363,30.3041230024424),(120.079735329848,30.3041841493044),(120.079761883335,30.3041841331226),(120.07976208674,30.3044353876707),(120.07996440919,30.3044352641961),(120.079964372053,30.3043895073372),(120.079974242044,30.3043895013057),(120.079974126995,30.3042477637391),(120.079964288205,30.3042477697515),(120.079964218327,30.3041616710812),(120.080017436525,30.3041616385512),(120.080286970675,30.304161473464),(120.080286988878,30.3041838120127),(120.080330024197,30.3041837856026),(120.080330005984,30.3041614470538),(120.080552315231,30.3041613104005),(120.080552217206,30.3040414125423),(120.08032990823,30.3040415491949),(120.080329707899,30.303795837778),(120.08037261206,30.3037958114346),(120.080372565536,30.3037387779517),(120.080551969693,30.3037386676442),(120.080551832115,30.303570387025),(120.080532349076,30.3035703990161),(120.080372428264,30.3035704973318),(120.080329524201,30.303570523675),(120.08032950626,30.3035485179834),(120.080286471218,30.3035485443929),(120.08028648915,30.3035705500846),(120.080099316408,30.303570664783),(120.079890461883,30.303570792452)],\n",
    "                                     [((120.079951300016,30.3037693649924),(120.080017117913,30.3037693247644),(120.080017093282,30.3037389957892),(120.080286626275,30.3037388307048),(120.080286872973,30.304041575605),(120.080017339151,30.3040417406914),(120.079953853934,30.3040417794946),(120.079953801758,30.3039774844512),(120.079972129884,30.3039774732519),(120.079972012331,30.3038326452276),(120.079951351376,30.3038326578521),(120.079951300016,30.3037693649924))]))\n",
    "\n",
    "ax=w2.plot()\n",
    "w2.convex_hull.plot(ax=ax,alpha=0.4)\n",
    "w2.envelope.plot(ax=ax,alpha=0.2)"
   ]
  },
  {
   "cell_type": "markdown",
   "id": "00300381",
   "metadata": {},
   "source": [
    "### GeoDataFrame\n",
    "\n",
    "GeoDataFrame 延续了Pandas中GeoDataFrame的概念，是一个含有GeoSeries字段（称为矢量列）的数据表，因而可以基于DataFrame进行各类地理处理和计算  \n",
    "\n",
    "Pandas中的dataframe数据结构具体可见：https://www.runoob.com/pandas/pandas-dataframe.html  \n",
    "\n",
    "或查询官方文档：https://pandas.pydata.org/docs/reference/frame.html  "
   ]
  },
  {
   "cell_type": "markdown",
   "id": "030b0b11",
   "metadata": {},
   "source": [
    "#### 基础概念"
   ]
  },
  {
   "cell_type": "code",
   "execution_count": null,
   "id": "36a674f0",
   "metadata": {},
   "outputs": [],
   "source": [
    "# 定义并初始化一个GeoDataFrame相对比较灵活，下面是一种定义方法：\n",
    "\n",
    "# 初始化几何数据的GeoSeries\n",
    "w4GS = gpd.GeoSeries([geometry.Point(120.079629405208,30.3022725719918),\n",
    "                      geometry.Point(120.079629385719,30.3022484563826),\n",
    "                      geometry.Point(120.079616176809,30.3022484644192),\n",
    "                      geometry.Point(120.079616169137,30.3022389693603)])\n",
    "# 初始化普通数据，这一步也有很多方法，可以参考pandas.Dataframe的初始化方法\n",
    "w4data = {'temp':[23.1, 22.5, 23.8, 21.1], 'hum':[69, 72, 66, 70]}\n",
    "# “组装”成GeoDataFrame\n",
    "w4geodf = gpd.GeoDataFrame(data=w4data, geometry=w4GS)"
   ]
  },
  {
   "cell_type": "code",
   "execution_count": null,
   "id": "6b27ae8a",
   "metadata": {},
   "outputs": [],
   "source": [
    "w4geodf"
   ]
  },
  {
   "cell_type": "code",
   "execution_count": null,
   "id": "42db2b23",
   "metadata": {},
   "outputs": [],
   "source": [
    "w4geodf.geom_type"
   ]
  },
  {
   "cell_type": "code",
   "execution_count": null,
   "id": "4947e7c4",
   "metadata": {},
   "outputs": [],
   "source": [
    "# 可以尝试用别的形式来初始化GeoDataFrame\n",
    "\n",
    "# 如下是使用包含Series的字典构造GeoDataFrame的过程\n",
    "\n",
    "data = {'area':wcb.to_crs(crs='EPSG:32651').area,\n",
    "        'length':wcb.to_crs(crs='EPSG:32651').length,\n",
    "        'shape':wcb.to_crs(crs='EPSG:32651'),\n",
    "        'centroid':wcb.to_crs(crs='EPSG:32651').centroid}\n",
    "wgeodf = gpd.GeoDataFrame(data = data)\n",
    "wgeodf"
   ]
  },
  {
   "cell_type": "code",
   "execution_count": null,
   "id": "b2b1aaca",
   "metadata": {},
   "outputs": [],
   "source": [
    "# 上一步的wgeodf实际上没有定义矢量列，实际上无法进行矢量处理和计算\n",
    "wgeodf.geom_type"
   ]
  },
  {
   "cell_type": "code",
   "execution_count": null,
   "id": "65cb9b87",
   "metadata": {},
   "outputs": [],
   "source": [
    "# 因此需要使用set_geometry(col[, drop, inplace, crs])来指定矢量列：\n",
    "wgeodf.set_geometry('shape', inplace=True)\n",
    "wgeodf.geom_type"
   ]
  },
  {
   "cell_type": "code",
   "execution_count": null,
   "id": "089d3730",
   "metadata": {},
   "outputs": [],
   "source": [
    "# 如上所示，GeoDataFrame实际上可以有多个GeoSeries字段，但只能有一个“矢量主列”，可以通过set_geometry来切换矢量主列\n",
    "\n",
    "ax = wgeodf.plot(color='blue', alpha=0.4)\n",
    "wgeodf.set_geometry('centroid', inplace=True)   #切换矢量主列为'centroid'\n",
    "wgeodf.plot(ax=ax,color='red')"
   ]
  },
  {
   "cell_type": "markdown",
   "id": "f0329cc1",
   "metadata": {},
   "source": [
    "#### GeoDataFrame数据索引"
   ]
  },
  {
   "cell_type": "code",
   "execution_count": null,
   "id": "e0682946",
   "metadata": {},
   "outputs": [],
   "source": [
    "# geopandas自带有一份世界地图(国家和地区)数据\n",
    "# 该数据中国边境有误，仅供示例\n",
    "world = gpd.read_file(gpd.datasets.get_path('naturalearth_lowres'))\n",
    "world.plot()"
   ]
  },
  {
   "cell_type": "code",
   "execution_count": null,
   "id": "b48d09c5",
   "metadata": {},
   "outputs": [],
   "source": [
    "# 世界地图数据的主要信息如下：\n",
    "world.head()    # head()函数可以查看数据表的前五行 "
   ]
  },
  {
   "cell_type": "markdown",
   "id": "bfdde466",
   "metadata": {},
   "source": [
    "作为 `pandas.DataFrame` 的延伸，`GeoDataFrame` 同样支持 `pandas.DataFrame` 中的 `.loc` 以及 `.iloc` 对数据在行、列尺度上进行索引和筛选\n",
    "\n",
    "- `loc` → 基于行、列标签进行索引查询\n",
    "- `iloc` → 基于行、列索引（index、columns）进行索引查询，均从 0 开始\n"
   ]
  },
  {
   "cell_type": "code",
   "execution_count": null,
   "id": "fd91e906",
   "metadata": {},
   "outputs": [],
   "source": [
    "# 使用loc筛选数据 ，方括号前是行的筛选条件，方括号后是列的筛选条件\n",
    "world.loc[[1,3],['pop_est','name']]"
   ]
  },
  {
   "cell_type": "code",
   "execution_count": null,
   "id": "311174ff",
   "metadata": {},
   "outputs": [],
   "source": [
    "# 使用loc筛选数据 ，方括号前是行的筛选条件，方括号后是列的筛选条件\n",
    "# 使用冒号表示选择从某行/列到某行/列之间的全部\n",
    "world.loc[1:3,'pop_est':'name']"
   ]
  },
  {
   "cell_type": "code",
   "execution_count": null,
   "id": "1083e64a",
   "metadata": {},
   "outputs": [],
   "source": [
    "# 使用loc筛选数据 ，方括号前是行的筛选条件，方括号后是列的筛选条件\n",
    "# 单独的冒号表示全选\n",
    "world.loc[1:3,:]"
   ]
  },
  {
   "cell_type": "code",
   "execution_count": null,
   "id": "30c1781b",
   "metadata": {},
   "outputs": [],
   "source": [
    "# 还可以嵌套具体条件进行筛选\n",
    "# 如筛选人口在1亿以上的国家，并降序排列：\n",
    "world.loc[world['pop_est']>100000000, ['name','pop_est']].sort_values(by='pop_est',ascending=False)"
   ]
  },
  {
   "cell_type": "code",
   "execution_count": null,
   "id": "2bad106c",
   "metadata": {},
   "outputs": [],
   "source": [
    "# 筛选人口在1亿以上,gdp在3百万以上的国家，并按人口降序排列：\n",
    "world.loc[(world['pop_est']>100000000) & (world['gdp_md_est']>3000000), \n",
    "          ['name','pop_est','gdp_md_est']].sort_values(by='pop_est',ascending=False)"
   ]
  },
  {
   "cell_type": "code",
   "execution_count": null,
   "id": "ca4a50ae",
   "metadata": {},
   "outputs": [],
   "source": [
    "# iloc可以直接用行列的索引编号进行筛选，不需要关注行列标签名\n",
    "# 选择前10行，前4列数据\n",
    "world.iloc[:10,:4]"
   ]
  },
  {
   "cell_type": "markdown",
   "id": "d1878fff",
   "metadata": {},
   "source": [
    "面向空间数据，`geopandas` 为 `GeoDataFrame`提供了空间范围索引，即 `.cx` 方法，用于筛选与给定经纬度范围相交的对应数据"
   ]
  },
  {
   "cell_type": "code",
   "execution_count": null,
   "id": "a9db2e7d",
   "metadata": {},
   "outputs": [],
   "source": [
    "part_world = world.cx[80:110, 0:30]\n",
    "\n",
    "# 绘制第一图层：世界地图\n",
    "ax = world.plot(alpha=0.05)\n",
    "# 绘制第二图层：.cx所选择的地区\n",
    "ax = part_world.plot(ax=ax, alpha=0.6)\n",
    "# 绘制第三图层：.cx条件示意图\n",
    "ax = gpd.GeoSeries([geometry.box(minx=80, miny=0, maxx=110, maxy=30).boundary])\\\n",
    "    .plot(ax=ax, color='red')"
   ]
  },
  {
   "cell_type": "code",
   "execution_count": null,
   "id": "8085878d",
   "metadata": {},
   "outputs": [],
   "source": [
    "part_world"
   ]
  },
  {
   "cell_type": "markdown",
   "id": "0ac0f0d4",
   "metadata": {},
   "source": [
    "### Index\n",
    "\n",
    "GeoDataFrame 的 Index 与 Pandas 中相同，可使用 index 对数据建立索引，实现性能上的提升\n",
    "\n",
    "Pandas中的dataframe数据结构具体可见官方文档：https://pandas.pydata.org/docs/reference/indexing.html "
   ]
  },
  {
   "cell_type": "code",
   "execution_count": null,
   "id": "4ea3ed7c",
   "metadata": {},
   "outputs": [],
   "source": [
    "# 还是以world数据为例, 原始数据默认使用0-177的RangeIndex作为索引\n",
    "world.index"
   ]
  },
  {
   "cell_type": "code",
   "execution_count": null,
   "id": "d5e6092d",
   "metadata": {},
   "outputs": [],
   "source": [
    "# 使用set_index可以将某列指定为数据的索引\n",
    "world.set_index('iso_a3', inplace=True)\n",
    "world"
   ]
  },
  {
   "cell_type": "code",
   "execution_count": null,
   "id": "c61a22fa",
   "metadata": {},
   "outputs": [],
   "source": [
    "# 从上表和index属性可以看到，iso_a3列已成为了新的索引\n",
    "world.index"
   ]
  },
  {
   "cell_type": "code",
   "execution_count": null,
   "id": "09552f9f",
   "metadata": {},
   "outputs": [],
   "source": [
    "# 可以直接用index进行loc查找\n",
    "world.loc[['CHN']]"
   ]
  },
  {
   "cell_type": "code",
   "execution_count": null,
   "id": "05ae9456",
   "metadata": {},
   "outputs": [],
   "source": [
    "# 使用reset_index可以将索引重置为column列的rangeindex\n",
    "world.reset_index(inplace=True)\n",
    "world"
   ]
  },
  {
   "cell_type": "markdown",
   "id": "f606b732",
   "metadata": {
    "pycharm": {
     "name": "#%% md\n"
    }
   },
   "source": []
  }
 ],
 "metadata": {
  "interpreter": {
   "hash": "101cdaff5bf9416723b06a3b23d60e492c554c4a9c01236fb2d2991459f897c4"
  },
  "kernelspec": {
   "display_name": "Python [conda env:devgis]",
   "language": "python",
   "name": "python3"
  },
  "language_info": {
   "codemirror_mode": {
    "name": "ipython",
    "version": 3
   },
   "file_extension": ".py",
   "mimetype": "text/x-python",
   "name": "python",
   "nbconvert_exporter": "python",
   "pygments_lexer": "ipython3",
   "version": "3.9.12"
  }
 },
 "nbformat": 4,
 "nbformat_minor": 5
}
