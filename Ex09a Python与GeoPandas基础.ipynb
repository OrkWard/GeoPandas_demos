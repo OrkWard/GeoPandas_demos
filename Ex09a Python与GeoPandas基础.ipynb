{
 "cells": [
  {
   "cell_type": "markdown",
   "id": "f36489f2",
   "metadata": {},
   "source": [
    "# Python基础\n",
    "\n",
    "Python是一种简单易上手的语言，代码的可读性较好，接下来使用几个例子来展示Python的基础语法"
   ]
  },
  {
   "cell_type": "code",
   "execution_count": 1,
   "id": "76ae41d0",
   "metadata": {},
   "outputs": [
    {
     "data": {
      "text/plain": [
       "'\\n这是一个多行注释\\n这是一个多行注释\\n'"
      ]
     },
     "execution_count": 1,
     "metadata": {},
     "output_type": "execute_result"
    }
   ],
   "source": [
    "# 这是一个单行注释\n",
    "'''\n",
    "这是一个多行注释\n",
    "这是一个多行注释\n",
    "'''"
   ]
  },
  {
   "cell_type": "code",
   "execution_count": 2,
   "id": "6407fb95",
   "metadata": {},
   "outputs": [
    {
     "name": "stdout",
     "output_type": "stream",
     "text": [
      "this is a python string!\n",
      "a python string!\n",
      "python\n",
      "string\n"
     ]
    }
   ],
   "source": [
    "# 输出函数print和字符串操作\n",
    "str = \"this is a python string!\"\n",
    "print(str)\n",
    "print(str[8:])\n",
    "print(str[10:16])\n",
    "print(str[-7:-1])"
   ]
  },
  {
   "cell_type": "code",
   "execution_count": 3,
   "id": "2fe70898",
   "metadata": {},
   "outputs": [
    {
     "name": "stdout",
     "output_type": "stream",
     "text": [
      "a is positive\n"
     ]
    }
   ],
   "source": [
    "# if-else\n",
    "a = 4\n",
    "if a>0:\n",
    "    print(\"a is positive\")\n",
    "elif a<0:\n",
    "    print(\"a is negative\")\n",
    "else:\n",
    "    print(\"a is zero\")"
   ]
  },
  {
   "cell_type": "code",
   "execution_count": 4,
   "id": "7a1794a2",
   "metadata": {},
   "outputs": [
    {
     "name": "stdout",
     "output_type": "stream",
     "text": [
      "0\n",
      "1\n",
      "2\n",
      "3\n",
      "4\n",
      "5\n"
     ]
    }
   ],
   "source": [
    "# for循环-1\n",
    "for i in range(6):\n",
    "    print(i)"
   ]
  },
  {
   "cell_type": "code",
   "execution_count": 5,
   "id": "4ce7477e",
   "metadata": {},
   "outputs": [
    {
     "name": "stdout",
     "output_type": "stream",
     "text": [
      "zjg campus, ZJU\n",
      "yq campus, ZJU\n",
      "xx campus, ZJU\n",
      "zj campus, ZJU\n",
      "hjc campus, ZJU\n",
      "zs campus, ZJU\n",
      "hn campus, ZJU\n"
     ]
    }
   ],
   "source": [
    "# for循环-2\n",
    "zju_campus_list = ['zjg','yq','xx','zj','hjc','zs','hn']\n",
    "for campus in zju_campus_list:\n",
    "    print(campus, 'campus, ZJU')"
   ]
  },
  {
   "cell_type": "code",
   "execution_count": 6,
   "id": "1b73a841",
   "metadata": {},
   "outputs": [
    {
     "name": "stdout",
     "output_type": "stream",
     "text": [
      "1\n",
      "2\n"
     ]
    }
   ],
   "source": [
    "# while循环-1\n",
    "a = 1\n",
    "while a<3:\n",
    "    print(a)\n",
    "    a = a+1"
   ]
  },
  {
   "cell_type": "code",
   "execution_count": 7,
   "id": "bb6fce6a",
   "metadata": {},
   "outputs": [
    {
     "name": "stdout",
     "output_type": "stream",
     "text": [
      "1\n",
      "2\n",
      "3\n"
     ]
    }
   ],
   "source": [
    "# while循环-2\n",
    "a = 1\n",
    "while a<3:\n",
    "    print(a)\n",
    "    a = a+1\n",
    "else:\n",
    "    print(a)"
   ]
  },
  {
   "cell_type": "code",
   "execution_count": 8,
   "id": "f93dfde7",
   "metadata": {},
   "outputs": [
    {
     "name": "stdout",
     "output_type": "stream",
     "text": [
      "denominator cannot be zero\n",
      "无论有无异常，最终都会执行这部分代码\n"
     ]
    }
   ],
   "source": [
    "# try-catch,（实际上在python里是try-except）\n",
    "a = 5\n",
    "b = 1\n",
    "try:\n",
    "    print(a/b)\n",
    "except ZeroDivisionError:\n",
    "    print('denominator cannot be zero')\n",
    "else:\n",
    "    print('没有异常时会执行这部分代码')\n",
    "finally:\n",
    "    print('无论有无异常，最终都会执行这部分代码')"
   ]
  },
  {
   "cell_type": "markdown",
   "id": "34704f60",
   "metadata": {},
   "source": [
    "## Python数据结构"
   ]
  },
  {
   "cell_type": "markdown",
   "id": "d0a6b040",
   "metadata": {},
   "source": [
    "### 列表（List）\n",
    "\n",
    "Python的列表类似于C中的数组，只不过列表不需要预先设定大小，可以通过函数进行更新\n",
    "\n",
    "和C数组一样，Python列表的索引自0开始，不过，Python列表的索引值也可以取复数，用于从尾端开始取成员\n",
    "\n",
    "Python中使用方括号`[]`代表列表"
   ]
  },
  {
   "cell_type": "code",
   "execution_count": 10,
   "id": "ac31ade8",
   "metadata": {},
   "outputs": [
    {
     "name": "stdout",
     "output_type": "stream",
     "text": [
      "['zjg', 'yq', 'xx', 'zj', 'hjc']\n",
      "yq\n",
      "hjc\n",
      "['yq', 'xx']\n",
      "\n",
      "\n",
      "['zjg', 'yq', 'xx', 'zj', 'hjc', 'zs']\n",
      "zs\n",
      "\n",
      "\n",
      "['zjg', 'yq', 'xx', 'zj', 'hjc']\n",
      "\n",
      "\n",
      "['zjg', 'yq', 'xx', 'zj', 'hjc', 'zs', 'hn']\n"
     ]
    }
   ],
   "source": [
    "zju_campus = ['zjg','yq','xx','zj','hjc']\n",
    "print(zju_campus)\n",
    "print(zju_campus[1])\n",
    "print(zju_campus[-1])\n",
    "print(zju_campus[1:3])\n",
    "\n",
    "print('\\n')\n",
    "zju_campus.append('zs')\n",
    "print(zju_campus)\n",
    "print(zju_campus[-1])\n",
    "\n",
    "print('\\n')\n",
    "del zju_campus[-1]\n",
    "print(zju_campus)\n",
    "\n",
    "print('\\n')\n",
    "zju_campus += ['zs','hn']\n",
    "print(zju_campus)"
   ]
  },
  {
   "cell_type": "code",
   "execution_count": null,
   "id": "09a64464",
   "metadata": {},
   "outputs": [],
   "source": [
    "list = [['a', 'b', 'c'], [1, 2, 3]]\n",
    "print(list[0])\n",
    "print(list[1][1])"
   ]
  },
  {
   "cell_type": "markdown",
   "id": "3c5ad6cb",
   "metadata": {},
   "source": [
    "### 元组（Tuple）\n",
    "\n",
    "元组是内部元素不可修改的List（但是仍可以截取、拼接）\n",
    "\n",
    "Python中使用圆括号`()`代表元组"
   ]
  },
  {
   "cell_type": "code",
   "execution_count": null,
   "id": "201e4dd5",
   "metadata": {},
   "outputs": [],
   "source": [
    "tup1 = ('SUCCESS', 'FAIL', 'RUNNING')\n",
    "print(tup1[0])\n",
    "print(tup1[-1])\n",
    "\n",
    "tup2 = ('YES','NO')\n",
    "tup3 = tup1+tup2\n",
    "del tup1, tup2\n",
    "print(tup3)\n",
    "\n",
    "try:\n",
    "    tup3[0]='UNKNOWN'\n",
    "except:\n",
    "    print('cannot change tuple element')\n",
    "else:\n",
    "    print('can change tuple element')"
   ]
  },
  {
   "cell_type": "markdown",
   "id": "c333a96f",
   "metadata": {},
   "source": [
    "### 集合（Set）\n",
    "\n",
    "集合是一个无序不重复的元素序列\n",
    "\n",
    "Python中使用花括号`{}`代表集合"
   ]
  },
  {
   "cell_type": "code",
   "execution_count": 12,
   "id": "684bfd00",
   "metadata": {},
   "outputs": [
    {
     "name": "stdout",
     "output_type": "stream",
     "text": [
      "{'zj', 'xx', 'hn', 'zju', 'yq', 'zjg', 'zs', 'hjc'}\n",
      "{'zj', 'xx', 'yq', 'zjg', 'hjc'}\n",
      "{'zju'}\n",
      "{'zj', 'xx', 'hn', 'yq', 'zs', 'zjg', 'hjc'}\n",
      "zju\n",
      "zj\n",
      "xx\n",
      "yq\n",
      "zjg\n",
      "hjc\n",
      "{'zju', 'zj', 'xx', 'yq', 'zjg', 'zs', 'hjc'}\n",
      "{'zju', 'zj', 'xx', 'yq', 'zjg', 'hjc'}\n",
      "{'zj', 'xx', 'hn', 'zju', 'yq', 'zjg', 'zs', 'hjc'}\n",
      "{'zj', 'xx', 'hn', 'zju', 'yq', 'zjg', 'hjc'}\n"
     ]
    }
   ],
   "source": [
    "zju_campus = {'zjg','yq','xx','zj','hjc','zju'}\n",
    "zju_campus_2 = {'zs','hn','zju'}\n",
    "print(zju_campus | zju_campus_2)    #并\n",
    "print(zju_campus - zju_campus_2)    #差\n",
    "print(zju_campus & zju_campus_2)    #交\n",
    "print(zju_campus ^ zju_campus_2)    #异或\n",
    "\n",
    "# 输出是无序的\n",
    "for campus in zju_campus:\n",
    "    print(campus)\n",
    "\n",
    "zju_campus.add('zs')\n",
    "print(zju_campus)\n",
    "zju_campus.remove('zs')\n",
    "print(zju_campus)\n",
    "zju_campus.update({'zs','hn'})\n",
    "print(zju_campus)\n",
    "zju_campus.discard('zs')\n",
    "print(zju_campus)"
   ]
  },
  {
   "cell_type": "code",
   "execution_count": 13,
   "id": "b86e8f68",
   "metadata": {},
   "outputs": [
    {
     "name": "stdout",
     "output_type": "stream",
     "text": [
      "hn is not in the set\n",
      "success\n"
     ]
    }
   ],
   "source": [
    "#remove只能用于移除存在的元素\n",
    "zju_campus = {'zjg','yq','xx','zj','hjc'}\n",
    "campus='hn'\n",
    "try:\n",
    "    zju_campus.remove(campus)\n",
    "except:\n",
    "    print(campus, 'is not in the set')\n",
    "else:\n",
    "    print('success')\n",
    "\n",
    "#discard操作不存在的元素时不会报错\n",
    "try:\n",
    "    zju_campus.discard(campus)\n",
    "except:\n",
    "    print(campus, 'is not in the set')\n",
    "else:\n",
    "    print('success')"
   ]
  },
  {
   "cell_type": "markdown",
   "id": "35ae6ee2",
   "metadata": {},
   "source": [
    "### 字典（Dict）\n",
    "\n",
    "字典是一个以“键值对”形式存储的数据结构，其中键是唯一且不可变的（字符串、数字）、值可以是任何数据类型且可变\n",
    "\n",
    "Python中使用花括号`{}`代表字典"
   ]
  },
  {
   "cell_type": "code",
   "execution_count": null,
   "id": "6b515be0",
   "metadata": {},
   "outputs": [],
   "source": [
    "course_info = {'name':'GIS应用开发', 'id':'83120630', 'credit':2.5}\n",
    "print('课程名称:', course_info['name'])\n",
    "\n",
    "# 添加信息\n",
    "course_info['exam']='开卷考'\n",
    "print('课程考核形式1:',course_info['exam'])\n",
    "\n",
    "#修改信息\n",
    "course_info['exam']='小组大程'\n",
    "print('课程考核形式2:',course_info['exam'])"
   ]
  },
  {
   "cell_type": "markdown",
   "id": "8dfcbb34",
   "metadata": {},
   "source": [
    "注意： 字典和集合都用花括号表示，但是Python默认空花括号`{}`的数据类型为空字典"
   ]
  },
  {
   "cell_type": "code",
   "execution_count": null,
   "id": "5b65a4e0",
   "metadata": {},
   "outputs": [],
   "source": [
    "set_or_dic = {}\n",
    "print(type(set_or_dic))\n",
    "\n",
    "#如果需要创建空集合，可以使用set()\n",
    "my_set = set()\n",
    "print(type(my_set))"
   ]
  },
  {
   "cell_type": "markdown",
   "id": "e3845d8b",
   "metadata": {},
   "source": [
    "## Python包和模块\n",
    "\n",
    "Pyhton最大的优势在于其丰富和强大的第三方库（包），只需要在程序里导入所需的包或模块，就可以借助其中的函数来完成自己的程序开发\n",
    "\n",
    "- 模块是一种以.py为后缀的文件，在.py文件中定义了一些常量和函数\n",
    "\n",
    "- 包由模块文件构成，为模块提供了结构化管理\n",
    "\n",
    "让我们从下面一段代码看起："
   ]
  },
  {
   "cell_type": "code",
   "execution_count": null,
   "id": "5f2216b8",
   "metadata": {},
   "outputs": [],
   "source": [
    "import numpy as np\n",
    "x = np.zeros(5) \n",
    "print(x)"
   ]
  },
  {
   "cell_type": "markdown",
   "id": "c23d96c5",
   "metadata": {},
   "source": [
    "NumPy库支持了大规模的的高维数组与矩阵运算（效率比Python原生数组更高），因此是一个常用的包。\n",
    "\n",
    "这段代码开头使用`import`将NumPy包导入到程序中，并使用`as`命名为`np`。\n",
    "\n",
    "因此在后续的程序中，可以直接使用`np`来调用NumPy包中的函数，比如`np.zeros(5)`生成并返回了一个长度为5的全0数组"
   ]
  },
  {
   "cell_type": "code",
   "execution_count": 14,
   "id": "4077a54a",
   "metadata": {},
   "outputs": [
    {
     "name": "stdout",
     "output_type": "stream",
     "text": [
      "p is a <class 'shapely.geometry.point.Point'> variable, values POINT (120.074 30.304)\n"
     ]
    }
   ],
   "source": [
    "from shapely import geometry\n",
    "p=geometry.Point(120.074,30.304)\n",
    "print('p is a %s variable, values %s' %(type(p), p))"
   ]
  },
  {
   "cell_type": "markdown",
   "id": "60288bdf",
   "metadata": {},
   "source": [
    "有的时候我们可能不需要一整个包里的内容，而只需要其中的一个模块，那么可以使用`from ... import ...`来单独导入模块\n",
    "\n",
    "在上面的代码块中，我们使用了shapely包中的geometry模块来生成一个地理点，因此只需要单独导入这个模块即可"
   ]
  },
  {
   "cell_type": "markdown",
   "id": "023dbef1",
   "metadata": {},
   "source": [
    "# GeoPandas\n",
    "\n",
    "GeoPandas，从名字上看是 Geo + Pandas，那么什么是Pandas呢？\n",
    "\n",
    "Pandas是一个强大的分析结构化数据的工具集，可用于数据挖掘和数据分析，也可以用于实现数据清洗\n",
    "\n",
    "GeoPandas在Pandas的基础上增加了地理数据支持，可以对笛卡尔坐标下的几何对象进行分析和处理"
   ]
  },
  {
   "cell_type": "markdown",
   "id": "8fbbeb5f",
   "metadata": {},
   "source": [
    "## GeoPandas数据结构"
   ]
  },
  {
   "cell_type": "markdown",
   "id": "6bf0ac8f",
   "metadata": {},
   "source": [
    "### GeoSeries\n",
    "\n",
    "GeoSeries 延续了Pandas中Series的概念，是一个一维向量，向量的每个元素都表示一个几何对象。同时，每个元素都有一个索引标签index。\n",
    "\n",
    "Pandas中的Series数据结构具体可见：https://www.runoob.com/pandas/pandas-series.html \n",
    "\n",
    "或查询官方文档：https://pandas.pydata.org/docs/reference/series.html"
   ]
  },
  {
   "cell_type": "code",
   "execution_count": 15,
   "id": "7d90ab16",
   "metadata": {},
   "outputs": [],
   "source": [
    "from shapely import geometry\n",
    "import geopandas as gpd\n",
    "import pyproj"
   ]
  },
  {
   "cell_type": "markdown",
   "id": "3cbfd071",
   "metadata": {},
   "source": [
    "#### 基础几何对象\n",
    "\n",
    "GeoPandas借助shapely包的geometry模块，实现了几类基础几何对象，具体包括：\n",
    "\n",
    "- 点：Points\n",
    "- 多点：MultiPoint\n",
    "- 线： LineString\n",
    "- 多线：MultiLineString\n",
    "- 多边形：Polygon （有孔/无孔）\n",
    "- 多多边形：MultiPolygon\n",
    "- 线环：LinerRing"
   ]
  },
  {
   "cell_type": "code",
   "execution_count": 16,
   "id": "04f980ac",
   "metadata": {},
   "outputs": [
    {
     "data": {
      "text/plain": [
       "E1    POINT (120.08470 30.30480)\n",
       "E2    POINT (120.08490 30.30360)\n",
       "E3    POINT (120.08520 30.30270)\n",
       "E4    POINT (120.08520 30.30150)\n",
       "dtype: geometry"
      ]
     },
     "execution_count": 16,
     "metadata": {},
     "output_type": "execute_result"
    }
   ],
   "source": [
    "# 建立一个由点数据组成的Series：\n",
    "# shapely.geometry.Point(x, y)\n",
    "gpd.GeoSeries([geometry.Point(120.0847,30.3048),\n",
    "               geometry.Point(120.0849,30.3036),\n",
    "               geometry.Point(120.0852,30.3027),\n",
    "               geometry.Point(120.0852,30.3015)],\n",
    "              index=['E1', 'E2', 'E3', 'E4'])"
   ]
  },
  {
   "cell_type": "code",
   "execution_count": 17,
   "id": "f6397a3d",
   "metadata": {},
   "outputs": [
    {
     "data": {
      "text/plain": [
       "E    MULTIPOINT (120.08470 30.30480, 120.08490 30.3...\n",
       "W    MULTIPOINT (120.08010 30.30500, 120.08010 30.3...\n",
       "dtype: geometry"
      ]
     },
     "execution_count": 17,
     "metadata": {},
     "output_type": "execute_result"
    }
   ],
   "source": [
    "# 建立一个多点数据组成的Series：\n",
    "# shapely.geometry.MultiPoint([(x1, y1), (x2, y2), ...])\n",
    "gpd.GeoSeries([geometry.MultiPoint([(120.0847,30.3048), (120.0849,30.3036), (120.0852,30.3027), (120.0852,30.3015)]),\n",
    "               geometry.MultiPoint([(120.0801,30.3050), (120.0801,30.3036)])],\n",
    "              index=['E', 'W'])"
   ]
  },
  {
   "cell_type": "code",
   "execution_count": 18,
   "id": "f5c7673b",
   "metadata": {},
   "outputs": [
    {
     "data": {
      "text/plain": [
       "E    LINESTRING (120.08470 30.30480, 120.08490 30.3...\n",
       "W    LINESTRING (120.08010 30.30500, 120.08010 30.3...\n",
       "dtype: geometry"
      ]
     },
     "execution_count": 18,
     "metadata": {},
     "output_type": "execute_result"
    }
   ],
   "source": [
    "# 建立一个线数据组成的Series：\n",
    "# shapely.geometry.LineString([(x1, y1), (x2, y2), ...])\n",
    "gpd.GeoSeries([geometry.LineString([(120.0847,30.3048), (120.0849,30.3036), (120.0852,30.3027), (120.0852,30.3015)]),\n",
    "               geometry.LineString([(120.0801,30.3050), (120.0801,30.3036)])],\n",
    "              index=['E', 'W'])"
   ]
  },
  {
   "cell_type": "code",
   "execution_count": 19,
   "id": "8d75b8c3",
   "metadata": {},
   "outputs": [
    {
     "data": {
      "text/plain": [
       "EW    MULTILINESTRING ((120.08470 30.30480, 120.0849...\n",
       "dtype: geometry"
      ]
     },
     "execution_count": 19,
     "metadata": {},
     "output_type": "execute_result"
    }
   ],
   "source": [
    "# 建立一个多线数据组成的Series：\n",
    "# shapely.geometry.MultiLineString([LineString1, LineString2])\n",
    "# 注意方括号的层级\n",
    "gpd.GeoSeries([geometry.MultiLineString([[(120.0847,30.3048), (120.0849,30.3036), (120.0852,30.3027), (120.0852,30.3015)],\n",
    "                                        [(120.0801,30.3050), (120.0801,30.3036)]])],\n",
    "              index=['EW'])"
   ]
  },
  {
   "cell_type": "code",
   "execution_count": 20,
   "id": "04397591",
   "metadata": {},
   "outputs": [
    {
     "data": {
      "text/plain": [
       "a    POLYGON ((120.08320 30.30640, 120.08420 30.306...\n",
       "dtype: geometry"
      ]
     },
     "execution_count": 20,
     "metadata": {},
     "output_type": "execute_result"
    }
   ],
   "source": [
    "# 建立一个多边形数据组成的Series：\n",
    "# shapely.geometry.Polygon([(x1, y1), (x2, y2),...])\n",
    "gpd.GeoSeries([geometry.Polygon([(120.0832,30.3064), (120.0842,30.3064), (120.0842,30.3058), (120.0836,30.30579), (120.0836,30.3060), (120.0832,30.3060)])],\n",
    "              index=['a'])"
   ]
  },
  {
   "cell_type": "code",
   "execution_count": 21,
   "id": "cf5fdfad",
   "metadata": {},
   "outputs": [
    {
     "data": {
      "text/plain": [
       "a    POLYGON ((120.08320 30.30640, 120.08420 30.306...\n",
       "dtype: geometry"
      ]
     },
     "execution_count": 21,
     "metadata": {},
     "output_type": "execute_result"
    }
   ],
   "source": [
    "# 建立一个多边形(有孔)数据组成的Series：\n",
    "# shapely.geometry.Polygon(polygonExteriors, [interiorCoords])\n",
    "gpd.GeoSeries([geometry.Polygon([(120.0832,30.3064), (120.0842,30.3064), (120.0842,30.3058), (120.0836,30.30579), (120.0836,30.3060), (120.0832,30.3060)],\n",
    "                               [((120.0833,30.3063),(120.0836,30.3063),(120.0837,30.3061),(120.0833,30.3061)),\n",
    "                                ((120.0841,30.3060),(120.0841,30.3059),(120.0839,30.3059))])],\n",
    "              index=['a'])"
   ]
  },
  {
   "cell_type": "code",
   "execution_count": 22,
   "id": "daf0be16",
   "metadata": {},
   "outputs": [],
   "source": [
    "# jupyter notebook内可以直接用展示GeoSeries中的几何元素（只需要加上索引就行），所以我们可以来看一下有孔多边形和普通多边形的区别\n",
    "polygon1=gpd.GeoSeries([geometry.Polygon([(120.0832,30.3064), (120.0842,30.3064), (120.0842,30.3058), (120.0836,30.30579), (120.0836,30.3060), (120.0832,30.3060)])],\n",
    "              index=['a'])\n",
    "polygon2=gpd.GeoSeries([geometry.Polygon([(120.0832,30.3064), (120.0842,30.3064), (120.0842,30.3058), (120.0836,30.30579), (120.0836,30.3060), (120.0832,30.3060)],\n",
    "                               [((120.0833,30.3063),(120.0836,30.3063),(120.0837,30.3061),(120.0833,30.3061)),\n",
    "                                ((120.0841,30.3060),(120.0841,30.3059),(120.0839,30.3059))])],\n",
    "              index=['a'])"
   ]
  },
  {
   "cell_type": "code",
   "execution_count": 23,
   "id": "6e19b173",
   "metadata": {},
   "outputs": [
    {
     "data": {
      "image/svg+xml": "<svg xmlns=\"http://www.w3.org/2000/svg\" xmlns:xlink=\"http://www.w3.org/1999/xlink\" width=\"100.0\" height=\"100.0\" viewBox=\"120.08316 30.30575 0.0010799999999875354 0.0006899999999987472\" preserveAspectRatio=\"xMinYMin meet\"><g transform=\"matrix(1,0,0,-1,0,60.61219)\"><path fill-rule=\"evenodd\" fill=\"#66cc99\" stroke=\"#555555\" stroke-width=\"2.1599999999750708e-05\" opacity=\"0.6\" d=\"M 120.0832,30.3064 L 120.0842,30.3064 L 120.0842,30.3058 L 120.0836,30.30579 L 120.0836,30.306 L 120.0832,30.306 L 120.0832,30.3064 z\" /></g></svg>",
      "text/plain": [
       "<shapely.geometry.polygon.Polygon at 0x259b2dc8910>"
      ]
     },
     "execution_count": 23,
     "metadata": {},
     "output_type": "execute_result"
    }
   ],
   "source": [
    "polygon1['a']"
   ]
  },
  {
   "cell_type": "code",
   "execution_count": 24,
   "id": "39decbee",
   "metadata": {},
   "outputs": [
    {
     "data": {
      "image/svg+xml": "<svg xmlns=\"http://www.w3.org/2000/svg\" xmlns:xlink=\"http://www.w3.org/1999/xlink\" width=\"100.0\" height=\"100.0\" viewBox=\"120.08316 30.30575 0.0010799999999875354 0.0006899999999987472\" preserveAspectRatio=\"xMinYMin meet\"><g transform=\"matrix(1,0,0,-1,0,60.61219)\"><path fill-rule=\"evenodd\" fill=\"#66cc99\" stroke=\"#555555\" stroke-width=\"2.1599999999750708e-05\" opacity=\"0.6\" d=\"M 120.0832,30.3064 L 120.0842,30.3064 L 120.0842,30.3058 L 120.0836,30.30579 L 120.0836,30.306 L 120.0832,30.306 L 120.0832,30.3064 z M 120.0833,30.3063 L 120.0836,30.3063 L 120.0837,30.3061 L 120.0833,30.3061 L 120.0833,30.3063 z M 120.0841,30.306 L 120.0841,30.3059 L 120.0839,30.3059 L 120.0841,30.306 z\" /></g></svg>",
      "text/plain": [
       "<shapely.geometry.polygon.Polygon at 0x259b2dc8df0>"
      ]
     },
     "execution_count": 24,
     "metadata": {},
     "output_type": "execute_result"
    }
   ],
   "source": [
    "polygon2['a']"
   ]
  },
  {
   "cell_type": "code",
   "execution_count": 25,
   "id": "9199272d",
   "metadata": {},
   "outputs": [
    {
     "data": {
      "text/plain": [
       "a    MULTIPOLYGON (((120.08330 30.30630, 120.08360 ...\n",
       "dtype: geometry"
      ]
     },
     "execution_count": 25,
     "metadata": {},
     "output_type": "execute_result"
    }
   ],
   "source": [
    "# 建立一个多多边形数据组成的Series：\n",
    "# shapely.geometry.MultiPolygon([Polygon1, Polygon2])\n",
    "gpd.GeoSeries([geometry.MultiPolygon([geometry.Polygon([(120.0833,30.3063),(120.0836,30.3063),(120.0837,30.3061),(120.0833,30.3061)]),\n",
    "                                      geometry.Polygon([(120.0841,30.3060),(120.0841,30.3059),(120.0839,30.3059)])])],\n",
    "              index=['a'])"
   ]
  },
  {
   "cell_type": "code",
   "execution_count": 26,
   "id": "ea834439",
   "metadata": {},
   "outputs": [
    {
     "data": {
      "image/svg+xml": "<svg xmlns=\"http://www.w3.org/2000/svg\" xmlns:xlink=\"http://www.w3.org/1999/xlink\" width=\"100.0\" height=\"100.0\" viewBox=\"120.08326799999999 30.305868 0.0008640000000212922 0.00046400000000090813\" preserveAspectRatio=\"xMinYMin meet\"><g transform=\"matrix(1,0,0,-1,0,60.6122)\"><g><path fill-rule=\"evenodd\" fill=\"#66cc99\" stroke=\"#555555\" stroke-width=\"1.7280000000425845e-05\" opacity=\"0.6\" d=\"M 120.0833,30.3063 L 120.0836,30.3063 L 120.0837,30.3061 L 120.0833,30.3061 L 120.0833,30.3063 z\" /><path fill-rule=\"evenodd\" fill=\"#66cc99\" stroke=\"#555555\" stroke-width=\"1.7280000000425845e-05\" opacity=\"0.6\" d=\"M 120.0841,30.306 L 120.0841,30.3059 L 120.0839,30.3059 L 120.0841,30.306 z\" /></g></g></svg>",
      "text/plain": [
       "<shapely.geometry.multipolygon.MultiPolygon at 0x259b2e0adf0>"
      ]
     },
     "execution_count": 26,
     "metadata": {},
     "output_type": "execute_result"
    }
   ],
   "source": [
    "gpd.GeoSeries([geometry.MultiPolygon([geometry.Polygon([(120.0833,30.3063),(120.0836,30.3063),(120.0837,30.3061),(120.0833,30.3061)]),\n",
    "                                      geometry.Polygon([(120.0841,30.3060),(120.0841,30.3059),(120.0839,30.3059)])])],\n",
    "              index=['a'])['a']"
   ]
  },
  {
   "cell_type": "code",
   "execution_count": 27,
   "id": "fcb76802",
   "metadata": {},
   "outputs": [
    {
     "data": {
      "text/plain": [
       "a    LINEARRING (120.08320 30.30640, 120.08420 30.3...\n",
       "dtype: geometry"
      ]
     },
     "execution_count": 27,
     "metadata": {},
     "output_type": "execute_result"
    }
   ],
   "source": [
    "# 建立一个线环数据组成的Series：\n",
    "# shapely.geometry.LinearRing([(x1, y1), (x2, y2),...])\n",
    "gpd.GeoSeries([geometry.LinearRing([(120.0832,30.3064), (120.0842,30.3064), (120.0842,30.3058), (120.0836,30.30579), (120.0836,30.3060), (120.0832,30.3060)])],\n",
    "              index=['a'])"
   ]
  },
  {
   "cell_type": "code",
   "execution_count": 28,
   "id": "68f41e45",
   "metadata": {},
   "outputs": [
    {
     "data": {
      "image/svg+xml": "<svg xmlns=\"http://www.w3.org/2000/svg\" xmlns:xlink=\"http://www.w3.org/1999/xlink\" width=\"100.0\" height=\"100.0\" viewBox=\"120.08316 30.30575 0.0010799999999875354 0.0006899999999987472\" preserveAspectRatio=\"xMinYMin meet\"><g transform=\"matrix(1,0,0,-1,0,60.61219)\"><polyline fill=\"none\" stroke=\"#66cc99\" stroke-width=\"2.1599999999750708e-05\" points=\"120.0832,30.3064 120.0842,30.3064 120.0842,30.3058 120.0836,30.30579 120.0836,30.306 120.0832,30.306 120.0832,30.3064\" opacity=\"0.8\" /></g></svg>",
      "text/plain": [
       "<shapely.geometry.polygon.LinearRing at 0x259b109e670>"
      ]
     },
     "execution_count": 28,
     "metadata": {},
     "output_type": "execute_result"
    }
   ],
   "source": [
    "gpd.GeoSeries([geometry.LinearRing([(120.0832,30.3064), (120.0842,30.3064), (120.0842,30.3058), (120.0836,30.30579), (120.0836,30.3060), (120.0832,30.3060)])],\n",
    "              index=['a'])['a']"
   ]
  },
  {
   "cell_type": "markdown",
   "id": "855f7bc8",
   "metadata": {},
   "source": [
    "#### 地理属性\n",
    "\n",
    "GeoSeries还具有很多地理属性"
   ]
  },
  {
   "cell_type": "code",
   "execution_count": 29,
   "id": "9d218d3f",
   "metadata": {},
   "outputs": [],
   "source": [
    "wcb= gpd.GeoSeries([geometry.Polygon([(120.080333663507,30.3045016913564),(120.079924488781,30.3045019419015),(120.079896478723,30.3045019590058),(120.079896466114,30.3044864102435),(120.079814337389,30.3044864603606),(120.079814367212,30.3045232742226),(120.079792596854,30.3045232874988),(120.079792628998,30.3045629780214),(120.079602757634,30.3045630936574),(120.079602844082,30.3046700911871),(120.079792947486,30.3046699754093),(120.079793140675,30.3049085136371),(120.079603036811,30.304908629416),(120.079603128427,30.30502201982),(120.079794272119,30.3050219034067),(120.079794336312,30.3051011626678),(120.079873346717,30.305101114466),(120.079873371175,30.3051312828687),(120.079925614743,30.3051312509703),(120.079925590269,30.3051010825676),(120.079948461702,30.3051010685964),(120.080002917545,30.3051010353156),(120.080166431657,30.3051009352472),(120.08032994473,30.3051008349752),(120.080329968119,30.3051295212975),(120.080383456099,30.3051294884524),(120.080383432694,30.3051008021301),(120.080600636454,30.3051006685282),(120.080600561304,30.3050088084309),(120.080600494705,30.3049274013718),(120.080600484669,30.304915133393),(120.080380416157,30.3049152687538),(120.08038019056,30.304638750309),(120.080600258454,30.3046386149497),(120.080600248418,30.3046263469704),(120.08060016152,30.3045201243098),(120.080380093891,30.3045202596685),(120.080380078719,30.3045016628547),(120.080333663507,30.3045016913564)],\n",
    "                                     [((120.080002766886,30.3049155001777),(120.080002542349,30.3046389817303),(120.08033317855,30.3046387791772),(120.080333404016,30.3049152976223),(120.080002766886,30.3049155001777))]),\n",
    "                    geometry.Polygon([(120.079890461883,30.303570792452),(120.079866767446,30.3035708069149),(120.079866749609,30.303548801223),(120.079825383115,30.3035488264626),(120.079825400943,30.3035708321545),(120.079734833554,30.303570887368),(120.079734901951,30.303655406544),(120.079529305337,30.3036555316517),(120.079529397428,30.3037696220741),(120.079734994281,30.3037694969659),(120.079735188114,30.3040090130571),(120.079529590761,30.3040091381665),(120.079529682773,30.3041231275524),(120.079735280363,30.3041230024424),(120.079735329848,30.3041841493044),(120.079761883335,30.3041841331226),(120.07976208674,30.3044353876707),(120.07996440919,30.3044352641961),(120.079964372053,30.3043895073372),(120.079974242044,30.3043895013057),(120.079974126995,30.3042477637391),(120.079964288205,30.3042477697515),(120.079964218327,30.3041616710812),(120.080017436525,30.3041616385512),(120.080286970675,30.304161473464),(120.080286988878,30.3041838120127),(120.080330024197,30.3041837856026),(120.080330005984,30.3041614470538),(120.080552315231,30.3041613104005),(120.080552217206,30.3040414125423),(120.08032990823,30.3040415491949),(120.080329707899,30.303795837778),(120.08037261206,30.3037958114346),(120.080372565536,30.3037387779517),(120.080551969693,30.3037386676442),(120.080551832115,30.303570387025),(120.080532349076,30.3035703990161),(120.080372428264,30.3035704973318),(120.080329524201,30.303570523675),(120.08032950626,30.3035485179834),(120.080286471218,30.3035485443929),(120.08028648915,30.3035705500846),(120.080099316408,30.303570664783),(120.079890461883,30.303570792452)],\n",
    "                                     [((120.079951300016,30.3037693649924),(120.080017117913,30.3037693247644),(120.080017093282,30.3037389957892),(120.080286626275,30.3037388307048),(120.080286872973,30.304041575605),(120.080017339151,30.3040417406914),(120.079953853934,30.3040417794946),(120.079953801758,30.3039774844512),(120.079972129884,30.3039774732519),(120.079972012331,30.3038326452276),(120.079951351376,30.3038326578521),(120.079951300016,30.3037693649924))]),\n",
    "                    geometry.MultiPolygon([geometry.Polygon([(120.079629405208,30.3022725719918),(120.079629385719,30.3022484563826),(120.079616176809,30.3022484644192),(120.079616169137,30.3022389693603),(120.079592701649,30.3022389836352),(120.079592709319,30.302248478694),(120.079581432989,30.3022484855517),(120.079581461036,30.3022832120651),(120.07955642481,30.3022832272874),(120.079556416242,30.3022726163833),(120.079503749002,30.3022726483899),(120.079503757563,30.3022832592941),(120.079503819052,30.3023594651239),(120.079538853994,30.302359443835),(120.07953888592,30.3023989945521),(120.079520531059,30.3023990057065),(120.079520571541,30.3024491664252),(120.079520662627,30.3025620291683),(120.079520753712,30.3026748910075),(120.079520790772,30.3027208102492),(120.07952082782,30.3027667159598),(120.079520875798,30.3028261633584),(120.079504195631,30.302826173493),(120.079504254927,30.302899660515),(120.079556922503,30.3028996285076),(120.079556912378,30.3028870890054),(120.079581948758,30.3028870737827),(120.079581983818,30.3029304816946),(120.07962993688,30.3029304525247),(120.079629911933,30.302899584115),(120.079725173482,30.3028995261151),(120.079861622444,30.3028994429176),(120.079998070365,30.3028993595783),(120.080033028569,30.3028993382038),(120.080033053643,30.3029302066132),(120.080074742148,30.3029301811113),(120.080074717062,30.3028993127019),(120.080208158496,30.3028992309833),(120.080208098675,30.3028257439625),(120.080208080757,30.3028037328559),(120.080208014796,30.3027227028287),(120.080146854941,30.3027227402993),(120.080074573601,30.3027227845468),(120.079997927041,30.3027228314229),(120.079861479364,30.3027229147615),(120.079725030647,30.3027229979585),(120.079629769268,30.3027230559579),(120.07962973029,30.3026748247427),(120.079724991622,30.3026747667434),(120.07972485113,30.3025011323814),(120.079629589966,30.3025011903804),(120.079629547869,30.302449100161),(120.079677178426,30.3024490711703),(120.079724808983,30.3024490421622),(120.07977243954,30.3024490131368),(120.079967855082,30.3024488938717),(120.080074350965,30.3024488287528),(120.080074278059,30.3023591173183),(120.080074263165,30.3023407893114),(120.080074187909,30.3022481849765),(120.080032499692,30.3022482104777),(120.080032536516,30.3022935478947),(120.079997578527,30.3022935692688),(120.079997561297,30.3022723474608),(120.079861113205,30.3022724307985),(120.079724666151,30.3022725139934),(120.079629405208,30.3022725719918)]),\n",
    "                                           geometry.Polygon([(120.081093585443,30.3022822837954),(120.08109357671,30.3022716728916),(120.081093556863,30.3022475572833),(120.081043791106,30.3022475881117),(120.081043810941,30.3022717037201),(120.081012888613,30.3022717228661),(120.08095110737,30.3022717610969),(120.080751063971,30.3022718846854),(120.080645970676,30.3022719494904),(120.080645950938,30.3022478338818),(120.08060344769,30.3022478600671),(120.080603523443,30.3023404644008),(120.080603538436,30.3023587924075),(120.080603611824,30.3024485038408),(120.080698160821,30.3024484455721),(120.080751208641,30.3024484128498),(120.080951252399,30.3024482892604),(120.081043956136,30.3024482318832),(120.081043998981,30.3025003221008),(120.080951295195,30.3025003794781),(120.080951437848,30.3026740138348),(120.081044141798,30.3026739564571),(120.081044181469,30.3027221876707),(120.080951477474,30.3027222450484),(120.080825514021,30.3027223229065),(120.080603835931,30.3027224596312),(120.08054322186,30.3027224969509),(120.080488859856,30.3027225303973),(120.080488944029,30.3028255715305),(120.080466085599,30.3028255855875),(120.080466145613,30.3028990726078),(120.080603980341,30.3028989877841),(120.080604005593,30.3029298561931),(120.080646509135,30.302929830007),(120.08064648387,30.3028989615981),(120.08069852977,30.3028989295143),(120.080825658827,30.3028988510584),(120.080951622506,30.3028987731998),(120.081044326667,30.3028987158216),(120.081044352057,30.3029295842303),(120.081094118158,30.302929553401),(120.081094092752,30.3028986849924),(120.081175757535,30.3028986343614),(120.081175696992,30.3028251473424),(120.08114884759,30.3028251639942),(120.081148801967,30.3027697686405),(120.081148723005,30.3026738916494),(120.081148691487,30.3026356227593),(120.081148660865,30.3025984408484),(120.081148629348,30.302560171958),(120.081148550387,30.3024642958658),(120.081148495793,30.3023980063594),(120.081093680711,30.3023980403378),(120.081093648161,30.3023584896223),(120.081175312496,30.3023584389924),(120.081175240973,30.302271622262),(120.081117866513,30.3022716578379),(120.081117875249,30.3022822687416),(120.081093585443,30.3022822837954)]),\n",
    "                                           geometry.Polygon([(120.080521094471,30.302100669625),(120.080341878341,30.3021007797712),(120.080146349137,30.3021008996636),(120.080146497147,30.3022828672428),(120.080146632104,30.3024487845058),(120.080207791788,30.3024487470356),(120.080207750956,30.3023985863178),(120.080274936027,30.3023985451232),(120.080342121098,30.3023985038941),(120.080342088849,30.3023589531778),(120.080465704464,30.3023588772293),(120.080465777726,30.302448588663),(120.080542997921,30.3024485411601),(120.080542924589,30.3023588297266),(120.080542909607,30.3023405017199),(120.080521290471,30.3023405150237),(120.080521094471,30.302100669625)])\n",
    "                                          ])\n",
    "                   ],\n",
    "                   crs='EPSG:4326',\n",
    "                   index=['w1','w2','w4'])"
   ]
  },
  {
   "cell_type": "code",
   "execution_count": 31,
   "id": "0d042f4c",
   "metadata": {},
   "outputs": [
    {
     "data": {
      "text/plain": [
       "<AxesSubplot:>"
      ]
     },
     "execution_count": 31,
     "metadata": {},
     "output_type": "execute_result"
    },
    {
     "data": {
      "application/vnd.jupyter.widget-view+json": {
       "model_id": "f3080d986d4e4913b1444577c3895347",
       "version_major": 2,
       "version_minor": 0
      },
      "image/png": "[encoded data removed]",
      "text/html": [
       "\n",
       "            <div style=\"display: inline-block;\">\n",
       "                <div class=\"jupyter-widgets widget-label\" style=\"text-align: center;\">\n",
       "                    Figure\n",
       "                </div>\n",
       "                <img src='data:image/png;base64,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' width=640.0/>\n",
       "            </div>\n",
       "        "
      ],
      "text/plain": [
       "Canvas(toolbar=Toolbar(toolitems=[('Home', 'Reset original view', 'home', 'home'), ('Back', 'Back to previous …"
      ]
     },
     "metadata": {},
     "output_type": "display_data"
    }
   ],
   "source": [
    "# 这组数据长这样：\n",
    "\n",
    "%matplotlib widget\n",
    "wcb.plot()"
   ]
  },
  {
   "cell_type": "code",
   "execution_count": 32,
   "id": "ba5f4250",
   "metadata": {},
   "outputs": [
    {
     "data": {
      "text/plain": [
       "w1    3982.959618\n",
       "w2    4575.632783\n",
       "w4    6962.632236\n",
       "dtype: float64"
      ]
     },
     "execution_count": 32,
     "metadata": {},
     "output_type": "execute_result"
    }
   ],
   "source": [
    "# GeoSeries的area属性记录了GeoSeries中每个元素的面积，面积的单位和投影坐标的的设定相关，此处暂不展开\n",
    "wcb.to_crs(crs='EPSG:32651').area"
   ]
  },
  {
   "cell_type": "code",
   "execution_count": 33,
   "id": "fda9c5a9",
   "metadata": {},
   "outputs": [
    {
     "data": {
      "text/plain": [
       "w1     545.360484\n",
       "w2     622.852243\n",
       "w4    1015.792410\n",
       "dtype: float64"
      ]
     },
     "execution_count": 33,
     "metadata": {},
     "output_type": "execute_result"
    }
   ],
   "source": [
    "# GeoSeries的length属性记录了GeoSeries中每个元素的边长，边长的单位和投影坐标的的设定相关，此处暂不展开\n",
    "wcb.to_crs(crs='EPSG:32651').length"
   ]
  },
  {
   "cell_type": "code",
   "execution_count": null,
   "id": "280061f6",
   "metadata": {},
   "outputs": [],
   "source": [
    "# GeoSeries的geom_type属性记录了GeoSeries中每个元素的几何类型\n",
    "wcb.geom_type"
   ]
  },
  {
   "cell_type": "code",
   "execution_count": null,
   "id": "d81940c4",
   "metadata": {},
   "outputs": [],
   "source": [
    "# GeoSeries的exterior属性记录了几何元素的外边界（LINERING类型，只有Polygon类型元素有外边界，其他类型的元素为None）\n",
    "ww = gpd.GeoSeries([geometry.MultiPoint([(120.0801,30.3050), (120.0801,30.3036)]),\n",
    "                    geometry.LineString([(120.0801,30.3050), (120.0801,30.3036)])],index=['wp','wl'])\n",
    "wcb.append(ww).exterior\n",
    "\n",
    "# 还有对应的interiors属性，只有有孔多边形有这个属性"
   ]
  },
  {
   "cell_type": "code",
   "execution_count": null,
   "id": "5d7873f4",
   "metadata": {},
   "outputs": [],
   "source": [
    "# GeoSeries的boundary属性记录了几何元素的低维边界（多边形→线环，线→点，点→None）\n",
    "\n",
    "ww = gpd.GeoSeries([geometry.MultiPoint([(120.0801,30.3050), (120.0801,30.3036)]),\n",
    "                    geometry.LineString([(120.0801,30.3050), (120.0801,30.3036)])],index=['wp','wl'])\n",
    "%matplotlib widget\n",
    "wcb.append(ww).exterior.plot()"
   ]
  },
  {
   "cell_type": "code",
   "execution_count": null,
   "id": "802b68b0",
   "metadata": {},
   "outputs": [],
   "source": [
    "# GeoSeries的centroid属性记录了几何元素的几何中心, 使用centroid属性时, 为确保精度建议使用投影坐标系\n",
    "\n",
    "ww = gpd.GeoSeries([geometry.MultiPoint([(120.0801,30.3050), (120.0801,30.3036)]),\n",
    "                    geometry.LineString([(120.0801,30.3050), (120.0801,30.3036)])],crs='EPSG:4326',index=['wp','wl'])\n",
    "%matplotlib widget\n",
    "ax = wcb.append(ww).to_crs(crs='EPSG:32651').plot()\n",
    "wcb.append(ww).to_crs(crs='EPSG:32651').centroid.plot(ax=ax,color='Red')"
   ]
  },
  {
   "cell_type": "code",
   "execution_count": null,
   "id": "1da23e0f",
   "metadata": {},
   "outputs": [],
   "source": [
    "# GeoSeries的convex_hull和envelope属性分别记录了几何元素的凸包和外包矩形\n",
    "\n",
    "w2 = gpd.GeoSeries(geometry.Polygon([(120.079890461883,30.303570792452),(120.079866767446,30.3035708069149),(120.079866749609,30.303548801223),(120.079825383115,30.3035488264626),(120.079825400943,30.3035708321545),(120.079734833554,30.303570887368),(120.079734901951,30.303655406544),(120.079529305337,30.3036555316517),(120.079529397428,30.3037696220741),(120.079734994281,30.3037694969659),(120.079735188114,30.3040090130571),(120.079529590761,30.3040091381665),(120.079529682773,30.3041231275524),(120.079735280363,30.3041230024424),(120.079735329848,30.3041841493044),(120.079761883335,30.3041841331226),(120.07976208674,30.3044353876707),(120.07996440919,30.3044352641961),(120.079964372053,30.3043895073372),(120.079974242044,30.3043895013057),(120.079974126995,30.3042477637391),(120.079964288205,30.3042477697515),(120.079964218327,30.3041616710812),(120.080017436525,30.3041616385512),(120.080286970675,30.304161473464),(120.080286988878,30.3041838120127),(120.080330024197,30.3041837856026),(120.080330005984,30.3041614470538),(120.080552315231,30.3041613104005),(120.080552217206,30.3040414125423),(120.08032990823,30.3040415491949),(120.080329707899,30.303795837778),(120.08037261206,30.3037958114346),(120.080372565536,30.3037387779517),(120.080551969693,30.3037386676442),(120.080551832115,30.303570387025),(120.080532349076,30.3035703990161),(120.080372428264,30.3035704973318),(120.080329524201,30.303570523675),(120.08032950626,30.3035485179834),(120.080286471218,30.3035485443929),(120.08028648915,30.3035705500846),(120.080099316408,30.303570664783),(120.079890461883,30.303570792452)],\n",
    "                                     [((120.079951300016,30.3037693649924),(120.080017117913,30.3037693247644),(120.080017093282,30.3037389957892),(120.080286626275,30.3037388307048),(120.080286872973,30.304041575605),(120.080017339151,30.3040417406914),(120.079953853934,30.3040417794946),(120.079953801758,30.3039774844512),(120.079972129884,30.3039774732519),(120.079972012331,30.3038326452276),(120.079951351376,30.3038326578521),(120.079951300016,30.3037693649924))]))\n",
    "\n",
    "ax=w2.plot()\n",
    "w2.convex_hull.plot(ax=ax,alpha=0.4)\n",
    "w2.envelope.plot(ax=ax,alpha=0.2)"
   ]
  },
  {
   "cell_type": "markdown",
   "id": "00300381",
   "metadata": {},
   "source": [
    "### GeoDataFrame\n",
    "\n",
    "GeoDataFrame 延续了Pandas中GeoDataFrame的概念，是一个含有GeoSeries字段（称为矢量列）的数据表，因而可以基于DataFrame进行各类地理处理和计算  \n",
    "\n",
    "Pandas中的dataframe数据结构具体可见：https://www.runoob.com/pandas/pandas-dataframe.html  \n",
    "\n",
    "或查询官方文档：https://pandas.pydata.org/docs/reference/frame.html  "
   ]
  },
  {
   "cell_type": "markdown",
   "id": "030b0b11",
   "metadata": {},
   "source": [
    "#### 基础概念"
   ]
  },
  {
   "cell_type": "code",
   "execution_count": null,
   "id": "36a674f0",
   "metadata": {},
   "outputs": [],
   "source": [
    "# 定义并初始化一个GeoDataFrame相对比较灵活，下面是一种定义方法：\n",
    "\n",
    "# 初始化几何数据的GeoSeries\n",
    "w4GS = gpd.GeoSeries([geometry.Point(120.079629405208,30.3022725719918),\n",
    "                      geometry.Point(120.079629385719,30.3022484563826),\n",
    "                      geometry.Point(120.079616176809,30.3022484644192),\n",
    "                      geometry.Point(120.079616169137,30.3022389693603)])\n",
    "# 初始化普通数据，这一步也有很多方法，可以参考pandas.Dataframe的初始化方法\n",
    "w4data = {'temp':[23.1, 22.5, 23.8, 21.1], 'hum':[69, 72, 66, 70]}\n",
    "# “组装”成GeoDataFrame\n",
    "w4geodf = gpd.GeoDataFrame(data=w4data, geometry=w4GS)"
   ]
  },
  {
   "cell_type": "code",
   "execution_count": null,
   "id": "6b27ae8a",
   "metadata": {},
   "outputs": [],
   "source": [
    "w4geodf"
   ]
  },
  {
   "cell_type": "code",
   "execution_count": null,
   "id": "42db2b23",
   "metadata": {},
   "outputs": [],
   "source": [
    "w4geodf.geom_type"
   ]
  },
  {
   "cell_type": "code",
   "execution_count": null,
   "id": "4947e7c4",
   "metadata": {},
   "outputs": [],
   "source": [
    "# 可以尝试用别的形式来初始化GeoDataFrame\n",
    "\n",
    "# 如下是使用包含Series的字典构造GeoDataFrame的过程\n",
    "\n",
    "data = {'area':wcb.to_crs(crs='EPSG:32651').area,\n",
    "        'length':wcb.to_crs(crs='EPSG:32651').length,\n",
    "        'shape':wcb.to_crs(crs='EPSG:32651'),\n",
    "        'centroid':wcb.to_crs(crs='EPSG:32651').centroid}\n",
    "wgeodf = gpd.GeoDataFrame(data = data)\n",
    "wgeodf"
   ]
  },
  {
   "cell_type": "code",
   "execution_count": null,
   "id": "b2b1aaca",
   "metadata": {},
   "outputs": [],
   "source": [
    "# 上一步的wgeodf实际上没有定义矢量列，实际上无法进行矢量处理和计算\n",
    "wgeodf.geom_type"
   ]
  },
  {
   "cell_type": "code",
   "execution_count": null,
   "id": "65cb9b87",
   "metadata": {},
   "outputs": [],
   "source": [
    "# 因此需要使用set_geometry(col[, drop, inplace, crs])来指定矢量列：\n",
    "wgeodf.set_geometry('shape', inplace=True)\n",
    "wgeodf.geom_type"
   ]
  },
  {
   "cell_type": "code",
   "execution_count": null,
   "id": "089d3730",
   "metadata": {},
   "outputs": [],
   "source": [
    "# 如上所示，GeoDataFrame实际上可以有多个GeoSeries字段，但只能有一个“矢量主列”，可以通过set_geometry来切换矢量主列\n",
    "\n",
    "ax = wgeodf.plot(color='blue', alpha=0.4)\n",
    "wgeodf.set_geometry('centroid', inplace=True)   #切换矢量主列为'centroid'\n",
    "wgeodf.plot(ax=ax,color='red')"
   ]
  },
  {
   "cell_type": "markdown",
   "id": "f0329cc1",
   "metadata": {},
   "source": [
    "#### GeoDataFrame数据索引"
   ]
  },
  {
   "cell_type": "markdown",
   "id": "10fb063a",
   "metadata": {},
   "source": []
  },
  {
   "cell_type": "code",
   "execution_count": null,
   "id": "e0682946",
   "metadata": {},
   "outputs": [],
   "source": [
    "# geopandas自带有一份世界地图(国家和地区)数据\n",
    "# 该数据中国边境有误，仅供示例\n",
    "world = gpd.read_file(gpd.datasets.get_path('naturalearth_lowres'))\n",
    "world.plot()"
   ]
  },
  {
   "cell_type": "code",
   "execution_count": null,
   "id": "b48d09c5",
   "metadata": {},
   "outputs": [],
   "source": [
    "# 世界地图数据的主要信息如下：\n",
    "world.head()    # head()函数可以查看数据表的前五行 "
   ]
  },
  {
   "cell_type": "markdown",
   "id": "bfdde466",
   "metadata": {},
   "source": [
    "作为 `pandas.DataFrame` 的延伸，`GeoDataFrame` 同样支持 `pandas.DataFrame` 中的 `.loc` 以及 `.iloc` 对数据在行、列尺度上进行索引和筛选\n",
    "\n",
    "- `loc` → 基于行、列标签进行索引查询\n",
    "- `iloc` → 基于行、列索引（index、columns）进行索引查询，均从 0 开始\n"
   ]
  },
  {
   "cell_type": "code",
   "execution_count": null,
   "id": "fd91e906",
   "metadata": {},
   "outputs": [],
   "source": [
    "# 使用loc筛选数据 ，方括号前是行的筛选条件，方括号后是列的筛选条件\n",
    "world.loc[[1,3],['pop_est','name']]"
   ]
  },
  {
   "cell_type": "code",
   "execution_count": null,
   "id": "311174ff",
   "metadata": {},
   "outputs": [],
   "source": [
    "# 使用loc筛选数据 ，方括号前是行的筛选条件，方括号后是列的筛选条件\n",
    "# 使用冒号表示选择从某行/列到某行/列之间的全部\n",
    "world.loc[1:3,'pop_est':'name']"
   ]
  },
  {
   "cell_type": "code",
   "execution_count": null,
   "id": "1083e64a",
   "metadata": {},
   "outputs": [],
   "source": [
    "# 使用loc筛选数据 ，方括号前是行的筛选条件，方括号后是列的筛选条件\n",
    "# 单独的冒号表示全选\n",
    "world.loc[1:3,:]"
   ]
  },
  {
   "cell_type": "code",
   "execution_count": null,
   "id": "30c1781b",
   "metadata": {},
   "outputs": [],
   "source": [
    "# 还可以嵌套具体条件进行筛选\n",
    "# 如筛选人口在1亿以上的国家，并降序排列：\n",
    "world.loc[world['pop_est']>100000000, ['name','pop_est']].sort_values(by='pop_est',ascending=False)"
   ]
  },
  {
   "cell_type": "code",
   "execution_count": null,
   "id": "2bad106c",
   "metadata": {},
   "outputs": [],
   "source": [
    "# 筛选人口在1亿以上,gdp在3百万以上的国家，并按人口降序排列：\n",
    "world.loc[(world['pop_est']>100000000) & (world['gdp_md_est']>3000000), \n",
    "          ['name','pop_est','gdp_md_est']].sort_values(by='pop_est',ascending=False)"
   ]
  },
  {
   "cell_type": "code",
   "execution_count": null,
   "id": "ca4a50ae",
   "metadata": {},
   "outputs": [],
   "source": [
    "# iloc可以直接用行列的索引编号进行筛选，不需要关注行列标签名\n",
    "# 选择前10行，前4列数据\n",
    "world.iloc[:10,:4]"
   ]
  },
  {
   "cell_type": "markdown",
   "id": "d1878fff",
   "metadata": {},
   "source": [
    "面向空间数据，`geopandas` 为 `GeoDataFrame`提供了空间范围索引，即 `.cx` 方法，用于筛选与给定经纬度范围相交的对应数据"
   ]
  },
  {
   "cell_type": "code",
   "execution_count": null,
   "id": "a9db2e7d",
   "metadata": {},
   "outputs": [],
   "source": [
    "part_world = world.cx[80:110, 0:30]\n",
    "\n",
    "# 绘制第一图层：世界地图\n",
    "ax = world.plot(alpha=0.05)\n",
    "# 绘制第二图层：.cx所选择的地区\n",
    "ax = part_world.plot(ax=ax, alpha=0.6)\n",
    "# 绘制第三图层：.cx条件示意图\n",
    "ax = gpd.GeoSeries([geometry.box(minx=80, miny=0, maxx=110, maxy=30).boundary])\\\n",
    "    .plot(ax=ax, color='red')"
   ]
  },
  {
   "cell_type": "code",
   "execution_count": null,
   "id": "8085878d",
   "metadata": {},
   "outputs": [],
   "source": [
    "part_world"
   ]
  },
  {
   "cell_type": "markdown",
   "id": "0ac0f0d4",
   "metadata": {},
   "source": [
    "### Index\n",
    "\n",
    "GeoDataFrame 的 Index 与 Pandas 中相同，可使用 index 对数据建立索引，实现性能上的提升\n",
    "\n",
    "Pandas中的dataframe数据结构具体可见官方文档：https://pandas.pydata.org/docs/reference/indexing.html "
   ]
  },
  {
   "cell_type": "code",
   "execution_count": null,
   "id": "4ea3ed7c",
   "metadata": {},
   "outputs": [],
   "source": [
    "# 还是以world数据为例, 原始数据默认使用0-177的RangeIndex作为索引\n",
    "world.index"
   ]
  },
  {
   "cell_type": "code",
   "execution_count": null,
   "id": "d5e6092d",
   "metadata": {},
   "outputs": [],
   "source": [
    "# 使用set_index可以将某列指定为数据的索引\n",
    "world.set_index('iso_a3', inplace=True)\n",
    "world"
   ]
  },
  {
   "cell_type": "code",
   "execution_count": null,
   "id": "c61a22fa",
   "metadata": {},
   "outputs": [],
   "source": [
    "# 从上表和index属性可以看到，iso_a3列已成为了新的索引\n",
    "world.index"
   ]
  },
  {
   "cell_type": "code",
   "execution_count": null,
   "id": "09552f9f",
   "metadata": {},
   "outputs": [],
   "source": [
    "# 可以直接用index进行loc查找\n",
    "world.loc[['CHN']]"
   ]
  },
  {
   "cell_type": "code",
   "execution_count": null,
   "id": "05ae9456",
   "metadata": {},
   "outputs": [],
   "source": [
    "# 使用reset_index可以将索引重置为column列的rangeindex\n",
    "world.reset_index(inplace=True)\n",
    "world"
   ]
  },
  {
   "cell_type": "markdown",
   "id": "f606b732",
   "metadata": {
    "pycharm": {
     "name": "#%% md\n"
    }
   },
   "source": []
  }
 ],
 "metadata": {
  "interpreter": {
   "hash": "101cdaff5bf9416723b06a3b23d60e492c554c4a9c01236fb2d2991459f897c4"
  },
  "kernelspec": {
   "display_name": "Python [conda env:devgis]",
   "language": "python",
   "name": "python3"
  },
  "language_info": {
   "codemirror_mode": {
    "name": "ipython",
    "version": 3
   },
   "file_extension": ".py",
   "mimetype": "text/x-python",
   "name": "python",
   "nbconvert_exporter": "python",
   "pygments_lexer": "ipython3",
   "version": "3.9.12"
  }
 },
 "nbformat": 4,
 "nbformat_minor": 5
}
