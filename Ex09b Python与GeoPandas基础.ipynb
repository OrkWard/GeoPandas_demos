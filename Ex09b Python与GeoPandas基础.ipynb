{
 "cells": [
  {
   "cell_type": "code",
   "execution_count": null,
   "id": "93ca9e53",
   "metadata": {},
   "outputs": [],
   "source": [
    "from shapely import geometry\n",
    "import numpy as np\n",
    "import geopandas as gpd\n",
    "import pyproj"
   ]
  },
  {
   "cell_type": "markdown",
   "id": "e5e6217b",
   "metadata": {},
   "source": [
    "# Q1\n",
    "\n",
    "如下给出了我国县级行政区划数据，请从中找出“浙江省内所有类型为‘县级市’的行政区”"
   ]
  },
  {
   "cell_type": "code",
   "execution_count": null,
   "id": "fd6e09ba",
   "metadata": {},
   "outputs": [],
   "source": [
    "# 以下是区划数据\n",
    "county_data = gpd.read_file('zip://data/县.zip')\n",
    "county_data.head()"
   ]
  },
  {
   "cell_type": "code",
   "execution_count": null,
   "id": "43203a82",
   "metadata": {},
   "outputs": [],
   "source": [
    "# 列出满足要求的行政区的信息\n",
    "county_data.loc[county_data['省'] == '浙江省'].loc[county_data['类型'] == '县级市']\n"
   ]
  },
  {
   "cell_type": "markdown",
   "id": "a103cbb5",
   "metadata": {},
   "source": [
    "# Q2\n",
    "基于Q1中找出的行政区，使用 `copy()` 函数生成一个新的GeoDataFrame，并在其中添加并计算行政区的面积和中心点两列  \n",
    "\n",
    "按面积升序展示这个新的GeoDataFrame"
   ]
  },
  {
   "cell_type": "code",
   "execution_count": null,
   "id": "0e732284",
   "metadata": {},
   "outputs": [],
   "source": [
    "# copy函数的用法如下：\n",
    "df = gpd.GeoDataFrame(np.arange(10).reshape(2,5), columns=list('abcde'), index=list('mn'))\n",
    "print(df)\n",
    "new_df = df.iloc[:, [0,1]].copy()\n",
    "new_df"
   ]
  },
  {
   "cell_type": "code",
   "execution_count": null,
   "id": "0c056f51",
   "metadata": {},
   "outputs": [],
   "source": [
    "# \n",
    "hangzhou_data = county_data.loc[county_data['省'] == '浙江省'].loc[county_data['类型'] == '县级市'].copy()\n",
    "hangzhou_data['area'] = [geo.area for geo in hangzhou_data['geometry']]\n",
    "hangzhou_data['centroid'] = [geo.centroid for geo in hangzhou_data['geometry']]\n",
    "hangzhou_data"
   ]
  },
  {
   "cell_type": "code",
   "execution_count": null,
   "id": "996beaa6",
   "metadata": {},
   "outputs": [],
   "source": [
    "%matplotlib widget\n",
    "ax = hangzhou_data.plot()\n",
    "hangzhou_data.set_geometry('centroid', inplace=True)\n",
    "ax = hangzhou_data.plot(ax=ax, color='red')"
   ]
  }
 ],
 "metadata": {
  "interpreter": {
   "hash": "101cdaff5bf9416723b06a3b23d60e492c554c4a9c01236fb2d2991459f897c4"
  },
  "kernelspec": {
   "display_name": "Python [conda env:devgis]",
   "language": "python",
   "name": "python3"
  },
  "language_info": {
   "codemirror_mode": {
    "name": "ipython",
    "version": 3
   },
   "file_extension": ".py",
   "mimetype": "text/x-python",
   "name": "python",
   "nbconvert_exporter": "python",
   "pygments_lexer": "ipython3",
   "version": "3.9.12"
  }
 },
 "nbformat": 4,
 "nbformat_minor": 5
}
