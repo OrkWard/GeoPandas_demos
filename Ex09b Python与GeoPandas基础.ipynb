{
 "cells": [
  {
   "cell_type": "code",
   "execution_count": 2,
   "id": "93ca9e53",
   "metadata": {},
   "outputs": [],
   "source": [
    "from shapely import geometry\n",
    "import numpy as np\n",
    "import geopandas as gpd\n",
    "import pyproj"
   ]
  },
  {
   "cell_type": "markdown",
   "id": "e5e6217b",
   "metadata": {},
   "source": [
    "# Q1\n",
    "\n",
    "如下给出了我国县级行政区划数据，请从中找出“浙江省内所有类型为‘县级市’的行政区”"
   ]
  },
  {
   "cell_type": "code",
   "execution_count": 4,
   "id": "fd6e09ba",
   "metadata": {},
   "outputs": [
    {
     "data": {
      "text/html": [
       "<div>\n",
       "<style scoped>\n",
       "    .dataframe tbody tr th:only-of-type {\n",
       "        vertical-align: middle;\n",
       "    }\n",
       "\n",
       "    .dataframe tbody tr th {\n",
       "        vertical-align: top;\n",
       "    }\n",
       "\n",
       "    .dataframe thead th {\n",
       "        text-align: right;\n",
       "    }\n",
       "</style>\n",
       "<table border=\"1\" class=\"dataframe\">\n",
       "  <thead>\n",
       "    <tr style=\"text-align: right;\">\n",
       "      <th></th>\n",
       "      <th>PAC</th>\n",
       "      <th>NAME</th>\n",
       "      <th>省代码</th>\n",
       "      <th>省</th>\n",
       "      <th>市代码</th>\n",
       "      <th>市</th>\n",
       "      <th>类型</th>\n",
       "      <th>geometry</th>\n",
       "    </tr>\n",
       "  </thead>\n",
       "  <tbody>\n",
       "    <tr>\n",
       "      <th>0</th>\n",
       "      <td>110101</td>\n",
       "      <td>东城区</td>\n",
       "      <td>110000</td>\n",
       "      <td>北京市</td>\n",
       "      <td>110000</td>\n",
       "      <td>北京市</td>\n",
       "      <td>市辖区</td>\n",
       "      <td>POLYGON ((116.40581 39.96245, 116.40783 39.960...</td>\n",
       "    </tr>\n",
       "    <tr>\n",
       "      <th>1</th>\n",
       "      <td>110102</td>\n",
       "      <td>西城区</td>\n",
       "      <td>110000</td>\n",
       "      <td>北京市</td>\n",
       "      <td>110000</td>\n",
       "      <td>北京市</td>\n",
       "      <td>市辖区</td>\n",
       "      <td>POLYGON ((116.38139 39.96006, 116.38053 39.956...</td>\n",
       "    </tr>\n",
       "    <tr>\n",
       "      <th>2</th>\n",
       "      <td>110105</td>\n",
       "      <td>朝阳区</td>\n",
       "      <td>110000</td>\n",
       "      <td>北京市</td>\n",
       "      <td>110000</td>\n",
       "      <td>北京市</td>\n",
       "      <td>市辖区</td>\n",
       "      <td>MULTIPOLYGON (((116.48030 40.07965, 116.48970 ...</td>\n",
       "    </tr>\n",
       "    <tr>\n",
       "      <th>3</th>\n",
       "      <td>110106</td>\n",
       "      <td>丰台区</td>\n",
       "      <td>110000</td>\n",
       "      <td>北京市</td>\n",
       "      <td>110000</td>\n",
       "      <td>北京市</td>\n",
       "      <td>市辖区</td>\n",
       "      <td>POLYGON ((116.31980 39.89578, 116.31978 39.894...</td>\n",
       "    </tr>\n",
       "    <tr>\n",
       "      <th>4</th>\n",
       "      <td>110107</td>\n",
       "      <td>石景山区</td>\n",
       "      <td>110000</td>\n",
       "      <td>北京市</td>\n",
       "      <td>110000</td>\n",
       "      <td>北京市</td>\n",
       "      <td>市辖区</td>\n",
       "      <td>POLYGON ((116.14485 39.99233, 116.14568 39.991...</td>\n",
       "    </tr>\n",
       "  </tbody>\n",
       "</table>\n",
       "</div>"
      ],
      "text/plain": [
       "      PAC  NAME     省代码    省     市代码    市   类型  \\\n",
       "0  110101   东城区  110000  北京市  110000  北京市  市辖区   \n",
       "1  110102   西城区  110000  北京市  110000  北京市  市辖区   \n",
       "2  110105   朝阳区  110000  北京市  110000  北京市  市辖区   \n",
       "3  110106   丰台区  110000  北京市  110000  北京市  市辖区   \n",
       "4  110107  石景山区  110000  北京市  110000  北京市  市辖区   \n",
       "\n",
       "                                            geometry  \n",
       "0  POLYGON ((116.40581 39.96245, 116.40783 39.960...  \n",
       "1  POLYGON ((116.38139 39.96006, 116.38053 39.956...  \n",
       "2  MULTIPOLYGON (((116.48030 40.07965, 116.48970 ...  \n",
       "3  POLYGON ((116.31980 39.89578, 116.31978 39.894...  \n",
       "4  POLYGON ((116.14485 39.99233, 116.14568 39.991...  "
      ]
     },
     "execution_count": 4,
     "metadata": {},
     "output_type": "execute_result"
    }
   ],
   "source": [
    "# 以下是区划数据\n",
    "county_data = gpd.read_file('zip://data/县.zip')\n",
    "county_data.head()"
   ]
  },
  {
   "cell_type": "code",
   "execution_count": null,
   "id": "43203a82",
   "metadata": {},
   "outputs": [],
   "source": [
    "# 列出满足要求的行政区的信息\n",
    "\n"
   ]
  },
  {
   "cell_type": "markdown",
   "id": "a103cbb5",
   "metadata": {},
   "source": [
    "# Q2\n",
    "基于Q1中找出的行政区，使用 `copy()` 函数生成一个新的GeoDataFrame，并在其中添加并计算行政区的面积和中心点两列  \n",
    "\n",
    "按面积升序展示这个新的GeoDataFrame"
   ]
  },
  {
   "cell_type": "code",
   "execution_count": null,
   "id": "0e732284",
   "metadata": {},
   "outputs": [],
   "source": [
    "# copy函数的用法如下：\n",
    "df = gpd.GeoDataFrame(np.arange(10).reshape(2,5), columns=list('abcde'), index=list('mn'))\n",
    "print(df)\n",
    "new_df = df.iloc[:, [0,1]].copy()\n",
    "new_df"
   ]
  },
  {
   "cell_type": "code",
   "execution_count": null,
   "id": "0c056f51",
   "metadata": {},
   "outputs": [],
   "source": [
    "# \n",
    "\n"
   ]
  }
 ],
 "metadata": {
  "interpreter": {
   "hash": "101cdaff5bf9416723b06a3b23d60e492c554c4a9c01236fb2d2991459f897c4"
  },
  "kernelspec": {
   "display_name": "Python [conda env:devgis]",
   "language": "python",
   "name": "python3"
  },
  "language_info": {
   "codemirror_mode": {
    "name": "ipython",
    "version": 3
   },
   "file_extension": ".py",
   "mimetype": "text/x-python",
   "name": "python",
   "nbconvert_exporter": "python",
   "pygments_lexer": "ipython3",
   "version": "3.9.12"
  }
 },
 "nbformat": 4,
 "nbformat_minor": 5
}
