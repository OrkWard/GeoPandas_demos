{
 "cells": [
  {
   "cell_type": "markdown",
   "id": "6350b59c",
   "metadata": {},
   "source": [
    "# GeoPandas空间分析-上\n",
    "\n",
    "GeoPandas提供了丰富的空间分析能力，该部分主要讲解单个GeoSeries/GeoDataFrame的空间分析操作"
   ]
  },
  {
   "cell_type": "markdown",
   "id": "d048ea70",
   "metadata": {},
   "source": [
    "https://geopandas.org/en/stable/docs/reference/geoseries.html#constructor"
   ]
  },
  {
   "cell_type": "code",
   "execution_count": null,
   "id": "4fc19c94",
   "metadata": {},
   "outputs": [],
   "source": [
    "from shapely import geometry\n",
    "import geopandas as gpd\n",
    "import pyproj"
   ]
  },
  {
   "cell_type": "code",
   "execution_count": null,
   "id": "9520b231",
   "metadata": {},
   "outputs": [],
   "source": [
    "zjg=gpd.read_file('data/zjg.geojson')\n",
    "zjg.plot()"
   ]
  },
  {
   "cell_type": "markdown",
   "id": "69868625",
   "metadata": {},
   "source": [
    "## 通用方法和属性\n",
    "\n",
    "这部分的内容在Ex09里有涉及，此处再回顾一下："
   ]
  },
  {
   "cell_type": "markdown",
   "id": "0dddfacd",
   "metadata": {},
   "source": [
    "### area"
   ]
  },
  {
   "cell_type": "code",
   "execution_count": null,
   "id": "2ae38d4c",
   "metadata": {},
   "outputs": [],
   "source": [
    "zjg['area']=zjg.to_crs(crs='EPSG:32651').area\n",
    "zjg"
   ]
  },
  {
   "cell_type": "markdown",
   "id": "2aced60d",
   "metadata": {},
   "source": [
    "### bounds"
   ]
  },
  {
   "cell_type": "code",
   "execution_count": null,
   "id": "be9cfe4c",
   "metadata": {},
   "outputs": [],
   "source": [
    "zjg.bounds"
   ]
  },
  {
   "cell_type": "markdown",
   "id": "d13d72e3",
   "metadata": {},
   "source": [
    "### length"
   ]
  },
  {
   "cell_type": "code",
   "execution_count": null,
   "id": "9ef9b1a4",
   "metadata": {},
   "outputs": [],
   "source": [
    "zjg['length']=zjg.to_crs(crs='EPSG:32651').length\n",
    "zjg"
   ]
  },
  {
   "cell_type": "markdown",
   "id": "74ea4ad6",
   "metadata": {},
   "source": [
    "### geom_type"
   ]
  },
  {
   "cell_type": "code",
   "execution_count": null,
   "id": "afd2e495",
   "metadata": {},
   "outputs": [],
   "source": [
    "zjg.geom_type"
   ]
  },
  {
   "cell_type": "markdown",
   "id": "e3e4d4bc",
   "metadata": {},
   "source": [
    "### x/y/z"
   ]
  },
  {
   "cell_type": "code",
   "execution_count": null,
   "id": "44ea1705",
   "metadata": {},
   "outputs": [],
   "source": [
    "print(zjg.representative_point().x)\n",
    "print(zjg.representative_point().y)"
   ]
  },
  {
   "cell_type": "markdown",
   "id": "b08facab",
   "metadata": {},
   "source": [
    "## 构造方法和属性\n",
    "\n",
    "这类方法通过已有的几何对象建立新的对象"
   ]
  },
  {
   "cell_type": "markdown",
   "id": "053998e1",
   "metadata": {},
   "source": [
    "### boundary\n",
    "\n",
    "维度降一级：多边形→线环，线→点"
   ]
  },
  {
   "cell_type": "code",
   "execution_count": null,
   "id": "28ed1797",
   "metadata": {},
   "outputs": [],
   "source": [
    "%matplotlib widget\n",
    "zjg.boundary.plot()"
   ]
  },
  {
   "cell_type": "markdown",
   "id": "a898171d",
   "metadata": {},
   "source": [
    "### centroid"
   ]
  },
  {
   "cell_type": "code",
   "execution_count": null,
   "id": "3a8776e3",
   "metadata": {},
   "outputs": [],
   "source": [
    "ax = zjg.to_crs(crs='EPSG:32651').boundary.plot()\n",
    "zjg.to_crs(crs='EPSG:32651').centroid.plot(ax=ax, color='Red')"
   ]
  },
  {
   "cell_type": "markdown",
   "id": "91d36acf",
   "metadata": {},
   "source": [
    "### representative_point()\n",
    "\n",
    "初略计算（可以拿之前的全国区划数据自己试一下和centroid的用时差距）"
   ]
  },
  {
   "cell_type": "code",
   "execution_count": null,
   "id": "5f81b2db",
   "metadata": {},
   "outputs": [],
   "source": [
    "ax = zjg.to_crs(crs='EPSG:32651').boundary.plot()\n",
    "zjg.to_crs(crs='EPSG:32651').representative_point().plot(ax=ax, color='Red')"
   ]
  },
  {
   "cell_type": "markdown",
   "id": "cefa7da7",
   "metadata": {},
   "source": [
    "### convex_hull / envelope\n",
    "\n",
    "分别返回凸包和aabbox"
   ]
  },
  {
   "cell_type": "code",
   "execution_count": null,
   "id": "791aef93",
   "metadata": {},
   "outputs": [],
   "source": [
    "east=zjg.loc[zjg['name']=='East']\n",
    "ax=east.envelope.plot(alpha=0.2)\n",
    "east.convex_hull.plot(ax=ax,alpha=0.4,color='Yellow')\n",
    "east.boundary.plot(ax=ax,color='Red')"
   ]
  },
  {
   "cell_type": "markdown",
   "id": "6c35b4bc",
   "metadata": {},
   "source": [
    "### buffer()\n",
    "\n",
    "缓冲区分析是最重要的空间分析方法之一，GeoPandas提供了buffer方法用于缓冲区分析"
   ]
  },
  {
   "cell_type": "code",
   "execution_count": null,
   "id": "5af074b8",
   "metadata": {},
   "outputs": [],
   "source": [
    "east = zjg.loc[zjg['name']=='East'].to_crs(crs='EPSG:32651')\n",
    "ax = east.plot()\n",
    "east.buffer(100).plot(ax=ax,alpha=0.2)    # 单位是米"
   ]
  },
  {
   "cell_type": "markdown",
   "id": "97d563f0",
   "metadata": {},
   "source": [
    "`buffer`的第二个参数`resolution`可以控制缓冲区转角的圆滑程度，`resolution=1`时可以生成直角边的缓冲"
   ]
  },
  {
   "cell_type": "code",
   "execution_count": null,
   "id": "efdc90cd",
   "metadata": {},
   "outputs": [],
   "source": [
    "ax = east.plot()\n",
    "east.buffer(100,1).plot(ax=ax,alpha=0.2)     "
   ]
  },
  {
   "cell_type": "markdown",
   "id": "0e5fb0d0",
   "metadata": {},
   "source": [
    "距离设置为负值时可向内缓冲"
   ]
  },
  {
   "cell_type": "code",
   "execution_count": null,
   "id": "5789916d",
   "metadata": {},
   "outputs": [],
   "source": [
    "ax = east.buffer(-100,1).plot()\n",
    "east.plot(ax=ax,alpha=0.2)  "
   ]
  },
  {
   "cell_type": "markdown",
   "id": "b8143f3e",
   "metadata": {},
   "source": [
    "### simplify()\n",
    "\n",
    "返回简化的几何对象,`tolerance`参数确保简化对象的每一部分与原始对象的距离均小于该值（单位取决于坐标系）"
   ]
  },
  {
   "cell_type": "code",
   "execution_count": null,
   "id": "0034cb99",
   "metadata": {},
   "outputs": [],
   "source": [
    "ax = east.boundary.plot()\n",
    "east.simplify(0.0005).plot(ax=ax,alpha=0.6,color='Red')"
   ]
  },
  {
   "cell_type": "markdown",
   "id": "d880b7ef",
   "metadata": {},
   "source": [
    "## 聚合与拆分\n",
    "\n",
    "GeoPandas提供了一系列聚合与拆分方法，用于将多个几何对象聚合为一个，或将一个几何对象拆分为多个"
   ]
  },
  {
   "cell_type": "markdown",
   "id": "fde11e1e",
   "metadata": {},
   "source": [
    "### unary_union\n",
    "\n",
    "该属性返回全部几何对象合并成的一个几何对象"
   ]
  },
  {
   "cell_type": "code",
   "execution_count": null,
   "id": "fb837821",
   "metadata": {},
   "outputs": [],
   "source": [
    "world = gpd.read_file(gpd.datasets.get_path('naturalearth_lowres'))\n",
    "world.plot(edgecolor='white',linewidth=0.5)"
   ]
  },
  {
   "cell_type": "code",
   "execution_count": null,
   "id": "35e219db",
   "metadata": {},
   "outputs": [],
   "source": [
    "world.unary_union"
   ]
  },
  {
   "cell_type": "code",
   "execution_count": null,
   "id": "29aa6731",
   "metadata": {},
   "outputs": [],
   "source": [
    "# unary_union返回的是一个几何对象，而不是GeoSeries/GeoDataFrame\n",
    "type(world.unary_union)"
   ]
  },
  {
   "cell_type": "markdown",
   "id": "f34d1b6a",
   "metadata": {},
   "source": [
    "### dissolve()\n",
    "\n",
    "`dissolve()`方法可以对GeoDataFrame中的几何对象按照一定的字段规则进行聚合"
   ]
  },
  {
   "cell_type": "code",
   "execution_count": null,
   "id": "6ba63fdd",
   "metadata": {},
   "outputs": [],
   "source": [
    "world.head()"
   ]
  },
  {
   "cell_type": "code",
   "execution_count": null,
   "id": "1cbd5897",
   "metadata": {},
   "outputs": [],
   "source": [
    "world_diss = world.loc[:,['pop_est','continent','gdp_md_est','geometry']]\n",
    "world_diss = world_diss.dissolve(by='continent',\n",
    "                                 aggfunc={'pop_est':'sum',\n",
    "                                          'gdp_md_est':'sum'})\n",
    "world_diss.head()"
   ]
  },
  {
   "cell_type": "code",
   "execution_count": null,
   "id": "e40cf303",
   "metadata": {},
   "outputs": [],
   "source": [
    "world_diss.plot(edgecolor='Yellow',linewidth=0.5)"
   ]
  },
  {
   "cell_type": "markdown",
   "id": "20c0bc38",
   "metadata": {},
   "source": [
    "### explode()\n",
    "\n",
    "`explode()`方法能将一个`Multi-`类型的几何对象拆成多个"
   ]
  },
  {
   "cell_type": "code",
   "execution_count": null,
   "id": "5dd860dc",
   "metadata": {},
   "outputs": [],
   "source": [
    "world.explode(ignore_index=False, index_parts=True).head()"
   ]
  },
  {
   "cell_type": "markdown",
   "id": "df2db3d3",
   "metadata": {},
   "source": [
    "# GeoPandas空间分析-下\n",
    "\n",
    "GeoPandas提供了丰富的空间分析能力，该部分主要讲解多个GeoSeries/GeoDataFrame之间的空间分析操作"
   ]
  },
  {
   "cell_type": "markdown",
   "id": "9c7e107c",
   "metadata": {},
   "source": [
    "## 拓扑关系\n",
    "\n",
    "拓扑关系是几何对象间最基本的关系，GeoPandas提供了许多用于判断拓扑关系的方法。\n",
    "需要注意的是，GeoSeries/GeoDataframe可能含有一个或多个几何对象，因此需要进行区分，以`A.Topo(B)`为例，可能包含如下情况：\n",
    "\n",
    "- A有n个对象，B有n个对象：A中的每一个几何对象会按索引和B中的对象两两对比，返回一个长为n的Series\n",
    "- A有n个对象，B有m个对象（n≠m）：A中的每一个几何对象会按索引和B中的对象两两对比，多出的行自动返回False"
   ]
  },
  {
   "cell_type": "markdown",
   "id": "c8c651d2",
   "metadata": {},
   "source": [
    "### contains()"
   ]
  },
  {
   "cell_type": "code",
   "execution_count": null,
   "id": "9a7b04f8",
   "metadata": {},
   "outputs": [],
   "source": [
    "gs_a = gpd.GeoDataFrame({\n",
    "    'value': ['a1', 'a2'],\n",
    "    'geometry': [geometry.Polygon([(0,0), (2,0), (2,2), (0,2)]),\n",
    "                 geometry.Polygon([(0,0), (-1,0), (-1,-1), (0,-1)]),]\n",
    "})\n",
    "\n",
    "\n",
    "gs_b = gpd.GeoDataFrame({\n",
    "    'value': ['b1', 'b2'],\n",
    "    'geometry': [geometry.Polygon([(1,1), (1,1.5), (1.5,1.5), (1.5,1)]),\n",
    "                 geometry.Polygon([(0,0), (-1,0), (-1,-1), (0,-1)])]\n",
    "})\n",
    "\n",
    "ax = gs_a.plot(color='Red', edgecolor='Yellow', alpha=0.4)\n",
    "ax = gs_b.plot(color='Blue', edgecolor='Yellow', alpha=0.4, ax=ax)\n",
    "\n",
    "gs_a.contains(gs_b)"
   ]
  },
  {
   "cell_type": "markdown",
   "id": "2198ace4",
   "metadata": {},
   "source": [
    "### within()"
   ]
  },
  {
   "cell_type": "code",
   "execution_count": null,
   "id": "2268bd79",
   "metadata": {},
   "outputs": [],
   "source": [
    "gs_a = gpd.GeoDataFrame({\n",
    "    'value': ['a1', 'a2'],\n",
    "    'geometry': [geometry.Polygon([(0,0), (2,0), (2,2), (0,2)]),\n",
    "                 geometry.Polygon([(0,0), (-1,0), (-1,-1), (0,-1)]),]\n",
    "})\n",
    "\n",
    "\n",
    "gs_b = gpd.GeoDataFrame({\n",
    "    'value': ['b1', 'b2'],\n",
    "    'geometry': [geometry.Polygon([(1,1), (1,1.5), (1.5,1.5), (1.5,1)]),\n",
    "                 geometry.Polygon([(0,0), (-1,0), (-1,-1), (0,-1)])]\n",
    "})\n",
    "\n",
    "ax = gs_a.plot(color='Red', edgecolor='Yellow', alpha=0.4)\n",
    "ax = gs_b.plot(color='Blue', edgecolor='Yellow', alpha=0.4, ax=ax)\n",
    "\n",
    "gs_a.within(gs_b)"
   ]
  },
  {
   "cell_type": "markdown",
   "id": "20ea32bb",
   "metadata": {},
   "source": [
    "### intersects()"
   ]
  },
  {
   "cell_type": "code",
   "execution_count": null,
   "id": "84374716",
   "metadata": {},
   "outputs": [],
   "source": [
    "gs_a = gpd.GeoDataFrame({\n",
    "    'value': ['a1', 'a2', 'a3', 'a4'],\n",
    "    'geometry': [geometry.Polygon([(0,0), (2,0), (2,2), (0,2)]),\n",
    "                 geometry.Polygon([(0,0), (-2,0), (-2,2), (0,2)]),\n",
    "                 geometry.Polygon([(0,0), (-1,0), (-1,-1), (0,-1)]),\n",
    "                 geometry.Polygon([(0,0), (1,0), (1,-1), (0,-1)])]\n",
    "})\n",
    "\n",
    "gs_b = gpd.GeoDataFrame({\n",
    "    'value': ['b1', 'b2', 'b3', 'a4'],\n",
    "    'geometry': [geometry.Polygon([(1,1), (1,3), (3,3), (3,1)]),\n",
    "                 geometry.Polygon([(0,0), (-1,0), (-1,1), (0,1)]),\n",
    "                 geometry.Polygon([(0,0), (-1,0), (-1,-1), (0,-1)]),\n",
    "                 geometry.Polygon([(2,-1), (2,-2), (1,-2), (1,-1)])]\n",
    "})\n",
    "\n",
    "ax = gs_a.plot(color='Red', edgecolor='Yellow', alpha=0.4)\n",
    "ax = gs_b.plot(color='Blue', edgecolor='Yellow', alpha=0.4, ax=ax)\n",
    "\n",
    "gs_a.intersects(gs_b)"
   ]
  },
  {
   "cell_type": "markdown",
   "id": "32cccc68",
   "metadata": {},
   "source": [
    "### disjoint()"
   ]
  },
  {
   "cell_type": "code",
   "execution_count": null,
   "id": "1ab6fa12",
   "metadata": {},
   "outputs": [],
   "source": [
    "gs_a = gpd.GeoDataFrame({\n",
    "    'value': ['a1', 'a2', 'a3', 'a4'],\n",
    "    'geometry': [geometry.Polygon([(0,0), (2,0), (2,2), (0,2)]),\n",
    "                 geometry.Polygon([(0,0), (-2,0), (-2,2), (0,2)]),\n",
    "                 geometry.Polygon([(0,0), (-1,0), (-1,-1), (0,-1)]),\n",
    "                 geometry.Polygon([(0,0), (1,0), (1,-1), (0,-1)])]\n",
    "})\n",
    "\n",
    "gs_b = gpd.GeoDataFrame({\n",
    "    'value': ['b1', 'b2', 'b3', 'a4'],\n",
    "    'geometry': [geometry.Polygon([(1,1), (1,3), (3,3), (3,1)]),\n",
    "                 geometry.Polygon([(0,0), (-1,0), (-1,1), (0,1)]),\n",
    "                 geometry.Polygon([(0,0), (-1,0), (-1,-1), (0,-1)]),\n",
    "                 geometry.Polygon([(2,-1.1), (2,-2.1), (1,-2.1), (1,-1.1)])]    #向下移动0.1\n",
    "})   \n",
    "ax = gs_a.plot(color='Red', edgecolor='Yellow', alpha=0.4)\n",
    "ax = gs_b.plot(color='Blue', edgecolor='Yellow', alpha=0.4, ax=ax)\n",
    "\n",
    "gs_a.disjoint(gs_b)"
   ]
  },
  {
   "cell_type": "markdown",
   "id": "7c01dc84",
   "metadata": {},
   "source": [
    "### crosses()"
   ]
  },
  {
   "cell_type": "code",
   "execution_count": null,
   "id": "e1d6816b",
   "metadata": {},
   "outputs": [],
   "source": [
    "gs_a = gpd.GeoDataFrame({\n",
    "    'value': ['a1', 'a2', 'a3', 'a4'],\n",
    "    'geometry': [geometry.Polygon([(0,0), (2,0), (2,2), (0,2)]),\n",
    "                 geometry.LineString([(0,0), (-2,2)]),\n",
    "                 geometry.Polygon([(0,0), (-1,0), (-1,-1), (0,-1)]),\n",
    "                 geometry.Polygon([(0,0), (1,0), (1,-1), (0,-1)])]\n",
    "})\n",
    "\n",
    "gs_b = gpd.GeoDataFrame({\n",
    "    'value': ['b1', 'b2', 'b3', 'a4'],\n",
    "    'geometry': [geometry.LineString([(1,1), (3,3)]),\n",
    "                 geometry.LineString([(-3,-1), (0,3)]),\n",
    "                 geometry.LineString([(-2,-1),(-1,-2)]),\n",
    "                 geometry.Point(2,-2)]\n",
    "})\n",
    "\n",
    "ax = gs_a.plot(color='Red', edgecolor='Yellow', alpha=0.4)\n",
    "ax = gs_b.plot(color='Blue', edgecolor='Yellow', alpha=0.4, ax=ax)\n",
    "\n",
    "gs_a.crosses(gs_b)"
   ]
  },
  {
   "cell_type": "markdown",
   "id": "b8edd28b",
   "metadata": {},
   "source": [
    "### overlaps()\n",
    "\n",
    "内部有重叠，但不是全部重叠"
   ]
  },
  {
   "cell_type": "code",
   "execution_count": null,
   "id": "c3e40394",
   "metadata": {},
   "outputs": [],
   "source": [
    "gs_a = gpd.GeoDataFrame({\n",
    "    'value': ['a1', 'a2', 'a3', 'a4'],\n",
    "    'geometry': [geometry.Polygon([(0,0), (2,0), (2,2), (0,2)]),\n",
    "                 geometry.Polygon([(0,0), (-2,0), (-2,2), (0,2)]),\n",
    "                 geometry.Polygon([(0,0), (-1,0), (-1,-1), (0,-1)]),\n",
    "                 geometry.Polygon([(0,0), (1,0), (1,-1), (0,-1)])]\n",
    "})\n",
    "\n",
    "gs_b = gpd.GeoDataFrame({\n",
    "    'value': ['b1', 'b2', 'b3', 'a4'],\n",
    "    'geometry': [geometry.Polygon([(1,1), (1,3), (3,3), (3,1)]),\n",
    "                 geometry.Polygon([(0,0), (-1,0), (-1,1), (0,1)]),\n",
    "                 geometry.Polygon([(0,0), (-1,0), (-1,-1), (0,-1)]),\n",
    "                 geometry.Polygon([(2,-1), (2,-2), (1,-2), (1,-1)])]\n",
    "})\n",
    "\n",
    "ax = gs_a.plot(color='Red', edgecolor='Yellow', alpha=0.4)\n",
    "ax = gs_b.plot(color='Blue', edgecolor='Yellow', alpha=0.4, ax=ax)\n",
    "\n",
    "gs_a.overlaps(gs_b)"
   ]
  },
  {
   "cell_type": "markdown",
   "id": "5c300178",
   "metadata": {},
   "source": [
    "### touches()\n",
    "\n",
    "内部没有相交区域"
   ]
  },
  {
   "cell_type": "code",
   "execution_count": null,
   "id": "6c46923b",
   "metadata": {},
   "outputs": [],
   "source": [
    "gs_a = gpd.GeoDataFrame({\n",
    "    'value': ['a1', 'a2', 'a3'],\n",
    "    'geometry': [geometry.Polygon([(0,0), (2,0), (2,2), (0,2)]),\n",
    "                 geometry.Polygon([(0,0), (-1,0), (-1,-1), (0,-1)]),\n",
    "                 geometry.Polygon([(0,0), (1,0), (1,-1), (0,-1)])]\n",
    "})\n",
    "\n",
    "gs_b = gpd.GeoDataFrame({\n",
    "    'value': ['b1', 'b2', 'b3'],\n",
    "    'geometry': [geometry.Polygon([(1,1), (1,3), (3,3), (3,1)]),\n",
    "                 geometry.Polygon([(-1,-0.5), (-2,-0.5), (-2,-1.5), (-1,-1.5)]),\n",
    "                 geometry.Polygon([(2,-1), (2,-2), (1,-2), (1,-1)])]\n",
    "})\n",
    "\n",
    "ax = gs_a.plot(color='Red', edgecolor='Yellow', alpha=0.4)\n",
    "ax = gs_b.plot(color='Blue', edgecolor='Yellow', alpha=0.4, ax=ax)\n",
    "\n",
    "gs_a.touches(gs_b)"
   ]
  },
  {
   "cell_type": "markdown",
   "id": "585e6b9e",
   "metadata": {},
   "source": [
    "### geom_equals()"
   ]
  },
  {
   "cell_type": "code",
   "execution_count": null,
   "id": "7ef2cee2",
   "metadata": {},
   "outputs": [],
   "source": [
    "gs_a = gpd.GeoDataFrame({\n",
    "    'value': ['a1', 'a2', 'a3', 'a4'],\n",
    "    'geometry': [geometry.Polygon([(0,0), (2,0), (2,2), (0,2)]),\n",
    "                 geometry.Polygon([(0,0), (-2,0), (-2,2), (0,2)]),\n",
    "                 geometry.Polygon([(0,0), (-1,0), (-1,-1), (0,-1)]),\n",
    "                 geometry.Polygon([(0,0), (1,0), (1,-1), (0,-1)])]\n",
    "})\n",
    "\n",
    "gs_b = gpd.GeoDataFrame({\n",
    "    'value': ['b1', 'b2', 'b3', 'a4'],\n",
    "    'geometry': [geometry.Polygon([(1,1), (1,3), (3,3), (3,1)]),\n",
    "                 geometry.Polygon([(0,0), (-1,0), (-1,1), (0,1)]),\n",
    "                 geometry.Polygon([(0,0), (-1,0), (-1,-1), (0,-1)]),\n",
    "                 geometry.Polygon([(2,-1), (2,-2), (1,-2), (1,-1)])]\n",
    "})\n",
    "\n",
    "ax = gs_a.plot(color='Red', edgecolor='Yellow', alpha=0.4)\n",
    "ax = gs_b.plot(color='Blue', edgecolor='Yellow', alpha=0.4, ax=ax)\n",
    "\n",
    "gs_a.geom_equals(gs_b)"
   ]
  },
  {
   "cell_type": "markdown",
   "id": "a97e0ff3",
   "metadata": {},
   "source": [
    "### 逐行对应（`align=False`）\n",
    "\n",
    "`align=False`能让两个GeoDataFrame比较时按行顺序匹配，不按索引名匹配。\n",
    "\n",
    "![img](https://geopandas.org/en/stable/_images/binary_op-02.svg)"
   ]
  },
  {
   "cell_type": "code",
   "execution_count": null,
   "id": "eda264e2",
   "metadata": {},
   "outputs": [],
   "source": [
    "gs_a = gpd.GeoDataFrame({\n",
    "    'value': ['1', '2', '3', '4'],\n",
    "    'geometry': [geometry.Polygon([(0,0), (2,0), (2,2), (0,2)]),\n",
    "                 geometry.Polygon([(0,0), (-2,0), (-2,2), (0,2)]),\n",
    "                 geometry.Polygon([(0,0), (-1,0), (-1,-1), (0,-1)]),\n",
    "                 geometry.Polygon([(0,0), (1,0), (1,-1), (0,-1)])]\n",
    "})\n",
    "gs_a.set_index('value',inplace=True)\n",
    "\n",
    "gs_b = gpd.GeoDataFrame({\n",
    "    'value': ['1', '4', '2', '3'],\n",
    "    'geometry': [geometry.Polygon([(1,1), (1,3), (3,3), (3,1)]),\n",
    "                 geometry.Polygon([(-1,1), (-1,2), (-2,2), (-2,1)]),\n",
    "                 geometry.Polygon([(-1,-0.5), (-2,-0.5), (-2,-1.5), (-1,-1.5)]),\n",
    "                 geometry.Polygon([(2,-1), (2,-2), (1,-2), (1,-1)])]\n",
    "})\n",
    "gs_b.set_index('value',inplace=True)\n",
    "\n",
    "ax = gs_a.plot(color='Red', edgecolor='Yellow', alpha=0.4)\n",
    "ax = gs_b.plot(color='Blue', edgecolor='Yellow', alpha=0.4, ax=ax)"
   ]
  },
  {
   "cell_type": "code",
   "execution_count": null,
   "id": "5b97c185",
   "metadata": {},
   "outputs": [],
   "source": [
    "print(gs_a)\n",
    "print(gs_b)"
   ]
  },
  {
   "cell_type": "code",
   "execution_count": null,
   "id": "e55ac696",
   "metadata": {},
   "outputs": [],
   "source": [
    "gs_a.intersects(gs_b, align=False)"
   ]
  },
  {
   "cell_type": "code",
   "execution_count": null,
   "id": "7b0855b7",
   "metadata": {},
   "outputs": [],
   "source": [
    "gs_a.intersects(gs_b, align=True)"
   ]
  },
  {
   "cell_type": "markdown",
   "id": "5ccce9b4",
   "metadata": {},
   "source": [
    "## 叠加分析\n",
    "\n",
    "GeoPandas的`overlay()`方法提供了对GeoDataFrame对象进行叠加分析的能力"
   ]
  },
  {
   "cell_type": "code",
   "execution_count": null,
   "id": "e663ac8b",
   "metadata": {},
   "outputs": [],
   "source": [
    "polys1 = gpd.GeoSeries([geometry.Polygon([(0,0), (2,0), (2,2), (0,2)]),\n",
    "                              geometry.Polygon([(2,2), (4,2), (4,4), (2,4)])])\n",
    "polys2 = gpd.GeoSeries([geometry.Polygon([(1,1), (3,1), (3,3), (1,3)]),\n",
    "                              geometry.Polygon([(3,3), (5,3), (5,5), (3,5)])])\n",
    "df1 = gpd.GeoDataFrame({'geometry': polys1, 'df1_data':[1,2]})\n",
    "df2 = gpd.GeoDataFrame({'geometry': polys2, 'df2_data':[1,2]})"
   ]
  },
  {
   "cell_type": "code",
   "execution_count": null,
   "id": "a3f39eb8",
   "metadata": {},
   "outputs": [],
   "source": [
    "df1"
   ]
  },
  {
   "cell_type": "code",
   "execution_count": null,
   "id": "ad8ff011",
   "metadata": {},
   "outputs": [],
   "source": [
    "df2"
   ]
  },
  {
   "cell_type": "code",
   "execution_count": null,
   "id": "0cc03012",
   "metadata": {},
   "outputs": [],
   "source": [
    "ax = df1.plot(color='blue',alpha=0.5)\n",
    "df2.plot(ax=ax, color='yellow', alpha=0.5)"
   ]
  },
  {
   "cell_type": "markdown",
   "id": "c24caa73",
   "metadata": {},
   "source": [
    "### union"
   ]
  },
  {
   "cell_type": "code",
   "execution_count": null,
   "id": "10f8299c",
   "metadata": {},
   "outputs": [],
   "source": [
    "overlay_union = gpd.overlay(df1,df2,how='union')\n",
    "overlay_union"
   ]
  },
  {
   "cell_type": "code",
   "execution_count": null,
   "id": "fca12141",
   "metadata": {},
   "outputs": [],
   "source": [
    "overlay_union.plot(edgecolor='Yellow')"
   ]
  },
  {
   "cell_type": "markdown",
   "id": "ce780636",
   "metadata": {},
   "source": [
    "### intersection"
   ]
  },
  {
   "cell_type": "code",
   "execution_count": null,
   "id": "9cea0b7f",
   "metadata": {},
   "outputs": [],
   "source": [
    "overlay_inter = gpd.overlay(df1,df2,how='intersection')\n",
    "overlay_inter"
   ]
  },
  {
   "cell_type": "code",
   "execution_count": null,
   "id": "f8b70d4f",
   "metadata": {},
   "outputs": [],
   "source": [
    "ax=overlay_inter.plot(edgecolor='Yellow')\n",
    "ax.set_xlim(-0.2,5.2)\n",
    "ax.set_ylim(-0.2,5.2)"
   ]
  },
  {
   "cell_type": "markdown",
   "id": "04db8792",
   "metadata": {},
   "source": [
    "### difference"
   ]
  },
  {
   "cell_type": "code",
   "execution_count": null,
   "id": "06f0610c",
   "metadata": {},
   "outputs": [],
   "source": [
    "overlay_diff = gpd.overlay(df1,df2,how='difference')\n",
    "overlay_diff"
   ]
  },
  {
   "cell_type": "code",
   "execution_count": null,
   "id": "f391d48d",
   "metadata": {},
   "outputs": [],
   "source": [
    "ax = overlay_diff.plot(edgecolor='yellow')\n",
    "ax.set_xlim(-0.2,5.2)\n",
    "ax.set_ylim(-0.2,5.2)"
   ]
  },
  {
   "cell_type": "code",
   "execution_count": null,
   "id": "a264b2f1",
   "metadata": {},
   "outputs": [],
   "source": [
    "# difference方法实际上是区分主次的\n",
    "overlay_diff = gpd.overlay(df2,df1,how='difference')\n",
    "overlay_diff"
   ]
  },
  {
   "cell_type": "code",
   "execution_count": null,
   "id": "ec1bb216",
   "metadata": {},
   "outputs": [],
   "source": [
    "ax = overlay_diff.plot(edgecolor='yellow')\n",
    "ax.set_xlim(-0.2,5.2)\n",
    "ax.set_ylim(-0.2,5.2)"
   ]
  },
  {
   "cell_type": "code",
   "execution_count": null,
   "id": "fdc34786",
   "metadata": {},
   "outputs": [],
   "source": [
    "# 为了更直接的表达主次关系，也可以使用geodataframe.overlaye()的形式：\n",
    "overlay_diff = df1.overlay(df2,how='difference')\n",
    "ax = overlay_diff.plot(edgecolor='yellow')\n",
    "ax.set_xlim(-0.2,5.2)\n",
    "ax.set_ylim(-0.2,5.2)"
   ]
  },
  {
   "cell_type": "markdown",
   "id": "578833c3",
   "metadata": {},
   "source": [
    "### symmetric_difference\n",
    "\n",
    "交集取反"
   ]
  },
  {
   "cell_type": "code",
   "execution_count": null,
   "id": "ad26d29f",
   "metadata": {},
   "outputs": [],
   "source": [
    "overlay_symdiff = gpd.overlay(df1,df2,how='symmetric_difference')\n",
    "overlay_symdiff"
   ]
  },
  {
   "cell_type": "code",
   "execution_count": null,
   "id": "a6ac5f3e",
   "metadata": {},
   "outputs": [],
   "source": [
    "ax = overlay_symdiff.plot(edgecolor='yellow')\n",
    "ax.set_xlim(-0.2,5.2)\n",
    "ax.set_ylim(-0.2,5.2)"
   ]
  },
  {
   "cell_type": "markdown",
   "id": "d13821f3",
   "metadata": {},
   "source": [
    "### identity\n",
    "\n",
    "标识"
   ]
  },
  {
   "cell_type": "code",
   "execution_count": null,
   "id": "7f4ae3f1",
   "metadata": {},
   "outputs": [],
   "source": [
    "road = gpd.GeoSeries([geometry.LineString([(0,0), (4,1), (5,5)]),\n",
    "                      geometry.LineString([(1,0), (4,4), (0,5)])])\n",
    "area = gpd.GeoSeries([geometry.Polygon([(0,0), (3,0), (3,5), (0,5)]),\n",
    "                      geometry.Polygon([(3,0), (5,0), (5,5), (3,5)])])\n",
    "df_road = gpd.GeoDataFrame({'geometry': road, 'df1_data':['road_1','road_2']})\n",
    "df_area = gpd.GeoDataFrame({'geometry': area, 'df2_data':['area_1','area_2']})"
   ]
  },
  {
   "cell_type": "code",
   "execution_count": null,
   "id": "71ed69f8",
   "metadata": {},
   "outputs": [],
   "source": [
    "ax = df_road.plot(color='yellow')\n",
    "df_area.plot(ax=ax, color='green', edgecolor='white', alpha=0.5)"
   ]
  },
  {
   "cell_type": "code",
   "execution_count": null,
   "id": "2c107263",
   "metadata": {},
   "outputs": [],
   "source": [
    "df_iden = gpd.overlay(df_road, df_area, how='identity')\n",
    "\n",
    "df_iden"
   ]
  },
  {
   "cell_type": "code",
   "execution_count": null,
   "id": "29cb44c7",
   "metadata": {},
   "outputs": [],
   "source": [
    "ax = df_iden.loc[df_iden['df2_data']=='area_1'].plot(color='red')\n",
    "df_iden.loc[df_iden['df2_data']=='area_2'].plot(ax = ax, color='blue')\n",
    "df_area.plot(ax=ax, color='green', edgecolor='white', alpha=0.5)"
   ]
  },
  {
   "cell_type": "markdown",
   "id": "cf916592",
   "metadata": {},
   "source": [
    "## 裁切与提取\n",
    "\n",
    "通过`clip()`函数，我们可以实现用某一蒙版矢量来裁切另一个地理对象"
   ]
  },
  {
   "cell_type": "code",
   "execution_count": null,
   "id": "32da728a",
   "metadata": {},
   "outputs": [],
   "source": [
    "road = gpd.GeoSeries([geometry.LineString([(0,0), (4,1), (5,5)]),\n",
    "                      geometry.LineString([(1,0), (4,4), (0,5)])])\n",
    "area = gpd.GeoSeries([geometry.Polygon([(2,0), (2,5), (3.5,5), (3.5,0)])])\n",
    "\n",
    "df_road = gpd.GeoDataFrame({'geometry': road, 'df1_data':['road_1','road_2']})\n",
    "df_area = gpd.GeoDataFrame({'geometry': area, 'df2_data':['area_1']})\n",
    "\n",
    "ax = df_road.plot(color='blue')\n",
    "df_area.plot(ax=ax, color='green', edgecolor='white', alpha=0.5)"
   ]
  },
  {
   "cell_type": "code",
   "execution_count": null,
   "id": "7909a841",
   "metadata": {},
   "outputs": [],
   "source": [
    "df_clip = gpd.clip(df_road, df_area)\n",
    "df_clip"
   ]
  },
  {
   "cell_type": "code",
   "execution_count": null,
   "id": "7d6f5a73",
   "metadata": {},
   "outputs": [],
   "source": [
    "ax = df_clip.plot(color='blue')\n",
    "df_area.plot(ax=ax, color='green', edgecolor='white', alpha=0.5)\n",
    "ax.set_xlim(-0.2,5.2)\n",
    "ax.set_ylim(-0.2,5.2)"
   ]
  },
  {
   "cell_type": "markdown",
   "id": "4d0d9d95",
   "metadata": {},
   "source": [
    "需要注意clip方法和overlay方法的不同：后者是独立计算每一个结合对象的。\n",
    "\n",
    "因此在df2有部分重叠的情况下，overlay方法可能会导致df1中的几何对象被重复提取，以下是一个具体例子："
   ]
  },
  {
   "cell_type": "code",
   "execution_count": null,
   "id": "a5c1160a",
   "metadata": {},
   "outputs": [],
   "source": [
    "road = gpd.GeoSeries([geometry.LineString([(0,0), (4,1), (5,5)]),\n",
    "                      geometry.LineString([(1,0), (4,4), (0,5)])])\n",
    "area = gpd.GeoSeries([geometry.Polygon([(2,0), (2,5), (3.5,5), (3.5,0)]),\n",
    "                      geometry.Polygon([(0,0), (5,0), (5,1), (0,1)])])\n",
    "\n",
    "df_road = gpd.GeoDataFrame({'geometry': road, 'df1_data':['road_1','road_2']})\n",
    "df_area = gpd.GeoDataFrame({'geometry': area, 'df2_data':['area_1','area_2']})\n",
    "\n",
    "ax = df_road.plot(color='blue')\n",
    "df_area.plot(ax=ax, color='green', edgecolor='white', alpha=0.5)"
   ]
  },
  {
   "cell_type": "code",
   "execution_count": null,
   "id": "aa2cc60b",
   "metadata": {},
   "outputs": [],
   "source": [
    "df_clip = gpd.clip(df_road, df_area)\n",
    "df_clip"
   ]
  },
  {
   "cell_type": "code",
   "execution_count": null,
   "id": "1dba54a9",
   "metadata": {},
   "outputs": [],
   "source": [
    "# 如果是intersection\n",
    "df_road\n",
    "df_road.set_geometry('geometry')"
   ]
  },
  {
   "cell_type": "code",
   "execution_count": null,
   "id": "f37869ee",
   "metadata": {},
   "outputs": [],
   "source": [
    "df_inter = df_road.overlay(df_area,how='intersection')\n",
    "df_inter "
   ]
  },
  {
   "cell_type": "code",
   "execution_count": null,
   "id": "8c7de6d7",
   "metadata": {},
   "outputs": [],
   "source": [
    "# 可以看到一共有四条记录，我们画出来看一下，注意两个区域的重叠范围（绿框）内的情况\n",
    "ax = df_area.iloc[[0]].overlay(df_area.iloc[[1]],how='intersection').boundary.plot(color='green', edgecolor='white', alpha=0.4)\n",
    "df_inter.loc[df_inter['df2_data']=='area_1'].plot(ax=ax, color='red',alpha=1)    # 与area1重叠的部分\n",
    "df_inter.loc[df_inter['df2_data']=='area_2'].plot(ax=ax, color='blue',alpha=0.6) # 与area2重叠的部分"
   ]
  },
  {
   "cell_type": "markdown",
   "id": "02f40a20",
   "metadata": {},
   "source": [
    "# 空间连接\n",
    "\n",
    "空间连接是非常重要的一个能力，在实际应用中使用到的情况也非常多，因此在此单列一节"
   ]
  },
  {
   "cell_type": "markdown",
   "id": "7a36fc49",
   "metadata": {},
   "source": [
    "## 空间数据和非空间数据的属性连接\n",
    "\n",
    "空间数据和非空间数据之间可以通过彼此的属性进行连接，这种方法在Ex10b的练习中应该已经使用过了，GeoPandas继承了Pandas的`Merge`, `Join`等方法，因此可以像Pandas中操作两个普通数据表一样进行属性连接"
   ]
  },
  {
   "cell_type": "markdown",
   "id": "0102462a",
   "metadata": {},
   "source": [
    "### merge"
   ]
  },
  {
   "cell_type": "code",
   "execution_count": null,
   "id": "bde35ef4",
   "metadata": {},
   "outputs": [],
   "source": [
    "zhejiang = gpd.read_file('data/zhejiang.geojson')\n",
    "zhejiang.head()"
   ]
  },
  {
   "cell_type": "code",
   "execution_count": null,
   "id": "9a90d29c",
   "metadata": {},
   "outputs": [],
   "source": [
    "pop = gpd.read_file('data/zhejiang_pop.csv')\n",
    "pop.drop('geometry',axis=1,inplace=True)\n",
    "pop.head()"
   ]
  },
  {
   "cell_type": "code",
   "execution_count": null,
   "id": "0ef3752f",
   "metadata": {},
   "outputs": [],
   "source": [
    "zhejiang_pop = zhejiang.merge(pop,left_on='市',right_on='地级市')\n",
    "zhejiang_pop.head()"
   ]
  },
  {
   "cell_type": "code",
   "execution_count": null,
   "id": "369a5d44",
   "metadata": {},
   "outputs": [],
   "source": [
    "pop.rename(columns={'地级市':'市'},inplace=True)\n",
    "pop.head()"
   ]
  },
  {
   "cell_type": "code",
   "execution_count": null,
   "id": "9fc36dfe",
   "metadata": {},
   "outputs": [],
   "source": [
    "# 如果两个Dataframe具有相同的列名，在不指定left_on和right_on参数的情况下会自动以相同列作为merge的基准\n",
    "zhejiang_pop = zhejiang.merge(pop)\n",
    "zhejiang_pop.head()"
   ]
  },
  {
   "cell_type": "markdown",
   "id": "7b725bae",
   "metadata": {},
   "source": [
    "#### `how`参数\n",
    "\n",
    "该参数有`left`, `right`, `outer`, `inner`四种值，用于指定在两边数据不能完全对齐情况下的连接方法"
   ]
  },
  {
   "cell_type": "code",
   "execution_count": null,
   "id": "ac5ebbb3",
   "metadata": {},
   "outputs": [],
   "source": [
    "zhejiang_a = zhejiang.loc[zhejiang['市'].isin(['杭州市','宁波市','温州市','嘉兴市','湖州市'])]\n",
    "zhejiang_a"
   ]
  },
  {
   "cell_type": "code",
   "execution_count": null,
   "id": "38a407f2",
   "metadata": {},
   "outputs": [],
   "source": [
    "pop_b = pop.loc[pop['市'].isin(['杭州市','宁波市','温州市','嘉兴市'])]\n",
    "pop_b"
   ]
  },
  {
   "cell_type": "code",
   "execution_count": null,
   "id": "9375294a",
   "metadata": {},
   "outputs": [],
   "source": [
    "left_merge = zhejiang_a.merge(pop_b,how='left')\n",
    "left_merge"
   ]
  },
  {
   "cell_type": "code",
   "execution_count": null,
   "id": "5f3cadf0",
   "metadata": {},
   "outputs": [],
   "source": [
    "right_merge = zhejiang_a.merge(pop_b,how='right')\n",
    "right_merge"
   ]
  },
  {
   "cell_type": "code",
   "execution_count": null,
   "id": "5586d975",
   "metadata": {},
   "outputs": [],
   "source": [
    "outer_merge = zhejiang_a.merge(pop_b,how='outer')\n",
    "outer_merge"
   ]
  },
  {
   "cell_type": "code",
   "execution_count": null,
   "id": "2a74cfea",
   "metadata": {},
   "outputs": [],
   "source": [
    "outer_merge2 = pop_b.merge(zhejiang_a,how='outer')\n",
    "outer_merge2 "
   ]
  },
  {
   "cell_type": "code",
   "execution_count": null,
   "id": "eaded340",
   "metadata": {},
   "outputs": [],
   "source": [
    "inner_merge = zhejiang_a.merge(pop_b,how='inner')\n",
    "inner_merge"
   ]
  },
  {
   "cell_type": "code",
   "execution_count": null,
   "id": "93a5fc8f",
   "metadata": {},
   "outputs": [],
   "source": [
    "inner_merge2 = pop_b.merge(zhejiang_a,how='inner')\n",
    "inner_merge2 "
   ]
  },
  {
   "cell_type": "markdown",
   "id": "c92e6ef2",
   "metadata": {},
   "source": [
    "### join"
   ]
  },
  {
   "cell_type": "code",
   "execution_count": null,
   "id": "75e272f1",
   "metadata": {},
   "outputs": [],
   "source": [
    "zhejiang.set_index('市',inplace=True)\n",
    "zhejiang.head()"
   ]
  },
  {
   "cell_type": "code",
   "execution_count": null,
   "id": "ebeda03f",
   "metadata": {},
   "outputs": [],
   "source": [
    "pop.set_index('市',inplace=True)\n",
    "pop.head()"
   ]
  },
  {
   "cell_type": "code",
   "execution_count": null,
   "id": "0bdbb77e",
   "metadata": {},
   "outputs": [],
   "source": [
    "# 如果两个Dataframe的index可以作为连接的基准，那么可以直接使用join()方法\n",
    "zhejiang.join(pop).head()"
   ]
  },
  {
   "cell_type": "markdown",
   "id": "ac3aef3d",
   "metadata": {},
   "source": [
    "## 空间数据之间的连接\n",
    "\n",
    "`sjoin` 方法可以通过拓扑关系来实现空间连接，具体的拓扑关系由参数 `predicate` (旧版本使用`op`) 指定"
   ]
  },
  {
   "cell_type": "code",
   "execution_count": null,
   "id": "450e6bac",
   "metadata": {},
   "outputs": [],
   "source": [
    "# 比如我们目前手上有一份杭州外卖订单的分布数据（已脱敏）\n",
    "express = gpd.read_file('data/express_data_sample.geojson', encoding='UTF-8')\n",
    "hz = gpd.read_file('data/hangzhou.geojson')\n",
    "hz=hz.loc[hz['类型']=='市辖区']\n",
    "ax = hz.plot(alpha=0.5)\n",
    "express.plot(ax=ax, markersize=1,color='yellow')"
   ]
  },
  {
   "cell_type": "code",
   "execution_count": null,
   "id": "5ef8e8ef",
   "metadata": {},
   "outputs": [],
   "source": [
    "# 要统计各市辖区之内的外卖订单数，用sjon可以很方便的完成\n",
    "# sjoin将两份空间数据以intersects方法关联起来\n",
    "sjoin_hz = hz.sjoin(df=express,predicate='intersects')\n",
    "sjoin_hz.head()"
   ]
  },
  {
   "cell_type": "code",
   "execution_count": null,
   "id": "3cec845f",
   "metadata": {},
   "outputs": [],
   "source": [
    "# 关联的结果是若干行一对一的数据, 我们想要他变成一对多的——使用group by实现\n",
    "groupsjoin_hz = sjoin_hz.groupby('NAME').agg({'geometry':'first','id': 'count'}).rename(columns={'id': 'exp_count'})\n",
    "groupsjoin_hz"
   ]
  },
  {
   "cell_type": "code",
   "execution_count": null,
   "id": "b893feb8",
   "metadata": {},
   "outputs": [],
   "source": [
    "groupsjoin_hz.plot(edgecolor='grey',linewidth=0.5,column='exp_count',cmap='GnBu')"
   ]
  }
 ],
 "metadata": {
  "interpreter": {
   "hash": "bcb6bf8216e03cc111d91366f17eaf601d3d2190e1cf5d1878570514af962eca"
  },
  "kernelspec": {
   "display_name": "Python 3.7.13 ('devgis')",
   "language": "python",
   "name": "python3"
  },
  "language_info": {
   "codemirror_mode": {
    "name": "ipython",
    "version": 3
   },
   "file_extension": ".py",
   "mimetype": "text/x-python",
   "name": "python",
   "nbconvert_exporter": "python",
   "pygments_lexer": "ipython3",
   "version": "3.7.13"
  }
 },
 "nbformat": 4,
 "nbformat_minor": 5
}
