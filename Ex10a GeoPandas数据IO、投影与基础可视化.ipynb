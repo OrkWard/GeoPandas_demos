{
 "cells": [
  {
   "cell_type": "code",
   "execution_count": null,
   "id": "a6e37524",
   "metadata": {},
   "outputs": [],
   "source": [
    "import geopandas as gpd\n",
    "from shapely import geometry\n",
    "import pyproj\n",
    "import matplotlib.pyplot as plt"
   ]
  },
  {
   "cell_type": "markdown",
   "id": "7adabe91",
   "metadata": {},
   "source": [
    "# GeoPandas数据IO  \n",
    "\n",
    "一般来说，矢量数据都通过shapefile等格式进行传输和存储，GeoPandas也提供了对这些文件进行读取和输出的能力"
   ]
  },
  {
   "cell_type": "markdown",
   "id": "d8d93b8c",
   "metadata": {},
   "source": [
    "## 读取矢量数据"
   ]
  },
  {
   "cell_type": "markdown",
   "id": "5b5ea1b8",
   "metadata": {},
   "source": [
    "GeoPandas提供了`geopandas.read_file()`函数来读取各类矢量数据，并转换为GeoDataframe数据结构  \n",
    "\n",
    "实际上，`geopandas.read_file()`函数由[Fiona](https://pypi.org/project/Fiona/)的矢量API实现\n",
    "\n",
    "下面将举例一些常用文件格式的矢量数据的读取"
   ]
  },
  {
   "cell_type": "markdown",
   "id": "a7b33841",
   "metadata": {},
   "source": [
    "### 读取shapefile"
   ]
  },
  {
   "cell_type": "code",
   "execution_count": null,
   "id": "b4ce0e98",
   "metadata": {},
   "outputs": [],
   "source": [
    "# 直接在geopandas.read_file()中传入路径即可：\n",
    "shpdata = gpd.read_file('data/hangzhou_shp/hangzhou.shp')"
   ]
  },
  {
   "cell_type": "code",
   "execution_count": null,
   "id": "f007bc12",
   "metadata": {},
   "outputs": [],
   "source": [
    "shpdata.head()"
   ]
  },
  {
   "cell_type": "code",
   "execution_count": null,
   "id": "81a2d1ad",
   "metadata": {},
   "outputs": [],
   "source": [
    "# 也可以直接读取zip包中的shapefile\n",
    "\n",
    "# shapefile文件在压缩包根目录\n",
    "zipdata1 = gpd.read_file('zip://data/县.zip')\n",
    "zipdata1.head()"
   ]
  },
  {
   "cell_type": "code",
   "execution_count": null,
   "id": "0d595092",
   "metadata": {},
   "outputs": [],
   "source": [
    "# shapefile文件在压缩包子目录下时，可以使用英文感叹号!做分割，在感叹后输入子路径\n",
    "zipdata2 = gpd.read_file('zip://data/hangzhou.zip!WGS84/hangzhou.shp')\n",
    "zipdata2.head()"
   ]
  },
  {
   "cell_type": "markdown",
   "id": "a5d6e827",
   "metadata": {},
   "source": [
    "### 读取GeoJson"
   ]
  },
  {
   "cell_type": "code",
   "execution_count": null,
   "id": "117a90f6",
   "metadata": {},
   "outputs": [],
   "source": [
    "# 直接在geopandas.read_file()中传入路径即可：\n",
    "gjsondata = gpd.read_file('data/hangzhou.geojson')"
   ]
  },
  {
   "cell_type": "code",
   "execution_count": null,
   "id": "40b70217",
   "metadata": {},
   "outputs": [],
   "source": [
    "gjsondata.head()"
   ]
  },
  {
   "cell_type": "markdown",
   "id": "cf528056",
   "metadata": {},
   "source": [
    "### 读取gdb和gpkg\n",
    "\n",
    "ESRI (ArcGIS) 的地理数据库文件`gdb`与OGC (QGIS) 的地理包文件`gpkg`均基于图层结构对矢量数据进行组织，因此在读取时需要增加`layer`参数标明具体图层\n",
    "\n",
    "下面以gpkg文件为例："
   ]
  },
  {
   "cell_type": "code",
   "execution_count": null,
   "id": "c50a2b62",
   "metadata": {},
   "outputs": [],
   "source": [
    "# 全国区划.gpkg 包括了省、市两个图层，因此在读取时需要指定具体图层：\n",
    "gpkgdata_province = gpd.read_file('data/全国区划.gpkg',layer='省')\n",
    "gpkgdata_city = gpd.read_file('data/全国区划.gpkg',layer='市')"
   ]
  },
  {
   "cell_type": "code",
   "execution_count": null,
   "id": "7c41d0bb",
   "metadata": {},
   "outputs": [],
   "source": [
    "gpkgdata_province.head()"
   ]
  },
  {
   "cell_type": "code",
   "execution_count": null,
   "id": "6c76535f",
   "metadata": {},
   "outputs": [],
   "source": [
    "gpkgdata_city.head()"
   ]
  },
  {
   "cell_type": "markdown",
   "id": "0e813efc",
   "metadata": {},
   "source": [
    "### 读取带点坐标的csv\n",
    "\n",
    "带坐标的csv文件严格说来与之前的文件都不同，使用`read_file()`读取后得到的是一个不含几何列的geodataframe，还需要对经纬度字段进行处理，生成真正可用的geodataframe\n",
    "\n",
    "下面是一种可行的方式："
   ]
  },
  {
   "cell_type": "code",
   "execution_count": null,
   "id": "eafc53cc",
   "metadata": {},
   "outputs": [],
   "source": [
    "csvdf= gpd.read_file(r'./data/sample_point.csv',encoding='utf-8')    # 读取数据\n",
    "csvgdf = gpd.GeoDataFrame(csvdf, geometry=gpd.points_from_xy(csvdf.lng, csvdf.lat))    # 构造几何列\n",
    "csvgdf.crs = pyproj.CRS.from_user_input('EPSG:4326')    # 指定投影\n",
    "csvgdf.head()"
   ]
  },
  {
   "cell_type": "code",
   "execution_count": null,
   "id": "b0d8984c",
   "metadata": {},
   "outputs": [],
   "source": [
    "%matplotlib widget\n",
    "ax = csvgdf.plot()"
   ]
  },
  {
   "cell_type": "markdown",
   "id": "9e4d8ba1",
   "metadata": {},
   "source": [
    "## 过滤\n",
    "\n",
    "read_file()函数在读取数据时，允许增加一定的过滤条件，只提取部分数据进入dataframe。过滤的方式主要有：\n",
    "\n",
    "- bbox\n",
    "- mask\n",
    "- rows"
   ]
  },
  {
   "cell_type": "markdown",
   "id": "90387599",
   "metadata": {},
   "source": [
    "### bbox\n",
    "\n",
    "`bbox` 过滤采用一个矩形范围对数据进行过滤，与bbox在空间上相交的数据将被读取进入dataframe"
   ]
  },
  {
   "cell_type": "code",
   "execution_count": null,
   "id": "e2f26031",
   "metadata": {},
   "outputs": [],
   "source": [
    "bboxdata = gpd.read_file('zip://data/县.zip',\n",
    "                         bbox=(118.333,29.195,120.927,30.556))\n",
    "bboxdata.tail()"
   ]
  },
  {
   "cell_type": "code",
   "execution_count": null,
   "id": "21783cdd",
   "metadata": {
    "scrolled": true
   },
   "outputs": [],
   "source": [
    "%matplotlib widget\n",
    "ax = bboxdata.plot()\n",
    "# 绘制bbox框示意\n",
    "ax = gpd.GeoSeries([geometry.box(minx=118.333, \n",
    "                                 miny=29.195, \n",
    "                                 maxx=120.927, \n",
    "                                 maxy=30.556).boundary]).plot(ax=ax, color='red')"
   ]
  },
  {
   "cell_type": "markdown",
   "id": "633c5abf",
   "metadata": {},
   "source": [
    "### mask\n",
    "\n",
    "`mask`与`bbox`类似，不过可以传入更为复杂的多边形来进行数据过滤"
   ]
  },
  {
   "cell_type": "code",
   "execution_count": null,
   "id": "b03557fe",
   "metadata": {},
   "outputs": [],
   "source": [
    "maskdata = gpd.read_file('zip://data/县.zip',\n",
    "                         mask=geometry.Polygon([(120.927,30.556),(119.671,30.642),(118.333,29.195)]))\n",
    "maskdata.tail()"
   ]
  },
  {
   "cell_type": "code",
   "execution_count": null,
   "id": "87777718",
   "metadata": {},
   "outputs": [],
   "source": [
    "%matplotlib widget\n",
    "ax = maskdata.plot()\n",
    "# 绘制bbox框示意\n",
    "ax = gpd.GeoSeries([geometry.LinearRing([(120.927,30.556),(119.671,30.642),(118.333,29.195)])]).plot(ax=ax, color='red')\n",
    "ax = bboxdata.plot(ax=ax,alpha=0.5)"
   ]
  },
  {
   "cell_type": "markdown",
   "id": "2f0265ea",
   "metadata": {},
   "source": [
    "### rows\n",
    "\n",
    "`rows`有些类似于我们之前一直在用的`head()`函数，rows可以过滤前若干行数据进行读取，可以用来对大型数据进行试验性质的读取"
   ]
  },
  {
   "cell_type": "code",
   "execution_count": null,
   "id": "b4d08651",
   "metadata": {},
   "outputs": [],
   "source": [
    "rowsdata = gpd.read_file('zip://data/县.zip',\n",
    "                         rows = 5)\n",
    "rowsdata"
   ]
  },
  {
   "cell_type": "markdown",
   "id": "a25bc2ee",
   "metadata": {},
   "source": [
    "## 输出矢量数据\n",
    "\n",
    "`to_file()` 函数可以用来将GeoDataframe和GeoSeries中的矢量数据输出\n",
    "\n",
    "除了gdb由于是ESRI未开源的私有格式而无法导出外，shapefile、geojson、geopackage都可以由GeoPandas输出"
   ]
  },
  {
   "cell_type": "markdown",
   "id": "09c1c5f4",
   "metadata": {},
   "source": [
    "### shapefile & geojson"
   ]
  },
  {
   "cell_type": "code",
   "execution_count": null,
   "id": "7cf93059",
   "metadata": {},
   "outputs": [],
   "source": [
    "import os\n",
    "\n",
    "try:\n",
    "    os.mkdir('output')\n",
    "except FileExistsError:\n",
    "    pass\n",
    "# 将刚刚转换的csv输出到shapefile\n",
    "csvdf.to_file('data/output/csv2shp.shp', driver='ESRI Shapefile', encoding='utf-8')\n",
    "csvdf.to_file('data/output/csv2json.geojson', driver='GeoJSON', encoding='utf-8')"
   ]
  },
  {
   "cell_type": "markdown",
   "id": "d94ef791",
   "metadata": {},
   "source": [
    "### geopackage"
   ]
  },
  {
   "cell_type": "code",
   "execution_count": null,
   "id": "3bdb0c19",
   "metadata": {},
   "outputs": [],
   "source": [
    "# geopackage和读取时一样，需要多一个layer参数\n",
    "csvdf.to_file('data/output/csv2gpkg.gpkg', driver='GPKG',layer='layer1', encoding='utf-8')"
   ]
  },
  {
   "cell_type": "markdown",
   "id": "a16d4953",
   "metadata": {},
   "source": [
    "# 数据投影\n",
    "\n",
    "我们都知道地理数据的分析处理离不开坐标系的支持，理所当然地，GeoPandas基于 [pyproj](https://pyproj4.github.io/pyproj/stable/) 包提供了对于坐标参考系（CRS）的一系列操作"
   ]
  },
  {
   "cell_type": "markdown",
   "id": "b85858c9",
   "metadata": {},
   "source": [
    "## 读取投影\n",
    "\n",
    "GeoDataFrame的crs属性记录了这份数据的坐标参考系"
   ]
  },
  {
   "cell_type": "code",
   "execution_count": null,
   "id": "70f11ed0",
   "metadata": {},
   "outputs": [],
   "source": [
    "shpdata = gpd.read_file('data/hangzhou_shp/hangzhou.shp')\n",
    "shpdata.crs"
   ]
  },
  {
   "cell_type": "markdown",
   "id": "a67abfa4",
   "metadata": {},
   "source": [
    "## 定义投影\n",
    "\n",
    "有些数据可能不包含坐标系，在读取数据后可以手动为其定义投影信息"
   ]
  },
  {
   "cell_type": "code",
   "execution_count": null,
   "id": "06877810",
   "metadata": {},
   "outputs": [],
   "source": [
    "data = gpd.read_file('zip://data/hangzhou_raw.zip')    # 该压缩包内缺少.prj文件\n",
    "print(data.crs)"
   ]
  },
  {
   "cell_type": "code",
   "execution_count": null,
   "id": "567df5ad",
   "metadata": {},
   "outputs": [],
   "source": [
    "# 使用pyproj包可以为geodataframe定义投影\n",
    "import pyproj\n",
    "\n",
    "data.crs = pyproj.CRS.from_user_input('EPSG:4326')\n",
    "print(data.crs)"
   ]
  },
  {
   "cell_type": "markdown",
   "id": "ed0f58c5",
   "metadata": {},
   "source": [
    "## 重投影\n",
    "\n",
    "`to_crs()`提供了将几何数据从当前坐标参考系投影到指定坐标参考系的能力"
   ]
  },
  {
   "cell_type": "code",
   "execution_count": null,
   "id": "1115066f",
   "metadata": {},
   "outputs": [],
   "source": [
    "shpdata = gpd.read_file('data/hangzhou_shp/hangzhou.shp')\n",
    "shpdata_proj =  shpdata.to_crs(crs='EPSG:32651')\n",
    "%matplotlib widget\n",
    "ax = shpdata_proj.plot()"
   ]
  },
  {
   "cell_type": "markdown",
   "id": "e99edaa8",
   "metadata": {},
   "source": [
    "# 基础可视化\n",
    "\n",
    "GeoPandas基于[matplotlib](https://matplotlib.org/)包实现了基本的可视化功能：GeoSeries和GeoDataFrame对象通过调用plot()方法即可绘制基本图样。"
   ]
  },
  {
   "cell_type": "markdown",
   "id": "7f55ef5b",
   "metadata": {},
   "source": [
    "## GeoSeries 可视化"
   ]
  },
  {
   "cell_type": "code",
   "execution_count": null,
   "id": "f2d43bd0",
   "metadata": {},
   "outputs": [],
   "source": [
    "china_province = gpd.read_file('data/全国区划.gpkg',layer='省')\n",
    "china_nine = gpd.read_file('data/southsea/china_nine_dotted_line.shp')\n",
    "china_capital = gpd.read_file('data/全国区划.gpkg',layer='省会')"
   ]
  },
  {
   "cell_type": "code",
   "execution_count": null,
   "id": "103c5dfc",
   "metadata": {},
   "outputs": [],
   "source": [
    "# 直接使用plot()就可以实现最简单的可视化\n",
    "china_province.geometry.plot()"
   ]
  },
  {
   "cell_type": "code",
   "execution_count": null,
   "id": "718a3f44",
   "metadata": {},
   "outputs": [],
   "source": [
    "# 通过设定 ax 参数，可以将多个数据叠加绘制\n",
    "ax = china_province.geometry.plot()\n",
    "china_nine.geometry.plot(ax=ax)"
   ]
  },
  {
   "cell_type": "code",
   "execution_count": null,
   "id": "673e096e",
   "metadata": {},
   "outputs": [],
   "source": [
    "# facecolor、edgecolor、alpha三个参数可以控制可视化的色彩\n",
    "ax = china_province.geometry.plot(facecolor='grey', edgecolor='white')\n",
    "china_nine.geometry.plot(ax=ax, edgecolor = 'grey', alpha = 0.6)"
   ]
  },
  {
   "cell_type": "code",
   "execution_count": null,
   "id": "206e141f",
   "metadata": {},
   "outputs": [],
   "source": [
    "# 上图的省界似乎有点太粗了，我们可以用linestyle和linewidth进行一些修改\n",
    "ax = china_province.geometry.plot(facecolor='grey', edgecolor='white',\n",
    "                                  linewidth=0.5, linestyle='-.')\n",
    "china_nine.geometry.plot(ax=ax, edgecolor = 'grey', alpha = 0.6)"
   ]
  },
  {
   "cell_type": "code",
   "execution_count": null,
   "id": "7338f230",
   "metadata": {},
   "outputs": [],
   "source": [
    "# hatch参数可以对面要素的填充进行纹理化\n",
    "ax = china_province.geometry.plot(facecolor='grey', edgecolor='white',\n",
    "                                  linewidth=0.5, linestyle='-.', hatch='....')\n",
    "china_nine.geometry.plot(ax=ax, edgecolor = 'grey', alpha = 0.6)"
   ]
  },
  {
   "cell_type": "code",
   "execution_count": null,
   "id": "29d4f44e",
   "metadata": {},
   "outputs": [],
   "source": [
    "# marker参数可以对点要素的符号进行设定，markersize对其大小进行设定\n",
    "ax = china_province.geometry.plot(facecolor='grey', edgecolor='white',\n",
    "                                  linewidth=0.5, linestyle='-.')\n",
    "china_nine.geometry.plot(ax=ax, edgecolor = 'grey', alpha = 0.6)\n",
    "china_capital.geometry.plot(ax=ax, edgecolor='black',\n",
    "                            marker='^',markersize=6)"
   ]
  },
  {
   "cell_type": "code",
   "execution_count": null,
   "id": "ce7f22f6",
   "metadata": {},
   "outputs": [],
   "source": [
    "# label参数可以设定该图层在图例中显示的名称\n",
    "ax = china_province.geometry.plot(facecolor='grey', edgecolor='white',\n",
    "                                  linewidth=0.5, linestyle='-.')\n",
    "china_nine.geometry.plot(ax=ax, edgecolor = 'grey', alpha = 0.6,\n",
    "                         label = '九段线')\n",
    "china_capital.geometry.plot(ax=ax, edgecolor='black',\n",
    "                            marker='^',markersize=6,\n",
    "                            label = '省会')\n",
    "#绘制图例\n",
    "plt.rcParams[\"font.family\"] = \"SimHei\"    # matplotlib支持的中文字体，不设置会乱码\n",
    "ax.legend(title='图例',loc='lower left', ncol=1)"
   ]
  },
  {
   "cell_type": "code",
   "execution_count": null,
   "id": "01a2414d",
   "metadata": {},
   "outputs": [],
   "source": [
    "# 使用matplotlib的add_axes()函数可以设置子图\n",
    "# add_axes(x1,y1,x2,y2)中，x1,y1是子图左下角在主图的比例位置；x2,y2是子图宽高与主图宽高的比值\n",
    "\n",
    "fig = plt.figure(figsize=(7,4))    # 配置画布\n",
    "\n",
    "ax = fig.add_axes((0,0,1,1))       # 配置主坐标轴\n",
    "# 绘制主画布的内容\n",
    "ax = china_province.geometry.plot(ax = ax,facecolor='grey', edgecolor='white',\n",
    "                                  linewidth=0.5, linestyle='-.')\n",
    "china_capital.geometry.plot(ax=ax, edgecolor='black',\n",
    "                            marker='^',markersize=6,\n",
    "                            label = '省会')\n",
    "ax = china_nine.geometry.plot(ax =ax, edgecolor = 'grey', alpha = 0.6,\n",
    "                               label = '九段线')\n",
    "plt.rcParams[\"font.family\"] = \"SimHei\"\n",
    "ax.legend(title='图例',loc='lower left', ncol=1)\n",
    "# 设置范围限定\n",
    "ax.set_xlim(70, 140)\n",
    "ax.set_ylim(15, 55)\n",
    "\n",
    "# 绘制子画布的内容\n",
    "vax = fig.add_axes([0.8, 0.1, 0.2, 0.25])    # 配置子坐标轴\n",
    "vax = china_nine.geometry.plot(ax =vax, edgecolor = 'grey', alpha = 0.6,\n",
    "                               label = '九段线')\n",
    "# 设置范围限定\n",
    "vax.set_xlim(106.5, 123)\n",
    "vax.set_ylim(2.8, 24.5)"
   ]
  },
  {
   "cell_type": "markdown",
   "id": "8d5c88a1",
   "metadata": {},
   "source": [
    "## GeoDataFrame 可视化\n",
    "\n",
    "GeoDataFrame由于带有了属性数据，因此可以做一些更复杂的可视化方式，比如分层设色"
   ]
  },
  {
   "cell_type": "code",
   "execution_count": null,
   "id": "45740d5c",
   "metadata": {},
   "outputs": [],
   "source": [
    "china_province = gpd.read_file('data/全国区划.gpkg',layer='省')"
   ]
  },
  {
   "cell_type": "code",
   "execution_count": null,
   "id": "bf6ddf5f",
   "metadata": {},
   "outputs": [],
   "source": [
    "# 我们可以简单地将需要设色的字段设置为column，并用cmap指定设色的色带\n",
    "# 色带：https://matplotlib.org/3.5.1/tutorials/colors/colormaps.html\n",
    "fig = plt.figure(figsize=(7,6))\n",
    "ax = fig.add_axes((0,0,1,1))\n",
    "ax = china_province.plot(ax=ax,facecolor='grey', edgecolor='white',\n",
    "                                  linewidth=0.5, linestyle='-.',\n",
    "                                  column='人口',cmap='GnBu'\n",
    "                                  )\n",
    "ax = china_nine.geometry.plot(ax =ax, edgecolor = 'grey', alpha = 0.6,\n",
    "                               label = '九段线')"
   ]
  },
  {
   "cell_type": "code",
   "execution_count": null,
   "id": "10c9375d",
   "metadata": {},
   "outputs": [],
   "source": [
    "# 上一张图显然是有问题的，由于第七次人口普查没有港澳台的人口数据，可视化结果里缺失了他们的信息\n",
    "# 我们可以使用missing_kwds参数对缺失数据进行处理\n",
    "fig = plt.figure(figsize=(7,6))\n",
    "ax = fig.add_axes((0,0,1,1))\n",
    "ax = china_province.plot(ax=ax,facecolor='grey', edgecolor='white',\n",
    "                         linewidth=0.5, linestyle='-.',\n",
    "                         column='人口',cmap='GnBu',\n",
    "                         missing_kwds={\n",
    "                             'color':'grey',\n",
    "                             'hatch':'////'\n",
    "                         }\n",
    "                         )\n",
    "ax = china_nine.geometry.plot(ax =ax, edgecolor = 'grey', alpha = 0.6,\n",
    "                               label = '九段线')"
   ]
  },
  {
   "cell_type": "code",
   "execution_count": null,
   "id": "b740e0c6",
   "metadata": {},
   "outputs": [],
   "source": [
    "# legend参数可以提供色带的图例\n",
    "fig = plt.figure(figsize=(9,6))\n",
    "ax = fig.add_axes((0,0,1,1))\n",
    "ax = china_province.plot(ax=ax,facecolor='grey', edgecolor='white',\n",
    "                         linewidth=0.5, linestyle='-.',\n",
    "                         column='人口',cmap='GnBu',\n",
    "                         missing_kwds={\n",
    "                             'color':'grey',\n",
    "                             'hatch':'////'\n",
    "                         },\n",
    "                         legend=True\n",
    "                         )\n",
    "ax = china_nine.geometry.plot(ax =ax, edgecolor = 'grey', alpha = 0.6,\n",
    "                               label = '九段线')"
   ]
  },
  {
   "cell_type": "code",
   "execution_count": null,
   "id": "cd2423c5",
   "metadata": {},
   "outputs": [],
   "source": [
    "# scheme和k参数可以设定分类方式和类别数目\n",
    "fig = plt.figure(figsize=(9,6))\n",
    "ax = fig.add_axes((0,0,1,1))\n",
    "ax = china_province.plot(ax=ax,facecolor='grey', edgecolor='white',\n",
    "                         linewidth=0.5, linestyle='-.',\n",
    "                         column='人口',cmap='GnBu',\n",
    "                         missing_kwds={\n",
    "                             'color':'grey',\n",
    "                             'hatch':'////'\n",
    "                         },\n",
    "                         scheme='NaturalBreaks',k=5,\n",
    "                         legend=True, \n",
    "                         legend_kwds={\n",
    "                             'loc':'lower left'\n",
    "                         }\n",
    "                         )\n",
    "ax = china_nine.geometry.plot(ax =ax, edgecolor = 'grey', alpha = 0.6,\n",
    "                               label = '九段线')"
   ]
  }
 ],
 "metadata": {
  "interpreter": {
   "hash": "a2df042b44aa85d609df1c9055086e9a464cae990d1c6ea9d548315e572d098b"
  },
  "kernelspec": {
   "display_name": "Python [conda env:devgis]",
   "language": "python",
   "name": "python3"
  },
  "language_info": {
   "codemirror_mode": {
    "name": "ipython",
    "version": 3
   },
   "file_extension": ".py",
   "mimetype": "text/x-python",
   "name": "python",
   "nbconvert_exporter": "python",
   "pygments_lexer": "ipython3",
   "version": "3.7.13"
  }
 },
 "nbformat": 4,
 "nbformat_minor": 5
}
