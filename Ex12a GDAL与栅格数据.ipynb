{
 "cells": [
  {
   "cell_type": "markdown",
   "id": "d84a790b",
   "metadata": {},
   "source": [
    "> 推荐阅读：https://www.osgeo.cn/python_gdal_utah_tutorial/"
   ]
  },
  {
   "cell_type": "code",
   "execution_count": null,
   "id": "bde88f8d",
   "metadata": {},
   "outputs": [],
   "source": [
    "from osgeo import gdal\n",
    "import numpy as np\n",
    "import matplotlib.pyplot as plt"
   ]
  },
  {
   "cell_type": "markdown",
   "id": "920888bf",
   "metadata": {},
   "source": [
    "# 基本属性和方法"
   ]
  },
  {
   "cell_type": "code",
   "execution_count": null,
   "id": "005333eb",
   "metadata": {},
   "outputs": [],
   "source": [
    "# 打开影像\n",
    "dataset = gdal.Open('data/hangzhouTM_2010_sample.tif',gdal.GA_ReadOnly)"
   ]
  },
  {
   "cell_type": "code",
   "execution_count": null,
   "id": "0d7fd961",
   "metadata": {},
   "outputs": [],
   "source": [
    "# 查看影像元数据\n",
    "dataset.GetMetadata()"
   ]
  },
  {
   "cell_type": "code",
   "execution_count": null,
   "id": "fd30d6bc",
   "metadata": {},
   "outputs": [],
   "source": [
    "# 查看影像波段数\n",
    "dataset.RasterCount"
   ]
  },
  {
   "cell_type": "code",
   "execution_count": null,
   "id": "fdf05f07",
   "metadata": {},
   "outputs": [],
   "source": [
    "# 查看影像像元分辨率\n",
    "print(\"x:\",dataset.RasterXSize,\"y:\",dataset.RasterYSize)"
   ]
  },
  {
   "cell_type": "markdown",
   "id": "9d55bf38",
   "metadata": {},
   "source": [
    "通过以下两个方法，可以确定一副遥感影像在地面上的位置："
   ]
  },
  {
   "cell_type": "code",
   "execution_count": null,
   "id": "27abc913",
   "metadata": {},
   "outputs": [],
   "source": [
    "# 投影信息\n",
    "dataset.GetProjection()"
   ]
  },
  {
   "cell_type": "code",
   "execution_count": null,
   "id": "31faf899",
   "metadata": {},
   "outputs": [],
   "source": [
    "# 仿射变换系数\n",
    "# 如果图像不含地理坐标信息，默认返回值是：(0,1,0,0,0,1)\n",
    "# 左上角点坐标(padfGeoTransform[0],padfGeoTransform[3])；\n",
    "# padfGeoTransform[1]和[5]是像元宽度和高度(影像在宽度和高度上的分辨率)\n",
    "# 如果影像是指北的,padfGeoTransform[2]和padfGeoTransform[4]这两个参数的值为0\n",
    "# 基于仿射变换系数可以计算影像中某一像元的坐标：\n",
    "# Xp = padfTransform[0] + X*padfTransform[1] + Y*padfTransform[2];\n",
    "# Yp = padfTransform[3] + X*padfTransform[4] + Y*padfTransform[5];\n",
    "dataset.GetGeoTransform()"
   ]
  },
  {
   "cell_type": "markdown",
   "id": "ff14d4df",
   "metadata": {},
   "source": [
    "# 波段与波段信息"
   ]
  },
  {
   "cell_type": "code",
   "execution_count": null,
   "id": "eaca84be",
   "metadata": {},
   "outputs": [],
   "source": [
    "# 读入的影像是多波段的，可以从中选择需要的波段（GetRasterBand从1开始计数）\n",
    "band_1 = dataset.GetRasterBand(1)"
   ]
  },
  {
   "cell_type": "code",
   "execution_count": null,
   "id": "543524c1",
   "metadata": {},
   "outputs": [],
   "source": [
    "# 波段统计\n",
    "# 输入approx_ok=1,表示可以使用近似值; force=1,表示强制计算\n",
    "# 输出一个列表，依次代表最小值, 最大值, 平均值, 标准差\n",
    "band_1.GetStatistics(1, 1)"
   ]
  },
  {
   "cell_type": "code",
   "execution_count": null,
   "id": "cff43439",
   "metadata": {},
   "outputs": [],
   "source": [
    "# 也可以使用GetMinimum和GetMaximum来得到最小值和最大值：\n",
    "print (\"MIN =\", band_1.GetMinimum())\n",
    "print (\"MAX =\", band_1.GetMaximum())"
   ]
  },
  {
   "cell_type": "code",
   "execution_count": null,
   "id": "2c9259a7",
   "metadata": {},
   "outputs": [],
   "source": [
    "# GetNoDataValue方法可以用来得到波段设定的nodata值\n",
    "print (\"NO DATA VALUE =\", band_1.GetNoDataValue())"
   ]
  },
  {
   "cell_type": "markdown",
   "id": "d3f5f1df",
   "metadata": {},
   "source": [
    "### 绘制波段直方图"
   ]
  },
  {
   "cell_type": "code",
   "execution_count": null,
   "id": "55317a6a",
   "metadata": {},
   "outputs": [],
   "source": [
    "%matplotlib widget\n",
    "def plotHistigram(band):\n",
    "    dfmin, dfmax, _, _ = band.GetStatistics(1, 1)    # 记录最大最小值\n",
    "    nBuckets = 125    # 表示直方图统计的份数\n",
    "    res = band.GetHistogram(dfmin, dfmax, nBuckets)\n",
    "    plt.plot(np.linspace(dfmin, dfmax, nBuckets),res)  # 通过linspace方法生成X轴\n",
    "\n",
    "    \n",
    "plotHistigram(band_1)"
   ]
  },
  {
   "cell_type": "markdown",
   "id": "0d20c7a9",
   "metadata": {},
   "source": [
    "# 读写栅格数据"
   ]
  },
  {
   "cell_type": "markdown",
   "id": "62ae3d68",
   "metadata": {},
   "source": [
    "## 读取栅格数据\n",
    "\n",
    "`ReadAsArray()`函数可以将栅格数据中的像元值以numpy数组的形式读入，该函数还可以通过参数设置读入的规则：\n",
    "\n",
    "- xoff,yoff ：指定要读取的部分的原点位置（以像元为单位）。\n",
    "- xsize,ysize ： 指定要读取部分图像的长和宽（以像元为单位）。\n",
    "- buf_xsize,buf_ysize ：可以在读取出一部分图像后进行缩放。那么就用这两个参数来定义缩放后图像最终的宽和高，gdal将帮你缩放到这个大小。\n",
    "- buf_type ：可以对读出的数据的类型进行转换（比如原图数据类型是short，你要把它们缩小成byte）"
   ]
  },
  {
   "cell_type": "code",
   "execution_count": null,
   "id": "e098b332",
   "metadata": {},
   "outputs": [],
   "source": [
    "help(gdal.Band.ReadAsArray)"
   ]
  },
  {
   "cell_type": "code",
   "execution_count": null,
   "id": "8af5aa36",
   "metadata": {},
   "outputs": [],
   "source": [
    "# ReadAsArray可以直接读取整个波段，也可以指定某一窗口范围\n",
    "# 前两个参数 (xoff, yoff, 默认均为0) 决定了窗口左上角的x值和y值，第3第4个参数 (win_xsize, win_ysize) 决定了窗口的大小\n",
    "# 比如从(100,100)为原点取一个5*5的窗口\n",
    "data = band_1.ReadAsArray(100,100,5,5)\n",
    "data"
   ]
  },
  {
   "cell_type": "code",
   "execution_count": null,
   "id": "2aa4d37a",
   "metadata": {},
   "outputs": [],
   "source": [
    "# 第5第6个参数 (buf_xsize, buf_ysize)可以在取出窗口数据的基础上进行缩放\n",
    "# 如在以(100,100)为原点取的5*5的窗口的基础上，扩大为10*10\n",
    "data = band_1.ReadAsArray(100,100,5,5,10,10)\n",
    "data"
   ]
  },
  {
   "cell_type": "code",
   "execution_count": null,
   "id": "d94a63fd",
   "metadata": {},
   "outputs": [],
   "source": [
    "# 如在以(100,100)为原点取的5*5的窗口的基础上，缩小为3*3\n",
    "data = band_1.ReadAsArray(100,100,5,5,3,3)\n",
    "data"
   ]
  },
  {
   "cell_type": "code",
   "execution_count": null,
   "id": "91d7652a",
   "metadata": {},
   "outputs": [],
   "source": [
    "# 也可以直接读取整个dataset, 会多嵌套一维numpyArray\n",
    "data = dataset.ReadAsArray(100,100,5,5)\n",
    "data"
   ]
  },
  {
   "cell_type": "code",
   "execution_count": null,
   "id": "87420c15",
   "metadata": {},
   "outputs": [],
   "source": [
    "# 释放内存\n",
    "data = None"
   ]
  },
  {
   "cell_type": "markdown",
   "id": "6a98e48a",
   "metadata": {},
   "source": [
    "## 创建栅格数据"
   ]
  },
  {
   "cell_type": "code",
   "execution_count": null,
   "id": "b0ddbc24",
   "metadata": {},
   "outputs": [],
   "source": [
    "# 截取band1中心256*256的数据\n",
    "sample = band_1.ReadAsArray((dataset.RasterXSize-256)/2,(dataset.RasterXSize-256)/2,256,256)"
   ]
  },
  {
   "cell_type": "code",
   "execution_count": null,
   "id": "34d4f08b",
   "metadata": {},
   "outputs": [],
   "source": [
    "driver = gdal.GetDriverByName( 'GTiff' )\n",
    "dst_filename = 'data/result/clip.tif'    # 需要注意路径是否存在\n",
    "dst_ds = driver.Create(dst_filename, 256, 256, 1, gdal.GDT_Byte)   # 注意到之前ReadAsArray的结果中，dtype=uint8,对应gdal数据类型为GDT_Byte"
   ]
  },
  {
   "cell_type": "code",
   "execution_count": null,
   "id": "4374a29b",
   "metadata": {},
   "outputs": [],
   "source": [
    "# 复制仿射变换参数和坐标系信息\n",
    "dst_ds.SetGeoTransform(dataset.GetGeoTransform())\n",
    "dst_ds.SetProjection(dataset.GetProjection())"
   ]
  },
  {
   "cell_type": "code",
   "execution_count": null,
   "id": "9d16f83b",
   "metadata": {},
   "outputs": [],
   "source": [
    "dst_ds.GetProjection()"
   ]
  },
  {
   "cell_type": "code",
   "execution_count": null,
   "id": "fe2a1d58",
   "metadata": {},
   "outputs": [],
   "source": [
    "dst_ds.GetRasterBand(1).WriteArray(sample)\n",
    "dst_ds=None"
   ]
  },
  {
   "cell_type": "markdown",
   "id": "0d1eaaa2",
   "metadata": {},
   "source": [
    "# 栅格处理"
   ]
  },
  {
   "cell_type": "markdown",
   "id": "b033924f",
   "metadata": {},
   "source": [
    "## 栅格计算（地图代数）"
   ]
  },
  {
   "cell_type": "code",
   "execution_count": null,
   "id": "232c9be5",
   "metadata": {},
   "outputs": [],
   "source": [
    "b1 = dataset.GetRasterBand(1).ReadAsArray((dataset.RasterXSize-256)/2,(dataset.RasterXSize-256)/2,256,256)\n",
    "b2 = dataset.GetRasterBand(2).ReadAsArray((dataset.RasterXSize-256)/2,(dataset.RasterXSize-256)/2,256,256)\n",
    "print(b1.max())\n",
    "print(b2.max())"
   ]
  },
  {
   "cell_type": "code",
   "execution_count": null,
   "id": "21f4e880",
   "metadata": {},
   "outputs": [],
   "source": [
    "# NumpyArray之间可以直接进行一对一的四则运算，比如我们可以计算两个波段的平均值:\n",
    "\n",
    "b1 = dataset.GetRasterBand(1).ReadAsArray((dataset.RasterXSize-256)/2,(dataset.RasterXSize-256)/2,256,256)\n",
    "b2 = dataset.GetRasterBand(2).ReadAsArray((dataset.RasterXSize-256)/2,(dataset.RasterXSize-256)/2,256,256)\n",
    "\n",
    "bc = (b1+b2)*0.5\n",
    "\n",
    "# 输出\n",
    "driver = gdal.GetDriverByName( 'GTiff' )\n",
    "dst_ds = driver.Create('data/result/bc1.tif', 256, 256, 1, gdal.GDT_Float64)    # 注意如果数据类型不正确会输出全0的影像\n",
    "dst_ds.SetGeoTransform(dataset.GetGeoTransform())\n",
    "dst_ds.SetProjection(dataset.GetProjection())\n",
    "dst_ds.GetRasterBand(1).WriteArray(bc)\n",
    "dst_ds=None"
   ]
  },
  {
   "cell_type": "markdown",
   "id": "6d6c4d36",
   "metadata": {},
   "source": [
    "特别需要注意的是, 在进行地图代数计算时, 务必要注意读入NumpyAaary的数据类型, 避免出现数值溢出而影响计算结果的情况"
   ]
  },
  {
   "cell_type": "code",
   "execution_count": null,
   "id": "50ee5a39",
   "metadata": {},
   "outputs": [],
   "source": [
    "# 还是以上文的计算两波段平均值为例, 这次我们给出一个极端情况, 将b1和b2的所有成员分别赋值为255和1\n",
    "b1[:]=255   \n",
    "b2[:]=1\n",
    "print(b1)\n",
    "print(b2)"
   ]
  },
  {
   "cell_type": "code",
   "execution_count": null,
   "id": "cac2f7f3",
   "metadata": {},
   "outputs": [],
   "source": [
    "bc = (b1+b2)*0.5\n",
    "# 理论上bc的所有成员应为(255+1)*0.5=128\n",
    "# 但实际上b1,b2由像元类型为gdal.GDT_Byte的dataset读取生成, 数据类型为uint8\n",
    "# 255+1溢出了uint8的取值范围, 被计算为0\n",
    "print(bc)"
   ]
  },
  {
   "cell_type": "code",
   "execution_count": null,
   "id": "93192e20",
   "metadata": {},
   "outputs": [],
   "source": [
    "# 要避免这一问题, 建议在进行地图代数前转换参与运算的numpyArray的数据类型\n",
    "b1 = b1.astype('float32')    # 和C语言中的加法类似,计算中会自动转换到最高级的数据类型\n",
    "bc = (b1+b2)*0.5\n",
    "print(bc)"
   ]
  },
  {
   "cell_type": "code",
   "execution_count": null,
   "id": "812653d2",
   "metadata": {},
   "outputs": [],
   "source": [
    "# 也可以利用比较运算来检测两份栅格数据之间的变化情况（比如土地覆盖类型的变化）\n",
    "\n",
    "ds1 = gdal.Open('data/2010.tif',gdal.GA_ReadOnly)\n",
    "b1 = ds1.GetRasterBand(1).ReadAsArray()\n",
    "ds2 = gdal.Open('data/2020.tif',gdal.GA_ReadOnly)\n",
    "b2 = ds2.GetRasterBand(1).ReadAsArray()\n",
    "\n",
    "bc = (b1!=b2)\n",
    "\n",
    "# 输出0/1的二值栅格，1对应变化的土地\n",
    "driver = gdal.GetDriverByName( 'GTiff' )\n",
    "dst_ds = driver.Create('data/result/bc2.tif', 256, 256, 1, gdal.GDT_Byte)\n",
    "dst_ds.SetGeoTransform(ds1.GetGeoTransform())\n",
    "dst_ds.SetProjection(ds1.GetProjection())\n",
    "dst_ds.GetRasterBand(1).WriteArray(bc)\n",
    "dst_ds=None"
   ]
  },
  {
   "cell_type": "markdown",
   "id": "e2888186",
   "metadata": {},
   "source": [
    "## 波段变换"
   ]
  },
  {
   "cell_type": "code",
   "execution_count": null,
   "id": "768fca87",
   "metadata": {},
   "outputs": [],
   "source": [
    "# gdal_array包相比gdal包更侧重于数据的像元值，而不怎么侧重元数据等信息，因此在做之和像元值有关的操作时使用gdal_array能使结果更加简洁\n",
    "from osgeo import gdal_array\n",
    "\n",
    "src_dir = 'data/hangzhouTM_2010_sample.tif'\n",
    "arr = gdal_array.LoadFile(src_dir)    # 一个函数直接把栅格文件读入到NumpyArray,但是这种方法更耗内存,因为同时读取了不需要的波段\n",
    "output = gdal_array.SaveArray(arr[[3, 2, 1], :], \"data/result/swap2.tif\",format=\"GTiff\", prototype=src_dir)    # arr[[3, 2, 1], :]是numpyArray的分片,将2维array的第3,2,1个array提出重新排序，生成新的二维array\n",
    "                                                                                                               # 该函数使用原栅格的4、3、2波段作为RGB波段，生成假彩色影像，注意numpyArray是从0开始计数的\n",
    "                                                                                                               # prototype——原型, 直接从原栅格获取分辨率、投影等信息\n",
    "arr = output = None    # 手动释放内存"
   ]
  },
  {
   "cell_type": "markdown",
   "id": "10224e5f",
   "metadata": {},
   "source": [
    "## 栅格裁剪"
   ]
  },
  {
   "cell_type": "code",
   "execution_count": null,
   "id": "e69c1143",
   "metadata": {},
   "outputs": [],
   "source": [
    "# 使用geopandas来获取shapfile文件对应的bbox边界\n",
    "import geopandas as gpd\n",
    "shp_dir = 'data/xihu.shp'\n",
    "xihu = gpd.read_file(shp_dir).to_crs('EPSG:32650').unary_union\n",
    "bbox = xihu.bounds\n",
    "\n",
    "ds = gdal.Warp('data/result/clip.tif',\n",
    "               dataset,\n",
    "               cutlineDSName = shp_dir,     # 裁剪用的shapfile路径\n",
    "               outputBounds =  bbox,        # 限定栅格裁剪后的范围,否则只会简单地把shapfile外的数据设为nodata,文件尺寸不会减少\n",
    "               format = 'GTiff',\n",
    "               dstNodata = -9999)              # select the no data value you like\n",
    "               \n",
    "ds=None     #do other stuff with ds object, it is your cropped dataset. in this case we only close the dataset.\n",
    " "
   ]
  }
 ],
 "metadata": {
  "interpreter": {
   "hash": "ab098b425d86cf93d9d19d6a85d4597b16239c1e6f1aa5525c545e53afc99424"
  },
  "kernelspec": {
   "display_name": "Python 3.7.13 ('devgis')",
   "language": "python",
   "name": "python3"
  },
  "language_info": {
   "codemirror_mode": {
    "name": "ipython",
    "version": 3
   },
   "file_extension": ".py",
   "mimetype": "text/x-python",
   "name": "python",
   "nbconvert_exporter": "python",
   "pygments_lexer": "ipython3",
   "version": "3.7.13"
  }
 },
 "nbformat": 4,
 "nbformat_minor": 5
}
