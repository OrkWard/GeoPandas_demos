{
 "cells": [
  {
   "cell_type": "markdown",
   "id": "d7a781c6",
   "metadata": {},
   "source": [
    "# Q1\n",
    "\n",
    "参考数据中给出了拱墅区街道划分（示意）`gongshu.geojson`和拱墅区POI数据（示意）`gs_poi.geojson`,\n",
    "\n",
    "请根据这两个文件，按以下指标对拱墅区各街道的社会宜居性做初略的评价：\n",
    "\n",
    "- 辖区内小学密度：\n",
    "    - 辖区内小学的POI数据KIND6属性为`'160102'`\n",
    "\n",
    "\n",
    "- 综合医院()的覆盖密度：\n",
    "    - 认为综合医院的覆盖范围为1600米\n",
    "    - 综合医院的POI数据KIND6属性为`'170101'`\n",
    "\n",
    "将以上两个指标归一化后直接相加作为社会宜居性得分，并按照得分降序排列给出结果"
   ]
  },
  {
   "cell_type": "code",
   "execution_count": null,
   "id": "46807c1c",
   "metadata": {},
   "outputs": [],
   "source": [
    "import geopandas as gpd\n",
    "import numpy as np"
   ]
  },
  {
   "cell_type": "code",
   "execution_count": null,
   "id": "5f77ddf9",
   "metadata": {},
   "outputs": [],
   "source": []
  }
 ],
 "metadata": {
  "interpreter": {
   "hash": "a2df042b44aa85d609df1c9055086e9a464cae990d1c6ea9d548315e572d098b"
  },
  "kernelspec": {
   "display_name": "Python 3 (ipykernel)",
   "language": "python",
   "name": "python3"
  },
  "language_info": {
   "codemirror_mode": {
    "name": "ipython",
    "version": 3
   },
   "file_extension": ".py",
   "mimetype": "text/x-python",
   "name": "python",
   "nbconvert_exporter": "python",
   "pygments_lexer": "ipython3",
   "version": "3.8.5"
  }
 },
 "nbformat": 4,
 "nbformat_minor": 5
}
