{
 "cells": [
  {
   "cell_type": "markdown",
   "id": "d7a781c6",
   "metadata": {},
   "source": [
    "# Q1\n",
    "\n",
    "参考数据中给出了拱墅区街道划分（示意）`gongshu.geojson`和拱墅区POI数据（示意）`gs_poi.geojson`,\n",
    "\n",
    "请根据这两个文件，按以下指标对拱墅区各街道的社会宜居性做初略的评价：\n",
    "\n",
    "- 辖区内小学密度：\n",
    "    - 辖区内小学的POI数据KIND6属性为`'160102'`\n",
    "\n",
    "\n",
    "- 综合医院()的覆盖密度：\n",
    "    - 认为综合医院的覆盖范围为1600米\n",
    "    - 综合医院的POI数据KIND6属性为`'170101'`\n",
    "\n",
    "将以上两个指标归一化后直接相加作为社会宜居性得分，并按照得分降序排列给出结果"
   ]
  },
  {
   "cell_type": "code",
   "execution_count": null,
   "id": "46807c1c",
   "metadata": {},
   "outputs": [],
   "source": [
    "import geopandas as gpd\n",
    "import numpy as np\n",
    "import pandas as pd"
   ]
  },
  {
   "cell_type": "code",
   "execution_count": null,
   "id": "5f77ddf9",
   "metadata": {},
   "outputs": [],
   "source": [
    "gongshu_street = gpd.read_file('data/gongshu.geojson')\n",
    "gongshu_poi = gpd.read_file('data/gs_poi.geojson')\n",
    "gongshu_hospital = gongshu_poi.loc[gongshu_poi['KIND6'] == '170101']\n",
    "gongshu_hospital.geometry = gongshu_hospital.to_crs(crs='EPSG:32651').buffer(1600)"
   ]
  },
  {
   "cell_type": "code",
   "execution_count": null,
   "id": "9894f281",
   "metadata": {},
   "outputs": [],
   "source": [
    "gongshu_hospital = gongshu_hospital.overlay(gongshu_street.to_crs(crs='EPSG:32651'), how='identity')\n",
    "gongshu_hospital['area'] = gongshu_hospital.area\n",
    "gongshu_school = gongshu_poi.loc[gongshu_poi['KIND6']  == '160102'].overlay(gongshu_street, how='identity')"
   ]
  },
  {
   "cell_type": "code",
   "execution_count": null,
   "id": "25eca125",
   "metadata": {},
   "outputs": [],
   "source": [
    "df = pd.DataFrame(columns=['Name', 'Hospital', 'School'])\n",
    "for i in range(len(gongshu_street.index)):\n",
    "    street_name = gongshu_street.iloc[i]['政区名称']\n",
    "    street_hospital = gongshu_hospital.loc[gongshu_hospital['政区名称'] == street_name]\n",
    "    street_school = gongshu_school.loc[gongshu_school['政区名称'] == street_name]\n",
    "    df.loc[i] = [street_name, street_hospital['area'].sum(), len(street_school.index)]\n",
    "df"
   ]
  },
  {
   "cell_type": "code",
   "execution_count": null,
   "id": "dbabca9b",
   "metadata": {},
   "outputs": [],
   "source": [
    "Livability = []\n",
    "max_school, min_school = df['School'].max(), df['School'].min()\n",
    "max_hospital, min_hospital = df['Hospital'].max(), df['Hospital'].min()\n",
    "for i in range(len(df.index)):\n",
    "    df.loc[i, 'Hospital'] = (df.iloc[i].Hospital - min_hospital) / (max_hospital - min_hospital)\n",
    "    df.loc[i, 'School'] = (df.iloc[i].School - min_school) / (max_school - min_school)\n",
    "    Livability.append(df.iloc[i].Hospital + df.iloc[i].School)\n",
    "df['Livability'] = Livability\n",
    "df.sort_values(by=['Livability'], ascending=False)"
   ]
  }
 ],
 "metadata": {
  "interpreter": {
   "hash": "ab098b425d86cf93d9d19d6a85d4597b16239c1e6f1aa5525c545e53afc99424"
  },
  "kernelspec": {
   "display_name": "Python 3.9.12 64-bit",
   "language": "python",
   "name": "python3"
  },
  "language_info": {
   "codemirror_mode": {
    "name": "ipython",
    "version": 3
   },
   "file_extension": ".py",
   "mimetype": "text/x-python",
   "name": "python",
   "nbconvert_exporter": "python",
   "pygments_lexer": "ipython3",
   "version": "3.7.13"
  }
 },
 "nbformat": 4,
 "nbformat_minor": 5
}
